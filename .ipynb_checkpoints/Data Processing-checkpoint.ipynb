import pandas as pd
moses_smiles = pd.read_csv('./datasets/moses_dataset_v1.csv')
moses_smiles.drop(['SPLIT'], axis=1, inplace=True)
print(moses_smiles.shape)
moses_smiles.columns = ['smiles']
moses_smiles.head()
(1936962, 1)
smiles
0	CCCS(=O)c1ccc2[nH]c(=NC(=O)OC)[nH]c2c1
1	CC(C)(C)C(=O)C(Oc1ccc(Cl)cc1)n1ccnc1
2	CC1C2CCC(C2)C1CN(CCO)C(=O)c1ccc(Cl)cc1
3	Cc1c(Cl)cccc1Nc1ncccc1C(=O)OCC(O)CO
4	Cn1cnc2c1c(=O)n(CC(O)CO)c(=O)n2C
chembl_smiles = pd.read_csv('./datasets/chembl_26.csv')
print(chembl_smiles.shape)
chembl_smiles.columns = ['smiles']
chembl_smiles.head()
(1048574, 1)
smiles
0	B.CC(=O)OC1CN2CCC1CC2
1	BC#N.BC#N.CN(C)CCCCCCCCCCCCCCN(C)C
2	BC#N.BC#N.CN(C)CCCCCCCCCCCCN(C)C
3	BC#N.BC#N.CN(C)CCCCCCCCCCN(C)C
4	BC#N.C=CCCCCN(C)C
possible_smiles = pd.read_csv('./datasets/possible_inhibitors.csv')
possible_smiles = possible_smiles[['Canonical Smiles']]
possible_smiles.columns = ['smiles']
possible_smiles.dropna(inplace=True)
print(possible_smiles.shape)
possible_smiles.head()

possible_smiles.to_csv(r'./datasets/possible_inhibitors.smi', header=None, index=None, sep='\t')
(32, 1)
smiles = moses_smiles.append(chembl_smiles)
smiles = smiles.append(possible_smiles)
print(smiles.shape)
smiles.dropna(inplace=True)
smiles.drop_duplicates(inplace=True)
smiles.head()
(2985568, 1)
smiles
0	CCCS(=O)c1ccc2[nH]c(=NC(=O)OC)[nH]c2c1
1	CC(C)(C)C(=O)C(Oc1ccc(Cl)cc1)n1ccnc1
2	CC1C2CCC(C2)C1CN(CCO)C(=O)c1ccc(Cl)cc1
3	Cc1c(Cl)cccc1Nc1ncccc1C(=O)OCC(O)CO
4	Cn1cnc2c1c(=O)n(CC(O)CO)c(=O)n2C
smiles.to_csv(r'./datasets/dataset.smi', header=None, index=None, sep='\t')
 
