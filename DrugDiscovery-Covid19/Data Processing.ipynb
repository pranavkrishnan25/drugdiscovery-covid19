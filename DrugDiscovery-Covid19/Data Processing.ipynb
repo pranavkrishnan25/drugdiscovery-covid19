{
 "cells": [
  {
   "cell_type": "code",
   "execution_count": 1,
   "metadata": {},
   "outputs": [],
   "source": [
    "import pandas as pd"
   ]
  },
  {
   "cell_type": "code",
   "execution_count": 2,
   "metadata": {},
   "outputs": [
    {
     "name": "stdout",
     "output_type": "stream",
     "text": [
      "(1936962, 1)\n"
     ]
    },
    {
     "data": {
      "text/html": [
       "<div>\n",
       "<style scoped>\n",
       "    .dataframe tbody tr th:only-of-type {\n",
       "        vertical-align: middle;\n",
       "    }\n",
       "\n",
       "    .dataframe tbody tr th {\n",
       "        vertical-align: top;\n",
       "    }\n",
       "\n",
       "    .dataframe thead th {\n",
       "        text-align: right;\n",
       "    }\n",
       "</style>\n",
       "<table border=\"1\" class=\"dataframe\">\n",
       "  <thead>\n",
       "    <tr style=\"text-align: right;\">\n",
       "      <th></th>\n",
       "      <th>smiles</th>\n",
       "    </tr>\n",
       "  </thead>\n",
       "  <tbody>\n",
       "    <tr>\n",
       "      <td>0</td>\n",
       "      <td>CCCS(=O)c1ccc2[nH]c(=NC(=O)OC)[nH]c2c1</td>\n",
       "    </tr>\n",
       "    <tr>\n",
       "      <td>1</td>\n",
       "      <td>CC(C)(C)C(=O)C(Oc1ccc(Cl)cc1)n1ccnc1</td>\n",
       "    </tr>\n",
       "    <tr>\n",
       "      <td>2</td>\n",
       "      <td>CC1C2CCC(C2)C1CN(CCO)C(=O)c1ccc(Cl)cc1</td>\n",
       "    </tr>\n",
       "    <tr>\n",
       "      <td>3</td>\n",
       "      <td>Cc1c(Cl)cccc1Nc1ncccc1C(=O)OCC(O)CO</td>\n",
       "    </tr>\n",
       "    <tr>\n",
       "      <td>4</td>\n",
       "      <td>Cn1cnc2c1c(=O)n(CC(O)CO)c(=O)n2C</td>\n",
       "    </tr>\n",
       "  </tbody>\n",
       "</table>\n",
       "</div>"
      ],
      "text/plain": [
       "                                   smiles\n",
       "0  CCCS(=O)c1ccc2[nH]c(=NC(=O)OC)[nH]c2c1\n",
       "1    CC(C)(C)C(=O)C(Oc1ccc(Cl)cc1)n1ccnc1\n",
       "2  CC1C2CCC(C2)C1CN(CCO)C(=O)c1ccc(Cl)cc1\n",
       "3     Cc1c(Cl)cccc1Nc1ncccc1C(=O)OCC(O)CO\n",
       "4        Cn1cnc2c1c(=O)n(CC(O)CO)c(=O)n2C"
      ]
     },
     "execution_count": 2,
     "metadata": {},
     "output_type": "execute_result"
    }
   ],
   "source": [
    "moses_smiles = pd.read_csv('./datasets/moses_dataset_v1.csv')\n",
    "moses_smiles.drop(['SPLIT'], axis=1, inplace=True)\n",
    "print(moses_smiles.shape)\n",
    "moses_smiles.columns = ['smiles']\n",
    "moses_smiles.head()"
   ]
  },
  {
   "cell_type": "code",
   "execution_count": 3,
   "metadata": {},
   "outputs": [
    {
     "name": "stdout",
     "output_type": "stream",
     "text": [
      "(1048574, 1)\n"
     ]
    },
    {
     "data": {
      "text/html": [
       "<div>\n",
       "<style scoped>\n",
       "    .dataframe tbody tr th:only-of-type {\n",
       "        vertical-align: middle;\n",
       "    }\n",
       "\n",
       "    .dataframe tbody tr th {\n",
       "        vertical-align: top;\n",
       "    }\n",
       "\n",
       "    .dataframe thead th {\n",
       "        text-align: right;\n",
       "    }\n",
       "</style>\n",
       "<table border=\"1\" class=\"dataframe\">\n",
       "  <thead>\n",
       "    <tr style=\"text-align: right;\">\n",
       "      <th></th>\n",
       "      <th>smiles</th>\n",
       "    </tr>\n",
       "  </thead>\n",
       "  <tbody>\n",
       "    <tr>\n",
       "      <td>0</td>\n",
       "      <td>B.CC(=O)OC1CN2CCC1CC2</td>\n",
       "    </tr>\n",
       "    <tr>\n",
       "      <td>1</td>\n",
       "      <td>BC#N.BC#N.CN(C)CCCCCCCCCCCCCCN(C)C</td>\n",
       "    </tr>\n",
       "    <tr>\n",
       "      <td>2</td>\n",
       "      <td>BC#N.BC#N.CN(C)CCCCCCCCCCCCN(C)C</td>\n",
       "    </tr>\n",
       "    <tr>\n",
       "      <td>3</td>\n",
       "      <td>BC#N.BC#N.CN(C)CCCCCCCCCCN(C)C</td>\n",
       "    </tr>\n",
       "    <tr>\n",
       "      <td>4</td>\n",
       "      <td>BC#N.C=CCCCCN(C)C</td>\n",
       "    </tr>\n",
       "  </tbody>\n",
       "</table>\n",
       "</div>"
      ],
      "text/plain": [
       "                               smiles\n",
       "0               B.CC(=O)OC1CN2CCC1CC2\n",
       "1  BC#N.BC#N.CN(C)CCCCCCCCCCCCCCN(C)C\n",
       "2    BC#N.BC#N.CN(C)CCCCCCCCCCCCN(C)C\n",
       "3      BC#N.BC#N.CN(C)CCCCCCCCCCN(C)C\n",
       "4                   BC#N.C=CCCCCN(C)C"
      ]
     },
     "execution_count": 3,
     "metadata": {},
     "output_type": "execute_result"
    }
   ],
   "source": [
    "chembl_smiles = pd.read_csv('./datasets/chembl_26.csv')\n",
    "print(chembl_smiles.shape)\n",
    "chembl_smiles.columns = ['smiles']\n",
    "chembl_smiles.head()"
   ]
  },
  {
   "cell_type": "code",
   "execution_count": 2,
   "metadata": {},
   "outputs": [
    {
     "name": "stdout",
     "output_type": "stream",
     "text": [
      "(32, 1)\n"
     ]
    }
   ],
   "source": [
    "possible_smiles = pd.read_csv('./datasets/possible_inhibitors.csv')\n",
    "possible_smiles = possible_smiles[['Canonical Smiles']]\n",
    "possible_smiles.columns = ['smiles']\n",
    "possible_smiles.dropna(inplace=True)\n",
    "print(possible_smiles.shape)\n",
    "possible_smiles.head()\n",
    "\n",
    "possible_smiles.to_csv(r'./datasets/possible_inhibitors.smi', header=None, index=None, sep='\\t')"
   ]
  },
  {
   "cell_type": "code",
   "execution_count": 21,
   "metadata": {},
   "outputs": [
    {
     "name": "stdout",
     "output_type": "stream",
     "text": [
      "(2985568, 1)\n"
     ]
    },
    {
     "data": {
      "text/html": [
       "<div>\n",
       "<style scoped>\n",
       "    .dataframe tbody tr th:only-of-type {\n",
       "        vertical-align: middle;\n",
       "    }\n",
       "\n",
       "    .dataframe tbody tr th {\n",
       "        vertical-align: top;\n",
       "    }\n",
       "\n",
       "    .dataframe thead th {\n",
       "        text-align: right;\n",
       "    }\n",
       "</style>\n",
       "<table border=\"1\" class=\"dataframe\">\n",
       "  <thead>\n",
       "    <tr style=\"text-align: right;\">\n",
       "      <th></th>\n",
       "      <th>smiles</th>\n",
       "    </tr>\n",
       "  </thead>\n",
       "  <tbody>\n",
       "    <tr>\n",
       "      <td>0</td>\n",
       "      <td>CCCS(=O)c1ccc2[nH]c(=NC(=O)OC)[nH]c2c1</td>\n",
       "    </tr>\n",
       "    <tr>\n",
       "      <td>1</td>\n",
       "      <td>CC(C)(C)C(=O)C(Oc1ccc(Cl)cc1)n1ccnc1</td>\n",
       "    </tr>\n",
       "    <tr>\n",
       "      <td>2</td>\n",
       "      <td>CC1C2CCC(C2)C1CN(CCO)C(=O)c1ccc(Cl)cc1</td>\n",
       "    </tr>\n",
       "    <tr>\n",
       "      <td>3</td>\n",
       "      <td>Cc1c(Cl)cccc1Nc1ncccc1C(=O)OCC(O)CO</td>\n",
       "    </tr>\n",
       "    <tr>\n",
       "      <td>4</td>\n",
       "      <td>Cn1cnc2c1c(=O)n(CC(O)CO)c(=O)n2C</td>\n",
       "    </tr>\n",
       "  </tbody>\n",
       "</table>\n",
       "</div>"
      ],
      "text/plain": [
       "                                   smiles\n",
       "0  CCCS(=O)c1ccc2[nH]c(=NC(=O)OC)[nH]c2c1\n",
       "1    CC(C)(C)C(=O)C(Oc1ccc(Cl)cc1)n1ccnc1\n",
       "2  CC1C2CCC(C2)C1CN(CCO)C(=O)c1ccc(Cl)cc1\n",
       "3     Cc1c(Cl)cccc1Nc1ncccc1C(=O)OCC(O)CO\n",
       "4        Cn1cnc2c1c(=O)n(CC(O)CO)c(=O)n2C"
      ]
     },
     "execution_count": 21,
     "metadata": {},
     "output_type": "execute_result"
    }
   ],
   "source": [
    "smiles = moses_smiles.append(chembl_smiles)\n",
    "smiles = smiles.append(possible_smiles)\n",
    "print(smiles.shape)\n",
    "smiles.dropna(inplace=True)\n",
    "smiles.drop_duplicates(inplace=True)\n",
    "smiles.head()"
   ]
  },
  {
   "cell_type": "code",
   "execution_count": 22,
   "metadata": {},
   "outputs": [],
   "source": [
    "smiles.to_csv(r'./datasets/dataset.smi', header=None, index=None, sep='\\t')"
   ]
  },
  {
   "cell_type": "code",
   "execution_count": 1,
   "metadata": {},
   "outputs": [
    {
     "name": "stdout",
     "output_type": "stream",
     "text": [
      "test\n"
     ]
    }
   ],
   "source": [
    "print(\"test\")"
   ]
  },
  {
   "cell_type": "code",
   "execution_count": 29,
   "metadata": {},
   "outputs": [
    {
     "data": {
      "text/html": [
       "<style  type=\"text/css\" >\n",
       "    #T_01538b92_14c7_11eb_9923_58fb84dedafe th {\n",
       "          text-align: left;\n",
       "    }    #T_01538b92_14c7_11eb_9923_58fb84dedaferow0_col0 {\n",
       "            text-align:  left;\n",
       "        }    #T_01538b92_14c7_11eb_9923_58fb84dedaferow1_col0 {\n",
       "            text-align:  left;\n",
       "        }    #T_01538b92_14c7_11eb_9923_58fb84dedaferow2_col0 {\n",
       "            text-align:  left;\n",
       "        }    #T_01538b92_14c7_11eb_9923_58fb84dedaferow3_col0 {\n",
       "            text-align:  left;\n",
       "        }    #T_01538b92_14c7_11eb_9923_58fb84dedaferow4_col0 {\n",
       "            text-align:  left;\n",
       "        }    #T_01538b92_14c7_11eb_9923_58fb84dedaferow5_col0 {\n",
       "            text-align:  left;\n",
       "        }    #T_01538b92_14c7_11eb_9923_58fb84dedaferow6_col0 {\n",
       "            text-align:  left;\n",
       "        }    #T_01538b92_14c7_11eb_9923_58fb84dedaferow7_col0 {\n",
       "            text-align:  left;\n",
       "        }    #T_01538b92_14c7_11eb_9923_58fb84dedaferow8_col0 {\n",
       "            text-align:  left;\n",
       "        }    #T_01538b92_14c7_11eb_9923_58fb84dedaferow9_col0 {\n",
       "            text-align:  left;\n",
       "        }    #T_01538b92_14c7_11eb_9923_58fb84dedaferow10_col0 {\n",
       "            text-align:  left;\n",
       "        }    #T_01538b92_14c7_11eb_9923_58fb84dedaferow11_col0 {\n",
       "            text-align:  left;\n",
       "        }    #T_01538b92_14c7_11eb_9923_58fb84dedaferow12_col0 {\n",
       "            text-align:  left;\n",
       "        }    #T_01538b92_14c7_11eb_9923_58fb84dedaferow13_col0 {\n",
       "            text-align:  left;\n",
       "        }    #T_01538b92_14c7_11eb_9923_58fb84dedaferow14_col0 {\n",
       "            text-align:  left;\n",
       "        }    #T_01538b92_14c7_11eb_9923_58fb84dedaferow15_col0 {\n",
       "            text-align:  left;\n",
       "        }    #T_01538b92_14c7_11eb_9923_58fb84dedaferow16_col0 {\n",
       "            text-align:  left;\n",
       "        }    #T_01538b92_14c7_11eb_9923_58fb84dedaferow17_col0 {\n",
       "            text-align:  left;\n",
       "        }    #T_01538b92_14c7_11eb_9923_58fb84dedaferow18_col0 {\n",
       "            text-align:  left;\n",
       "        }    #T_01538b92_14c7_11eb_9923_58fb84dedaferow19_col0 {\n",
       "            text-align:  left;\n",
       "        }    #T_01538b92_14c7_11eb_9923_58fb84dedaferow20_col0 {\n",
       "            text-align:  left;\n",
       "        }    #T_01538b92_14c7_11eb_9923_58fb84dedaferow21_col0 {\n",
       "            text-align:  left;\n",
       "        }    #T_01538b92_14c7_11eb_9923_58fb84dedaferow22_col0 {\n",
       "            text-align:  left;\n",
       "        }    #T_01538b92_14c7_11eb_9923_58fb84dedaferow23_col0 {\n",
       "            text-align:  left;\n",
       "        }    #T_01538b92_14c7_11eb_9923_58fb84dedaferow24_col0 {\n",
       "            text-align:  left;\n",
       "        }    #T_01538b92_14c7_11eb_9923_58fb84dedaferow25_col0 {\n",
       "            text-align:  left;\n",
       "        }    #T_01538b92_14c7_11eb_9923_58fb84dedaferow26_col0 {\n",
       "            text-align:  left;\n",
       "        }    #T_01538b92_14c7_11eb_9923_58fb84dedaferow27_col0 {\n",
       "            text-align:  left;\n",
       "        }    #T_01538b92_14c7_11eb_9923_58fb84dedaferow28_col0 {\n",
       "            text-align:  left;\n",
       "        }    #T_01538b92_14c7_11eb_9923_58fb84dedaferow29_col0 {\n",
       "            text-align:  left;\n",
       "        }    #T_01538b92_14c7_11eb_9923_58fb84dedaferow30_col0 {\n",
       "            text-align:  left;\n",
       "        }</style><table id=\"T_01538b92_14c7_11eb_9923_58fb84dedafe\" ><thead>    <tr>        <th class=\"blank level0\" ></th>        <th class=\"col_heading level0 col0\" >BioJupies Results</th>    </tr></thead><tbody>\n",
       "                <tr>\n",
       "                        <th id=\"T_01538b92_14c7_11eb_9923_58fb84dedafelevel0_row0\" class=\"row_heading level0 row0\" >0</th>\n",
       "                        <td id=\"T_01538b92_14c7_11eb_9923_58fb84dedaferow0_col0\" class=\"data row0 col0\" >C1=NC2=C(N1COCCO)N=C(NC2=O)N</td>\n",
       "            </tr>\n",
       "            <tr>\n",
       "                        <th id=\"T_01538b92_14c7_11eb_9923_58fb84dedafelevel0_row1\" class=\"row_heading level0 row1\" >1</th>\n",
       "                        <td id=\"T_01538b92_14c7_11eb_9923_58fb84dedaferow1_col0\" class=\"data row1 col0\" >CCC(CC)OC1C=C(CC(C1NC(=O)C)N)C(=O)OCC.OP(=O)(O)O</td>\n",
       "            </tr>\n",
       "            <tr>\n",
       "                        <th id=\"T_01538b92_14c7_11eb_9923_58fb84dedafelevel0_row2\" class=\"row_heading level0 row2\" >2</th>\n",
       "                        <td id=\"T_01538b92_14c7_11eb_9923_58fb84dedaferow2_col0\" class=\"data row2 col0\" >C1=NC(=NN1C2C(C(C(O2)CO)O)O)C(=O)N</td>\n",
       "            </tr>\n",
       "            <tr>\n",
       "                        <th id=\"T_01538b92_14c7_11eb_9923_58fb84dedafelevel0_row3\" class=\"row_heading level0 row3\" >3</th>\n",
       "                        <td id=\"T_01538b92_14c7_11eb_9923_58fb84dedaferow3_col0\" class=\"data row3 col0\" >CC1C=CC=CC=CC=CC=CC=CC=CC(CC2C(C(CC(O2)(CC(CC(C(CCC(CC(CC(=O)OC(C(C1O)C)C)O)O)O)O)O)O)O)C(=O)O)OC3C(C(C(C(O3)C)O)N)O</td>\n",
       "            </tr>\n",
       "            <tr>\n",
       "                        <th id=\"T_01538b92_14c7_11eb_9923_58fb84dedafelevel0_row4\" class=\"row_heading level0 row4\" >4</th>\n",
       "                        <td id=\"T_01538b92_14c7_11eb_9923_58fb84dedaferow4_col0\" class=\"data row4 col0\" >CN(CC1=CN=C2C(=N1)C(=NC(=N2)N)N)C3=CC=C(C=C3)C(=O)NC(CCC(=O)O)C(=O)O</td>\n",
       "            </tr>\n",
       "            <tr>\n",
       "                        <th id=\"T_01538b92_14c7_11eb_9923_58fb84dedafelevel0_row5\" class=\"row_heading level0 row5\" >5</th>\n",
       "                        <td id=\"T_01538b92_14c7_11eb_9923_58fb84dedaferow5_col0\" class=\"data row5 col0\" >CCC1C(C(C(N(CC(CC(C(C(C(C(C(=O)O1)C)OC2CC(C(C(O2)C)O)(C)OC)C)OC3C(C(CC(O3)C)N(C)C)O)(C)O)C)C)C)O)(C)O</td>\n",
       "            </tr>\n",
       "            <tr>\n",
       "                        <th id=\"T_01538b92_14c7_11eb_9923_58fb84dedafelevel0_row6\" class=\"row_heading level0 row6\" >6</th>\n",
       "                        <td id=\"T_01538b92_14c7_11eb_9923_58fb84dedaferow6_col0\" class=\"data row6 col0\" >CC1(C(N2C(S1)C(C2=O)NC(=O)C3=C(C=CC=C3OC)OC)C(=O)O)C</td>\n",
       "            </tr>\n",
       "            <tr>\n",
       "                        <th id=\"T_01538b92_14c7_11eb_9923_58fb84dedafelevel0_row7\" class=\"row_heading level0 row7\" >7</th>\n",
       "                        <td id=\"T_01538b92_14c7_11eb_9923_58fb84dedaferow7_col0\" class=\"data row7 col0\" >CC1=NC=C(N1CCO)[N+](=O)[O-]</td>\n",
       "            </tr>\n",
       "            <tr>\n",
       "                        <th id=\"T_01538b92_14c7_11eb_9923_58fb84dedafelevel0_row8\" class=\"row_heading level0 row8\" >8</th>\n",
       "                        <td id=\"T_01538b92_14c7_11eb_9923_58fb84dedaferow8_col0\" class=\"data row8 col0\" >C=C1C(CC(C1CO)O)N2C=NC3=C2N=C(NC3=O)N</td>\n",
       "            </tr>\n",
       "            <tr>\n",
       "                        <th id=\"T_01538b92_14c7_11eb_9923_58fb84dedafelevel0_row9\" class=\"row_heading level0 row9\" >9</th>\n",
       "                        <td id=\"T_01538b92_14c7_11eb_9923_58fb84dedaferow9_col0\" class=\"data row9 col0\" >CCC1C(C(C(C(=O)C(CC(C(C(C(C(C(=O)O1)C)OC2CC(C(C(O2)C)O)(C)OC)C)OC3C(C(CC(O3)C)N(C)C)O)(C)O)C)C)O)(C)O</td>\n",
       "            </tr>\n",
       "            <tr>\n",
       "                        <th id=\"T_01538b92_14c7_11eb_9923_58fb84dedafelevel0_row10\" class=\"row_heading level0 row10\" >10</th>\n",
       "                        <td id=\"T_01538b92_14c7_11eb_9923_58fb84dedaferow10_col0\" class=\"data row10 col0\" >CC(=O)OCC(CCN1C=NC2=CN=C(N=C21)N)COC(=O)C</td>\n",
       "            </tr>\n",
       "            <tr>\n",
       "                        <th id=\"T_01538b92_14c7_11eb_9923_58fb84dedafelevel0_row11\" class=\"row_heading level0 row11\" >11</th>\n",
       "                        <td id=\"T_01538b92_14c7_11eb_9923_58fb84dedaferow11_col0\" class=\"data row11 col0\" >CC(=O)NC1C(C=C(OC1C(C(CO)O)O)C(=O)O)N=C(N)N</td>\n",
       "            </tr>\n",
       "            <tr>\n",
       "                        <th id=\"T_01538b92_14c7_11eb_9923_58fb84dedafelevel0_row12\" class=\"row_heading level0 row12\" >12</th>\n",
       "                        <td id=\"T_01538b92_14c7_11eb_9923_58fb84dedaferow12_col0\" class=\"data row12 col0\" >CC1=CC(=NO1)NS(=O)(=O)C2=CC=C(C=C2)N.COC1=CC(=CC(=C1OC)OC)CC2=CN=C(N=C2N)N</td>\n",
       "            </tr>\n",
       "            <tr>\n",
       "                        <th id=\"T_01538b92_14c7_11eb_9923_58fb84dedafelevel0_row13\" class=\"row_heading level0 row13\" >13</th>\n",
       "                        <td id=\"T_01538b92_14c7_11eb_9923_58fb84dedaferow13_col0\" class=\"data row13 col0\" >CC(C)C(C(=O)N1CC2(CC2)CC1C3=NC=C(N3)C4=CC5=C(C=C4)C6=C(C5(F)F)C=C(C=C6)C7=CC8=C(C=C7)N=C(N8)C9C1CCC(C1)N9C(=O)C(C(C)C)NC(=O)OC)NC(=O)OC.CC(C)OC(=O)C(C)NP(=O)(OCC1C(C(C(O1)N2C=CC(=O)NC2=O)(C)F)O)OC3=CC=CC=C3</td>\n",
       "            </tr>\n",
       "            <tr>\n",
       "                        <th id=\"T_01538b92_14c7_11eb_9923_58fb84dedafelevel0_row14\" class=\"row_heading level0 row14\" >14</th>\n",
       "                        <td id=\"T_01538b92_14c7_11eb_9923_58fb84dedaferow14_col0\" class=\"data row14 col0\" >C1=CC(=CC=C1C(=N)N)OCCCCCOC2=CC=C(C=C2)C(=N)N.C(CS(=O)(=O)O)O.C(CS(=O)(=O)O)O</td>\n",
       "            </tr>\n",
       "            <tr>\n",
       "                        <th id=\"T_01538b92_14c7_11eb_9923_58fb84dedafelevel0_row15\" class=\"row_heading level0 row15\" >15</th>\n",
       "                        <td id=\"T_01538b92_14c7_11eb_9923_58fb84dedaferow15_col0\" class=\"data row15 col0\" >CCN(CCCC(C)NC1=C2C=CC(=CC2=NC=C1)Cl)CCO</td>\n",
       "            </tr>\n",
       "            <tr>\n",
       "                        <th id=\"T_01538b92_14c7_11eb_9923_58fb84dedafelevel0_row16\" class=\"row_heading level0 row16\" >16</th>\n",
       "                        <td id=\"T_01538b92_14c7_11eb_9923_58fb84dedaferow16_col0\" class=\"data row16 col0\" >CC1C(C(CC(O1)OC2C(C(C(OC2OC3=C4C=C5C=C3OC6=C(C=C(C=C6)C(C(C(=O)NC(C(=O)NC5C(=O)NC7C8=CC(=C(C=C8)O)C9=C(C=C(C=C9O)O)C(NC(=O)C(C(C1=CC(=C(O4)C=C1)Cl)O)NC7=O)C(=O)O)CC(=O)N)NC(=O)C(CC(C)C)NC)O)Cl)CO)O)O)(C)N)O</td>\n",
       "            </tr>\n",
       "            <tr>\n",
       "                        <th id=\"T_01538b92_14c7_11eb_9923_58fb84dedafelevel0_row17\" class=\"row_heading level0 row17\" >17</th>\n",
       "                        <td id=\"T_01538b92_14c7_11eb_9923_58fb84dedaferow17_col0\" class=\"data row17 col0\" >CCS(=O)(=O)CCN1C(=NC=C1[N+](=O)[O-])C</td>\n",
       "            </tr>\n",
       "            <tr>\n",
       "                        <th id=\"T_01538b92_14c7_11eb_9923_58fb84dedafelevel0_row18\" class=\"row_heading level0 row18\" >18</th>\n",
       "                        <td id=\"T_01538b92_14c7_11eb_9923_58fb84dedaferow18_col0\" class=\"data row18 col0\" >CC(CN1C=NC2=C(N=CN=C21)N)OCP(=O)(O)O</td>\n",
       "            </tr>\n",
       "            <tr>\n",
       "                        <th id=\"T_01538b92_14c7_11eb_9923_58fb84dedafelevel0_row19\" class=\"row_heading level0 row19\" >19</th>\n",
       "                        <td id=\"T_01538b92_14c7_11eb_9923_58fb84dedaferow19_col0\" class=\"data row19 col0\" >CCC1C(C(C(N(CC(CC(C(C(C(C(C(=O)O1)C)OC2CC(C(C(O2)C)O)(C)OC)C)OC3C(C(CC(O3)C)N(C)C)O)(C)O)C)C)C)O)(C)O</td>\n",
       "            </tr>\n",
       "            <tr>\n",
       "                        <th id=\"T_01538b92_14c7_11eb_9923_58fb84dedafelevel0_row20\" class=\"row_heading level0 row20\" >20</th>\n",
       "                        <td id=\"T_01538b92_14c7_11eb_9923_58fb84dedaferow20_col0\" class=\"data row20 col0\" >CC(C)C(C(=O)OCCOCN1C=NC2=C1N=C(NC2=O)N)N</td>\n",
       "            </tr>\n",
       "            <tr>\n",
       "                        <th id=\"T_01538b92_14c7_11eb_9923_58fb84dedafelevel0_row21\" class=\"row_heading level0 row21\" >21</th>\n",
       "                        <td id=\"T_01538b92_14c7_11eb_9923_58fb84dedaferow21_col0\" class=\"data row21 col0\" >CCC(CC)C(C1C(CC(C1O)C(=O)O)N=C(N)N)NC(=O)C</td>\n",
       "            </tr>\n",
       "            <tr>\n",
       "                        <th id=\"T_01538b92_14c7_11eb_9923_58fb84dedafelevel0_row22\" class=\"row_heading level0 row22\" >22</th>\n",
       "                        <td id=\"T_01538b92_14c7_11eb_9923_58fb84dedaferow22_col0\" class=\"data row22 col0\" >CCCCCCCCCCCCCCCCOP(=O)([O-])OCC[N+](C)(C)C</td>\n",
       "            </tr>\n",
       "            <tr>\n",
       "                        <th id=\"T_01538b92_14c7_11eb_9923_58fb84dedafelevel0_row23\" class=\"row_heading level0 row23\" >23</th>\n",
       "                        <td id=\"T_01538b92_14c7_11eb_9923_58fb84dedaferow23_col0\" class=\"data row23 col0\" >CCCCCCCCCCCCCCCCCCCCCCO</td>\n",
       "            </tr>\n",
       "            <tr>\n",
       "                        <th id=\"T_01538b92_14c7_11eb_9923_58fb84dedafelevel0_row24\" class=\"row_heading level0 row24\" >24</th>\n",
       "                        <td id=\"T_01538b92_14c7_11eb_9923_58fb84dedaferow24_col0\" class=\"data row24 col0\" >COC(=O)OCOC1=C2C(=O)N3CCOCC3N(N2C=CC1=O)C4C5=C(CSC6=CC=CC=C46)C(=C(C=C5)F)F</td>\n",
       "            </tr>\n",
       "            <tr>\n",
       "                        <th id=\"T_01538b92_14c7_11eb_9923_58fb84dedafelevel0_row25\" class=\"row_heading level0 row25\" >25</th>\n",
       "                        <td id=\"T_01538b92_14c7_11eb_9923_58fb84dedaferow25_col0\" class=\"data row25 col0\" >C1=CC(=CC=C1C(=N)N)OCCCCCOC2=CC=C(C=C2)C(=N)N</td>\n",
       "            </tr>\n",
       "            <tr>\n",
       "                        <th id=\"T_01538b92_14c7_11eb_9923_58fb84dedafelevel0_row26\" class=\"row_heading level0 row26\" >26</th>\n",
       "                        <td id=\"T_01538b92_14c7_11eb_9923_58fb84dedaferow26_col0\" class=\"data row26 col0\" >C1=NC2=C(N1COCCO)N=C(NC2=O)N</td>\n",
       "            </tr>\n",
       "            <tr>\n",
       "                        <th id=\"T_01538b92_14c7_11eb_9923_58fb84dedafelevel0_row27\" class=\"row_heading level0 row27\" >27</th>\n",
       "                        <td id=\"T_01538b92_14c7_11eb_9923_58fb84dedaferow27_col0\" class=\"data row27 col0\" >C1C2CC3CC1CC(C2)(C3)N</td>\n",
       "            </tr>\n",
       "            <tr>\n",
       "                        <th id=\"T_01538b92_14c7_11eb_9923_58fb84dedafelevel0_row28\" class=\"row_heading level0 row28\" >28</th>\n",
       "                        <td id=\"T_01538b92_14c7_11eb_9923_58fb84dedaferow28_col0\" class=\"data row28 col0\" >C1=NNC2=C1C(=O)NC=N2</td>\n",
       "            </tr>\n",
       "            <tr>\n",
       "                        <th id=\"T_01538b92_14c7_11eb_9923_58fb84dedafelevel0_row29\" class=\"row_heading level0 row29\" >29</th>\n",
       "                        <td id=\"T_01538b92_14c7_11eb_9923_58fb84dedaferow29_col0\" class=\"data row29 col0\" >C1(C(=O)NC(=O)N1)NC(=O)N</td>\n",
       "            </tr>\n",
       "            <tr>\n",
       "                        <th id=\"T_01538b92_14c7_11eb_9923_58fb84dedafelevel0_row30\" class=\"row_heading level0 row30\" >30</th>\n",
       "                        <td id=\"T_01538b92_14c7_11eb_9923_58fb84dedaferow30_col0\" class=\"data row30 col0\" >C1=CC(=CC=C1C(=N)N)OCCCCCOC2=CC=C(C=C2)C(=N)N</td>\n",
       "            </tr>\n",
       "    </tbody></table>"
      ],
      "text/plain": [
       "<pandas.io.formats.style.Styler at 0x1ff06d63988>"
      ]
     },
     "execution_count": 29,
     "metadata": {},
     "output_type": "execute_result"
    }
   ],
   "source": [
    "pea_smiles = pd.read_csv(\"./datasets/pathway_enrichment_smiles.csv\", header=None)\n",
    "pd.set_option('display.max_colwidth', 1000)\n",
    "pea_smiles.columns = ['BioJupies Results']\n",
    "pea_smiles.style.set_properties(**{'text-align': 'left'}).set_table_styles([ dict(selector='th', props=[('text-align', 'left')] ) ])"
   ]
  },
  {
   "cell_type": "code",
   "execution_count": null,
   "metadata": {},
   "outputs": [],
   "source": []
  },
  {
   "cell_type": "code",
   "execution_count": null,
   "metadata": {},
   "outputs": [],
   "source": []
  }
 ],
 "metadata": {
  "kernelspec": {
   "display_name": "Python 3",
   "language": "python",
   "name": "python3"
  },
  "language_info": {
   "codemirror_mode": {
    "name": "ipython",
    "version": 3
   },
   "file_extension": ".py",
   "mimetype": "text/x-python",
   "name": "python",
   "nbconvert_exporter": "python",
   "pygments_lexer": "ipython3",
   "version": "3.7.7"
  }
 },
 "nbformat": 4,
 "nbformat_minor": 2
}
 
