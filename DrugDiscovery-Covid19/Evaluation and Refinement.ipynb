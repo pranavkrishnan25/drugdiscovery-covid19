{
 "cells": [
  {
   "cell_type": "markdown",
   "metadata": {},
   "source": [
    "# Description\n",
    "\n",
    "This notebook is used to process and evalutate the initial universe of generated smiles, and then retain the network applying techniques and principles from both transfer learning and genetic algorithms to increasingly improve molecule generation for the specific task of binding with cornovirus protease."
   ]
  },
  {
   "cell_type": "markdown",
   "metadata": {},
   "source": [
    "## First process initial generated smiles for PyRx analysis"
   ]
  },
  {
   "cell_type": "code",
   "execution_count": 1,
   "metadata": {},
   "outputs": [],
   "source": [
    "import pandas as pd\n",
    "from rdkit import Chem, DataStructs\n",
    "import random\n",
    "import numpy as np\n",
    "import rdkit.Chem.PropertyMol\n",
    "from rdkit.Chem import Descriptors"
   ]
  },
  {
   "cell_type": "code",
   "execution_count": null,
   "metadata": {
    "scrolled": true
   },
   "outputs": [],
   "source": [
    "gen0_table = pd.read_csv('./generations/gen0.smi',sep=',', header=None)\n",
    "gen0 = list(gen0_table[0])[0:10000]\n",
    "len(gen0)"
   ]
  },
  {
   "cell_type": "code",
   "execution_count": 2,
   "metadata": {},
   "outputs": [],
   "source": [
    "def validate_mols(list_of_smiles):\n",
    "    valid_mols = []\n",
    "    for smi in list_of_smiles:\n",
    "        mol = Chem.MolFromSmiles(smi)\n",
    "        if mol is not None:\n",
    "            valid_mols.append(mol)\n",
    "    return valid_mols\n",
    "\n",
    "def convert_mols_to_smiles(list_of_mols):\n",
    "    valid_smiles = [Chem.MolToSmiles(mol) for mol in list_of_mols]\n",
    "    return valid_smiles"
   ]
  },
  {
   "cell_type": "code",
   "execution_count": null,
   "metadata": {},
   "outputs": [],
   "source": [
    "gen0_mols = validate_mols(gen0)\n",
    "len(gen0_mols)"
   ]
  },
  {
   "cell_type": "code",
   "execution_count": 3,
   "metadata": {},
   "outputs": [],
   "source": [
    "'''Intakes a list of smiles, randomly shuffles them, then adds first thirty,\n",
    "then sets a max-similarity threshold between any new molecule and existing list\n",
    "and iteratively increases the treshold until X components are picked to ensure diveristy'''\n",
    "\n",
    "def initialize_generation_from_mols(list_of_mols,desired_length):  \n",
    "    assert desired_length >30\n",
    "    random.shuffle(list_of_mols)\n",
    "    random.shuffle(list_of_mols)\n",
    "    \n",
    "    #Prepare fingerprints for similarity calcs\n",
    "    mol_fingerprints = []\n",
    "    for mol in list_of_mols:\n",
    "        mol_fingerprints.append(Chem.RDKFingerprint(mol))\n",
    "    \n",
    "    selected_mols = list_of_mols[0:30]\n",
    "    selected_fingerprints = mol_fingerprints[0:30]\n",
    "    remaining_mols = list_of_mols[30:]\n",
    "    remaining_fingerprints = mol_fingerprints[30:]\n",
    "    \n",
    "    similarity_threshold = .05   \n",
    "    while len(selected_mols) < desired_length:\n",
    "        for fingerprint, mol in zip(remaining_fingerprints, remaining_mols):\n",
    "            max_similarity = np.max(DataStructs.BulkTanimotoSimilarity(fingerprint,selected_fingerprints))\n",
    "            if (max_similarity <= similarity_threshold) and (max_similarity < 1):\n",
    "                selected_fingerprints.append(fingerprint)\n",
    "                selected_mols.append(mol)\n",
    "        print(\"Completed loop with threshold at: \", similarity_threshold, \". Length is currently: \", len(selected_mols))\n",
    "        similarity_threshold += .05\n",
    "    return selected_mols"
   ]
  },
  {
   "cell_type": "code",
   "execution_count": null,
   "metadata": {},
   "outputs": [],
   "source": [
    "gen0_mols = initialize_generation_from_mols(gen0_mols,1000)\n",
    "print(len(gen0_mols))"
   ]
  },
  {
   "cell_type": "code",
   "execution_count": null,
   "metadata": {},
   "outputs": [],
   "source": [
    "master_table = pd.read_csv('./generations/master_results_table.csv',sep=',')\n",
    "master_table.shape[0]"
   ]
  },
  {
   "cell_type": "code",
   "execution_count": 4,
   "metadata": {},
   "outputs": [
    {
     "data": {
      "text/plain": [
       "'AAAB'"
      ]
     },
     "execution_count": 4,
     "metadata": {},
     "output_type": "execute_result"
    }
   ],
   "source": [
    "'''Certainly not opimized and not strictly necessary, but in the PyRx GUI\n",
    "molecule names would sort oddly when in any numeric order, so ordering\n",
    "molcules by a four letter code. This function iterates the four letter code.'''\n",
    "def iterate_alpha(alpha_code):\n",
    "    numbers = []\n",
    "    for letter in alpha_code:\n",
    "        number = ord(letter)\n",
    "        numbers.append(number)\n",
    "    \n",
    "    if numbers[3]+1 > 90:\n",
    "        if numbers[2]+1 > 90:\n",
    "            if numbers[1]+1 > 90:\n",
    "                if numbers[0]+1 > 90:\n",
    "                    raise ValueError('Too long for alpha code')\n",
    "                else:\n",
    "                    numbers[3] = 65\n",
    "                    numbers[2] = 65\n",
    "                    numbers[1] = 65\n",
    "                    numbers[0] = numbers[0] + 1\n",
    "            else:\n",
    "                numbers[3] = 65\n",
    "                numbers[2] = 65\n",
    "                numbers[1] = numbers[1] + 1\n",
    "        else:\n",
    "            numbers[3] = 65\n",
    "            numbers[2] = numbers[2] + 1\n",
    "    else:\n",
    "        numbers[3] = numbers[3] + 1\n",
    "    \n",
    "\n",
    "    new_code = \"\"\n",
    "    for number in numbers:\n",
    "        new_code += chr(number)\n",
    "    return new_code\n",
    "iterate_alpha('AAAA')"
   ]
  },
  {
   "cell_type": "code",
   "execution_count": 5,
   "metadata": {},
   "outputs": [],
   "source": [
    "def append_to_tracking_table(master_table,mols_to_append, source, generation):\n",
    "    # Assign IDs for tracking to each mol, and assign a pandas table entry for each\n",
    "    mols_to_export = []\n",
    "    rows_list = []\n",
    "    \n",
    "    master_table_gen = master_table[master_table['gen'] == generation]\n",
    "    if master_table_gen.shape[0] == 0:\n",
    "        id_code = 'AAAA'\n",
    "    else:\n",
    "        master_table_gen_ids = master_table_gen.sort_values('id', ascending=True)\n",
    "        master_table_gen_max_id = master_table_gen_ids.tail(1)\n",
    "        key = master_table_gen_max_id['id'].keys()[0]\n",
    "        id_code = iterate_alpha(str(master_table_gen_max_id['id'][key]))\n",
    "        \n",
    "    training_data = pd.read_csv('./datasets/dataset_cleansed.smi', header=None)\n",
    "    training_set = set(list(training_data[0]))\n",
    "    \n",
    "    for mol in mols_to_append:\n",
    "        pm = Chem.PropertyMol.PropertyMol(mol)\n",
    "        title = 'id' + str(id_code) + 'gen'+ str(generation)\n",
    "        print(title)\n",
    "        # Enables for tracking which molecule is which in PyRx GUI and PyRx results export\n",
    "        pm.SetProp('Title', title)\n",
    "        mols_to_export.append(pm)\n",
    "\n",
    "        #And track in pandas\n",
    "        mol_dict = {}\n",
    "        mol_dict['id'] = id_code\n",
    "        mol_dict['gen'] = generation\n",
    "        smile = Chem.MolToSmiles(mol)\n",
    "        assert type(smile) == type('string')\n",
    "        mol_dict['smile'] = smile\n",
    "\n",
    "        if (source!= 'hiv' and source != 'manual' and source != 'baseline') and (smile in training_set):\n",
    "            mol_dict['source'] = 'training'\n",
    "        else:\n",
    "            mol_dict['source'] = source\n",
    "        mol_dict['score'] = 99.9\n",
    "\n",
    "        rows_list.append(mol_dict)\n",
    "        id_code = iterate_alpha(id_code)\n",
    "        \n",
    "    df = pd.DataFrame(rows_list)\n",
    "    return df, mols_to_export"
   ]
  },
  {
   "cell_type": "code",
   "execution_count": null,
   "metadata": {},
   "outputs": [],
   "source": [
    "new_mols_to_test = append_to_tracking_table(master_table,gen0_mols, 'generated', 0)\n",
    "mols_for_pd = new_mols_to_test[0]\n",
    "mols_for_export = new_mols_to_test[1]\n",
    "master_table = master_table.append(mols_for_pd)\n",
    "len(mols_for_export)"
   ]
  },
  {
   "cell_type": "code",
   "execution_count": null,
   "metadata": {},
   "outputs": [],
   "source": [
    "master_table = master_table.reset_index(drop=True)\n",
    "master_table.to_csv(r'./generations/master_results_table.csv', index=False)"
   ]
  },
  {
   "cell_type": "code",
   "execution_count": null,
   "metadata": {},
   "outputs": [],
   "source": [
    "# Add HIV inhibitors manually into the table\n",
    "hiv_smiles = pd.read_csv('./datasets/possible_inhibitors.smi',sep=',', header=None)\n",
    "hiv_smiles = list(hiv_smiles[0])\n",
    "hiv_mols = validate_mols(hiv_smiles)\n",
    "\n",
    "master_table = pd.read_csv('./generations/master_results_table.csv',sep=',')\n",
    "new_mols_to_test = append_to_tracking_table(master_table,hiv_mols, 'hiv', 0)\n",
    "mols_for_pd = new_mols_to_test[0]\n",
    "mols_for_export = mols_for_export + new_mols_to_test[1]\n",
    "\n",
    "master_table = master_table.append(mols_for_pd)\n",
    "master_table = master_table.reset_index(drop=True)\n",
    "master_table.to_csv(r'./generations/master_results_table.csv', index=False)"
   ]
  },
  {
   "cell_type": "code",
   "execution_count": null,
   "metadata": {},
   "outputs": [],
   "source": [
    "# Add a few other smiles manually into the table (\"control group\" of training smiles)\n",
    "manual_smiles = pd.read_csv('./datasets/manual_testing_cleaned.smi',sep=',', header=None)\n",
    "manual_smiles = list(manual_smiles[0])\n",
    "manual_mols = validate_mols(hiv_smiles)\n",
    "\n",
    "master_table = pd.read_csv('./generations/master_results_table.csv',sep=',')\n",
    "new_mols_to_test = append_to_tracking_table(master_table,manual_mols, 'manual', 0)\n",
    "mols_for_pd = new_mols_to_test[0]\n",
    "mols_for_export = mols_for_export + new_mols_to_test[1]\n",
    "\n",
    "master_table = master_table.append(mols_for_pd)\n",
    "master_table = master_table.reset_index(drop=True)\n",
    "master_table.to_csv(r'./generations/master_results_table.csv', index=False)"
   ]
  },
  {
   "cell_type": "code",
   "execution_count": 6,
   "metadata": {},
   "outputs": [],
   "source": [
    "def write_gen_to_sdf(mols_for_export, generation, batch_size):\n",
    "    if len(mols_for_export) > batch_size:\n",
    "        batches = (len(mols_for_export) // 1000)+1\n",
    "        for i in range(0,batches):\n",
    "            batch_to_export = mols_for_export[i*batch_size:(i+1)*batch_size]\n",
    "            w = Chem.SDWriter('./generations/gen' +str(generation) + '_batch_' + str(i+1) + '.sdf')\n",
    "            for m in batch_to_export: w.write(m)\n",
    "    else:\n",
    "        w = Chem.SDWriter('./generations/gen' +str(generation) + '.sdf')\n",
    "        for m in mols_for_export:\n",
    "            w.write(m)\n",
    "    \n",
    "    # Noticed an issue where the very last line item of an sdf write is not written correctly until another arbitary write is made\n",
    "    w = Chem.SDWriter('./generations/junk/test.sdf')\n",
    "    w.write(m)\n",
    "    \n",
    "    return mols_for_export"
   ]
  },
  {
   "cell_type": "code",
   "execution_count": null,
   "metadata": {
    "scrolled": true
   },
   "outputs": [],
   "source": [
    "write_gen_to_sdf(mols_for_export, 0, 2000)\n",
    "print('ok')"
   ]
  },
  {
   "cell_type": "markdown",
   "metadata": {},
   "source": [
    "## NOW GO TO PyRx: Analyze the SDF file and create a csv of binding score results"
   ]
  },
  {
   "cell_type": "markdown",
   "metadata": {},
   "source": [
    "\n",
    "## Afterwards, process binding simulation results to 'evolve' the molecules"
   ]
  },
  {
   "cell_type": "code",
   "execution_count": 7,
   "metadata": {},
   "outputs": [],
   "source": [
    "'''This number must be MANUALLY iterated each generation. I did not write the entire process into a smooth function or loop but that would be the next steps.''' \n",
    "GLOBAL_GENERATION = 7"
   ]
  },
  {
   "cell_type": "code",
   "execution_count": 8,
   "metadata": {},
   "outputs": [
    {
     "data": {
      "text/html": [
       "<div>\n",
       "<style scoped>\n",
       "    .dataframe tbody tr th:only-of-type {\n",
       "        vertical-align: middle;\n",
       "    }\n",
       "\n",
       "    .dataframe tbody tr th {\n",
       "        vertical-align: top;\n",
       "    }\n",
       "\n",
       "    .dataframe thead th {\n",
       "        text-align: right;\n",
       "    }\n",
       "</style>\n",
       "<table border=\"1\" class=\"dataframe\">\n",
       "  <thead>\n",
       "    <tr style=\"text-align: right;\">\n",
       "      <th></th>\n",
       "      <th>id</th>\n",
       "      <th>gen</th>\n",
       "      <th>smile</th>\n",
       "      <th>source</th>\n",
       "      <th>weight</th>\n",
       "      <th>score</th>\n",
       "    </tr>\n",
       "  </thead>\n",
       "  <tbody>\n",
       "    <tr>\n",
       "      <td>3304</td>\n",
       "      <td>AARM</td>\n",
       "      <td>6</td>\n",
       "      <td>O=C(NC1CC2CC(C1)N2CCc1ccccc1)C1CC2CC(C1)C2C(=O...</td>\n",
       "      <td>generated</td>\n",
       "      <td>NaN</td>\n",
       "      <td>99.9</td>\n",
       "    </tr>\n",
       "    <tr>\n",
       "      <td>3305</td>\n",
       "      <td>AARN</td>\n",
       "      <td>6</td>\n",
       "      <td>CC1(CC(CC(O)C2(O)CCCC2)C(O)CO)CCCCCCCCCC1(O)C(...</td>\n",
       "      <td>generated</td>\n",
       "      <td>NaN</td>\n",
       "      <td>99.9</td>\n",
       "    </tr>\n",
       "    <tr>\n",
       "      <td>3306</td>\n",
       "      <td>AARO</td>\n",
       "      <td>6</td>\n",
       "      <td>O=C1CC2CCC(N1)N2CCc1ccccc1</td>\n",
       "      <td>generated</td>\n",
       "      <td>NaN</td>\n",
       "      <td>99.9</td>\n",
       "    </tr>\n",
       "    <tr>\n",
       "      <td>3307</td>\n",
       "      <td>AARP</td>\n",
       "      <td>6</td>\n",
       "      <td>CC1(C)CCCC2(C)C(CCC3CCCC3)CCCC12</td>\n",
       "      <td>generated</td>\n",
       "      <td>NaN</td>\n",
       "      <td>99.9</td>\n",
       "    </tr>\n",
       "    <tr>\n",
       "      <td>3308</td>\n",
       "      <td>AARQ</td>\n",
       "      <td>6</td>\n",
       "      <td>CC1(CC(CC(O)C2(O)CCCC2)C(O)CO)CC1CCC12CC3CC(CC...</td>\n",
       "      <td>generated</td>\n",
       "      <td>NaN</td>\n",
       "      <td>99.9</td>\n",
       "    </tr>\n",
       "  </tbody>\n",
       "</table>\n",
       "</div>"
      ],
      "text/plain": [
       "        id  gen                                              smile     source  \\\n",
       "3304  AARM    6  O=C(NC1CC2CC(C1)N2CCc1ccccc1)C1CC2CC(C1)C2C(=O...  generated   \n",
       "3305  AARN    6  CC1(CC(CC(O)C2(O)CCCC2)C(O)CO)CCCCCCCCCC1(O)C(...  generated   \n",
       "3306  AARO    6                         O=C1CC2CCC(N1)N2CCc1ccccc1  generated   \n",
       "3307  AARP    6                   CC1(C)CCCC2(C)C(CCC3CCCC3)CCCC12  generated   \n",
       "3308  AARQ    6  CC1(CC(CC(O)C2(O)CCCC2)C(O)CO)CC1CCC12CC3CC(CC...  generated   \n",
       "\n",
       "      weight  score  \n",
       "3304     NaN   99.9  \n",
       "3305     NaN   99.9  \n",
       "3306     NaN   99.9  \n",
       "3307     NaN   99.9  \n",
       "3308     NaN   99.9  "
      ]
     },
     "execution_count": 8,
     "metadata": {},
     "output_type": "execute_result"
    }
   ],
   "source": [
    "master_table = pd.read_csv('./generations/master_results_table_gen' + str(GLOBAL_GENERATION-1) + '.csv',sep=',')\n",
    "master_table.tail()"
   ]
  },
  {
   "cell_type": "code",
   "execution_count": 9,
   "metadata": {},
   "outputs": [
    {
     "data": {
      "text/html": [
       "<div>\n",
       "<style scoped>\n",
       "    .dataframe tbody tr th:only-of-type {\n",
       "        vertical-align: middle;\n",
       "    }\n",
       "\n",
       "    .dataframe tbody tr th {\n",
       "        vertical-align: top;\n",
       "    }\n",
       "\n",
       "    .dataframe thead th {\n",
       "        text-align: right;\n",
       "    }\n",
       "</style>\n",
       "<table border=\"1\" class=\"dataframe\">\n",
       "  <thead>\n",
       "    <tr style=\"text-align: right;\">\n",
       "      <th></th>\n",
       "      <th>Ligand</th>\n",
       "      <th>Binding Affinity</th>\n",
       "      <th>rmsd/ub</th>\n",
       "      <th>rmsd/lb</th>\n",
       "    </tr>\n",
       "  </thead>\n",
       "  <tbody>\n",
       "    <tr>\n",
       "      <td>0</td>\n",
       "      <td>6lu7_idAALEgen6_uff_E=7109711649.77</td>\n",
       "      <td>-18.3</td>\n",
       "      <td>0.000</td>\n",
       "      <td>0.000</td>\n",
       "    </tr>\n",
       "    <tr>\n",
       "      <td>1</td>\n",
       "      <td>6lu7_idAALEgen6_uff_E=7109711649.77</td>\n",
       "      <td>-17.9</td>\n",
       "      <td>4.841</td>\n",
       "      <td>2.076</td>\n",
       "    </tr>\n",
       "    <tr>\n",
       "      <td>2</td>\n",
       "      <td>6lu7_idAAPQgen6_uff_E=7075445396.28</td>\n",
       "      <td>-18.1</td>\n",
       "      <td>0.000</td>\n",
       "      <td>0.000</td>\n",
       "    </tr>\n",
       "    <tr>\n",
       "      <td>3</td>\n",
       "      <td>6lu7_idAALEgen6_uff_E=7109711649.77</td>\n",
       "      <td>-11.0</td>\n",
       "      <td>3.872</td>\n",
       "      <td>2.341</td>\n",
       "    </tr>\n",
       "    <tr>\n",
       "      <td>4</td>\n",
       "      <td>6lu7_idAAPQgen6_uff_E=7075445396.28</td>\n",
       "      <td>-10.9</td>\n",
       "      <td>2.803</td>\n",
       "      <td>1.242</td>\n",
       "    </tr>\n",
       "  </tbody>\n",
       "</table>\n",
       "</div>"
      ],
      "text/plain": [
       "                                Ligand  Binding Affinity  rmsd/ub   rmsd/lb\n",
       "0  6lu7_idAALEgen6_uff_E=7109711649.77             -18.3    0.000     0.000\n",
       "1  6lu7_idAALEgen6_uff_E=7109711649.77             -17.9    4.841     2.076\n",
       "2  6lu7_idAAPQgen6_uff_E=7075445396.28             -18.1    0.000     0.000\n",
       "3  6lu7_idAALEgen6_uff_E=7109711649.77             -11.0    3.872     2.341\n",
       "4  6lu7_idAAPQgen6_uff_E=7075445396.28             -10.9    2.803     1.242"
      ]
     },
     "execution_count": 9,
     "metadata": {},
     "output_type": "execute_result"
    }
   ],
   "source": [
    "new_scores = pd.read_csv('./generations/results/results_gen' + str(GLOBAL_GENERATION-1) + '.csv',sep=',')\n",
    "new_scores.head()"
   ]
  },
  {
   "cell_type": "code",
   "execution_count": 10,
   "metadata": {},
   "outputs": [
    {
     "data": {
      "text/html": [
       "<div>\n",
       "<style scoped>\n",
       "    .dataframe tbody tr th:only-of-type {\n",
       "        vertical-align: middle;\n",
       "    }\n",
       "\n",
       "    .dataframe tbody tr th {\n",
       "        vertical-align: top;\n",
       "    }\n",
       "\n",
       "    .dataframe thead th {\n",
       "        text-align: right;\n",
       "    }\n",
       "</style>\n",
       "<table border=\"1\" class=\"dataframe\">\n",
       "  <thead>\n",
       "    <tr style=\"text-align: right;\">\n",
       "      <th></th>\n",
       "      <th>id</th>\n",
       "      <th>gen</th>\n",
       "      <th>score</th>\n",
       "    </tr>\n",
       "  </thead>\n",
       "  <tbody>\n",
       "    <tr>\n",
       "      <td>0</td>\n",
       "      <td>AAGO</td>\n",
       "      <td>6</td>\n",
       "      <td>-4.3</td>\n",
       "    </tr>\n",
       "    <tr>\n",
       "      <td>1</td>\n",
       "      <td>AAGP</td>\n",
       "      <td>6</td>\n",
       "      <td>-5.8</td>\n",
       "    </tr>\n",
       "    <tr>\n",
       "      <td>2</td>\n",
       "      <td>AAGQ</td>\n",
       "      <td>6</td>\n",
       "      <td>-6.8</td>\n",
       "    </tr>\n",
       "    <tr>\n",
       "      <td>3</td>\n",
       "      <td>AAGR</td>\n",
       "      <td>6</td>\n",
       "      <td>-6.3</td>\n",
       "    </tr>\n",
       "    <tr>\n",
       "      <td>4</td>\n",
       "      <td>AAGS</td>\n",
       "      <td>6</td>\n",
       "      <td>-6.3</td>\n",
       "    </tr>\n",
       "  </tbody>\n",
       "</table>\n",
       "</div>"
      ],
      "text/plain": [
       "     id gen  score\n",
       "0  AAGO   6   -4.3\n",
       "1  AAGP   6   -5.8\n",
       "2  AAGQ   6   -6.8\n",
       "3  AAGR   6   -6.3\n",
       "4  AAGS   6   -6.3"
      ]
     },
     "execution_count": 10,
     "metadata": {},
     "output_type": "execute_result"
    }
   ],
   "source": [
    "new_scores = new_scores.groupby(\"Ligand\").min()[\"Binding Affinity\"].reset_index()\n",
    "new_scores['id'] = new_scores['Ligand'].str.split(\"_\").str[1].str.split(\"gen\").str[0].str.split(\"id\").str[1]\n",
    "new_scores['gen'] = new_scores['Ligand'].str.split(\"_\").str[1].str.split(\"gen\").str[1]\n",
    "new_scores['score'] = new_scores[\"Binding Affinity\"]\n",
    "new_scores = new_scores[['id','gen','score']]\n",
    "new_scores.head()"
   ]
  },
  {
   "cell_type": "code",
   "execution_count": 11,
   "metadata": {},
   "outputs": [
    {
     "data": {
      "text/html": [
       "<div>\n",
       "<style scoped>\n",
       "    .dataframe tbody tr th:only-of-type {\n",
       "        vertical-align: middle;\n",
       "    }\n",
       "\n",
       "    .dataframe tbody tr th {\n",
       "        vertical-align: top;\n",
       "    }\n",
       "\n",
       "    .dataframe thead th {\n",
       "        text-align: right;\n",
       "    }\n",
       "</style>\n",
       "<table border=\"1\" class=\"dataframe\">\n",
       "  <thead>\n",
       "    <tr style=\"text-align: right;\">\n",
       "      <th></th>\n",
       "      <th>id</th>\n",
       "      <th>gen</th>\n",
       "      <th>smile</th>\n",
       "      <th>source</th>\n",
       "      <th>weight</th>\n",
       "      <th>score</th>\n",
       "    </tr>\n",
       "  </thead>\n",
       "  <tbody>\n",
       "    <tr>\n",
       "      <td>3140</td>\n",
       "      <td>AALE</td>\n",
       "      <td>6</td>\n",
       "      <td>O=C(NC(Cc1ccccc1)C(=O)O)C1CC2CCC(C1)C2C(=O)NC1...</td>\n",
       "      <td>generated</td>\n",
       "      <td>776.931</td>\n",
       "      <td>-18.3</td>\n",
       "    </tr>\n",
       "    <tr>\n",
       "      <td>3256</td>\n",
       "      <td>AAPQ</td>\n",
       "      <td>6</td>\n",
       "      <td>O=C(NC1CC2CC(C1)N2CCc1ccccc1)C1CC2CCC(C1)N2CCc...</td>\n",
       "      <td>generated</td>\n",
       "      <td>457.662</td>\n",
       "      <td>-18.1</td>\n",
       "    </tr>\n",
       "    <tr>\n",
       "      <td>0</td>\n",
       "      <td>AABL</td>\n",
       "      <td>10</td>\n",
       "      <td>O=C(NC(Cc1ccccc1)C(=O)NC(Cc1ccccc1)C(=O)O)C1CC...</td>\n",
       "      <td>generated</td>\n",
       "      <td>786.926</td>\n",
       "      <td>-17.9</td>\n",
       "    </tr>\n",
       "    <tr>\n",
       "      <td>2</td>\n",
       "      <td>AACA</td>\n",
       "      <td>10</td>\n",
       "      <td>O=C(NC1CC2CCC(C1)N2CCc1ccccc1)C1CC2CC(C1)C2C(=...</td>\n",
       "      <td>generated</td>\n",
       "      <td>838.062</td>\n",
       "      <td>-17.7</td>\n",
       "    </tr>\n",
       "    <tr>\n",
       "      <td>1</td>\n",
       "      <td>AADG</td>\n",
       "      <td>9</td>\n",
       "      <td>O=C(NC1CC2CCC(C1)N2CCc1ccccc1)C1CC2CC(C1)C2C(=...</td>\n",
       "      <td>generated</td>\n",
       "      <td>838.062</td>\n",
       "      <td>-17.7</td>\n",
       "    </tr>\n",
       "  </tbody>\n",
       "</table>\n",
       "</div>"
      ],
      "text/plain": [
       "        id  gen                                              smile     source  \\\n",
       "3140  AALE    6  O=C(NC(Cc1ccccc1)C(=O)O)C1CC2CCC(C1)C2C(=O)NC1...  generated   \n",
       "3256  AAPQ    6  O=C(NC1CC2CC(C1)N2CCc1ccccc1)C1CC2CCC(C1)N2CCc...  generated   \n",
       "0     AABL   10  O=C(NC(Cc1ccccc1)C(=O)NC(Cc1ccccc1)C(=O)O)C1CC...  generated   \n",
       "2     AACA   10  O=C(NC1CC2CCC(C1)N2CCc1ccccc1)C1CC2CC(C1)C2C(=...  generated   \n",
       "1     AADG    9  O=C(NC1CC2CCC(C1)N2CCc1ccccc1)C1CC2CC(C1)C2C(=...  generated   \n",
       "\n",
       "       weight  score  \n",
       "3140  776.931  -18.3  \n",
       "3256  457.662  -18.1  \n",
       "0     786.926  -17.9  \n",
       "2     838.062  -17.7  \n",
       "1     838.062  -17.7  "
      ]
     },
     "execution_count": 11,
     "metadata": {},
     "output_type": "execute_result"
    }
   ],
   "source": [
    "new_scores.id = new_scores.id.astype(str)\n",
    "new_scores.gen = new_scores.gen.astype(int)\n",
    "master_table.id = master_table.id.astype(str)\n",
    "master_table.gen = master_table.gen.astype(int)\n",
    "new_table = pd.merge(master_table, new_scores, on=['id','gen'], suffixes=('_old','_new'), how='left')\n",
    "new_table['score'] = np.where(new_table['score_new'].isnull(), new_table['score_old'], new_table['score_new'])\n",
    "new_table = new_table.drop(['score_old','score_new'], axis=1)\n",
    "new_table['weight'] = new_table['smile'].apply(lambda x: Chem.Descriptors.MolWt(Chem.MolFromSmiles(x)))\n",
    "new_table = new_table.sort_values('score', ascending=True)\n",
    "new_table.head()"
   ]
  },
  {
   "cell_type": "code",
   "execution_count": 12,
   "metadata": {},
   "outputs": [],
   "source": [
    "new_table.to_csv(r'./generations/master_results_table_gen' + str(GLOBAL_GENERATION-1) + '.csv', index=False)"
   ]
  },
  {
   "cell_type": "code",
   "execution_count": 13,
   "metadata": {},
   "outputs": [
    {
     "data": {
      "text/plain": [
       "22"
      ]
     },
     "execution_count": 13,
     "metadata": {},
     "output_type": "execute_result"
    }
   ],
   "source": [
    "# Select top X ranked by score for training data to refine the molecule generator RNN\n",
    "training_smiles = list(set(list(new_table.head(35)['smile'])))\n",
    "len(training_smiles)"
   ]
  },
  {
   "cell_type": "code",
   "execution_count": 14,
   "metadata": {},
   "outputs": [
    {
     "data": {
      "text/html": [
       "<div>\n",
       "<style scoped>\n",
       "    .dataframe tbody tr th:only-of-type {\n",
       "        vertical-align: middle;\n",
       "    }\n",
       "\n",
       "    .dataframe tbody tr th {\n",
       "        vertical-align: top;\n",
       "    }\n",
       "\n",
       "    .dataframe thead th {\n",
       "        text-align: right;\n",
       "    }\n",
       "</style>\n",
       "<table border=\"1\" class=\"dataframe\">\n",
       "  <thead>\n",
       "    <tr style=\"text-align: right;\">\n",
       "      <th></th>\n",
       "      <th>id</th>\n",
       "      <th>gen</th>\n",
       "      <th>smile</th>\n",
       "      <th>source</th>\n",
       "      <th>weight</th>\n",
       "      <th>score</th>\n",
       "      <th>similarity_adj_score</th>\n",
       "    </tr>\n",
       "  </thead>\n",
       "  <tbody>\n",
       "    <tr>\n",
       "      <th>411</th>\n",
       "      <td>AAGJ</td>\n",
       "      <td>6</td>\n",
       "      <td>CC(C)(C)C1CCC(C2CCCCCC2(C)C)CCCC2(C)C(CCC3CCCC...</td>\n",
       "      <td>generated</td>\n",
       "      <td>661.200</td>\n",
       "      <td>-11.5</td>\n",
       "      <td>-24.697105</td>\n",
       "    </tr>\n",
       "    <tr>\n",
       "      <th>204</th>\n",
       "      <td>AABP</td>\n",
       "      <td>5</td>\n",
       "      <td>CC1(CC(CC(O)C2(O)CCCC2)C(O)CO)CCCCCCCCCCCCCCCC...</td>\n",
       "      <td>generated</td>\n",
       "      <td>763.286</td>\n",
       "      <td>-13.0</td>\n",
       "      <td>-23.467864</td>\n",
       "    </tr>\n",
       "    <tr>\n",
       "      <th>642</th>\n",
       "      <td>AAAE</td>\n",
       "      <td>7</td>\n",
       "      <td>CC1(C)CCCC2(C)C(CCC3CCCC3)CCCCCC(CCC3CCCC3)CCC...</td>\n",
       "      <td>generated</td>\n",
       "      <td>661.200</td>\n",
       "      <td>-10.3</td>\n",
       "      <td>-22.120016</td>\n",
       "    </tr>\n",
       "    <tr>\n",
       "      <th>649</th>\n",
       "      <td>AAAI</td>\n",
       "      <td>8</td>\n",
       "      <td>CC(C)(C)C1CC2(C(C)(C)C)CCCC2(C)C1CCC12CC3CC(CC...</td>\n",
       "      <td>generated</td>\n",
       "      <td>398.719</td>\n",
       "      <td>-10.3</td>\n",
       "      <td>-21.819331</td>\n",
       "    </tr>\n",
       "    <tr>\n",
       "      <th>643</th>\n",
       "      <td>AAAL</td>\n",
       "      <td>7</td>\n",
       "      <td>CC(C)(C)C1CC2(C(C)(C)C)CCCC2(C)C1CCC12CC3CC(CC...</td>\n",
       "      <td>generated</td>\n",
       "      <td>398.719</td>\n",
       "      <td>-10.3</td>\n",
       "      <td>-21.819331</td>\n",
       "    </tr>\n",
       "  </tbody>\n",
       "</table>\n",
       "</div>"
      ],
      "text/plain": [
       "       id  gen                                              smile     source  \\\n",
       "411  AAGJ    6  CC(C)(C)C1CCC(C2CCCCCC2(C)C)CCCC2(C)C(CCC3CCCC...  generated   \n",
       "204  AABP    5  CC1(CC(CC(O)C2(O)CCCC2)C(O)CO)CCCCCCCCCCCCCCCC...  generated   \n",
       "642  AAAE    7  CC1(C)CCCC2(C)C(CCC3CCCC3)CCCCCC(CCC3CCCC3)CCC...  generated   \n",
       "649  AAAI    8  CC(C)(C)C1CC2(C(C)(C)C)CCCC2(C)C1CCC12CC3CC(CC...  generated   \n",
       "643  AAAL    7  CC(C)(C)C1CC2(C(C)(C)C)CCCC2(C)C1CCC12CC3CC(CC...  generated   \n",
       "\n",
       "      weight  score  similarity_adj_score  \n",
       "411  661.200  -11.5            -24.697105  \n",
       "204  763.286  -13.0            -23.467864  \n",
       "642  661.200  -10.3            -22.120016  \n",
       "649  398.719  -10.3            -21.819331  \n",
       "643  398.719  -10.3            -21.819331  "
      ]
     },
     "execution_count": 14,
     "metadata": {},
     "output_type": "execute_result"
    }
   ],
   "source": [
    "training_fingerprints = []\n",
    "for smile in training_smiles:\n",
    "    training_fingerprints.append(Chem.RDKFingerprint(Chem.MolFromSmiles(smile)))\n",
    "\n",
    "def calc_similarity_score(row):\n",
    "    fingerprint = Chem.RDKFingerprint(Chem.MolFromSmiles(row['smile']))\n",
    "    similarity = np.max(DataStructs.BulkTanimotoSimilarity(fingerprint,training_fingerprints))\n",
    "    adj_factor = (1 / similarity) **.333\n",
    "    adj_score = row['score'] * adj_factor\n",
    "    return adj_score\n",
    "\n",
    "similarity_adjusted = new_table.copy(deep=True)\n",
    "similarity_adjusted = similarity_adjusted[similarity_adjusted['weight'] < 900]\n",
    "similarity_adjusted['similarity_adj_score'] = similarity_adjusted.apply(calc_similarity_score, axis=1)\n",
    "similarity_adjusted = similarity_adjusted.sort_values('similarity_adj_score', ascending=True)\n",
    "similarity_adjusted.head()"
   ]
  },
  {
   "cell_type": "code",
   "execution_count": 15,
   "metadata": {},
   "outputs": [
    {
     "data": {
      "text/plain": [
       "27"
      ]
     },
     "execution_count": 15,
     "metadata": {},
     "output_type": "execute_result"
    }
   ],
   "source": [
    "# Select top X ranked by similarity adjusted score for training data to refine the molecule generator RNN (ensures diverity)\n",
    "training_smiles += list(similarity_adjusted.head(5)['smile'])\n",
    "len(training_smiles)"
   ]
  },
  {
   "cell_type": "code",
   "execution_count": 16,
   "metadata": {},
   "outputs": [
    {
     "data": {
      "text/html": [
       "<div>\n",
       "<style scoped>\n",
       "    .dataframe tbody tr th:only-of-type {\n",
       "        vertical-align: middle;\n",
       "    }\n",
       "\n",
       "    .dataframe tbody tr th {\n",
       "        vertical-align: top;\n",
       "    }\n",
       "\n",
       "    .dataframe thead th {\n",
       "        text-align: right;\n",
       "    }\n",
       "</style>\n",
       "<table border=\"1\" class=\"dataframe\">\n",
       "  <thead>\n",
       "    <tr style=\"text-align: right;\">\n",
       "      <th></th>\n",
       "      <th>id</th>\n",
       "      <th>gen</th>\n",
       "      <th>smile</th>\n",
       "      <th>source</th>\n",
       "      <th>weight</th>\n",
       "      <th>score</th>\n",
       "      <th>weight_adj_score</th>\n",
       "    </tr>\n",
       "  </thead>\n",
       "  <tbody>\n",
       "    <tr>\n",
       "      <th>0</th>\n",
       "      <td>AABL</td>\n",
       "      <td>10</td>\n",
       "      <td>O=C(NC(Cc1ccccc1)C(=O)NC(Cc1ccccc1)C(=O)O)C1CC...</td>\n",
       "      <td>generated</td>\n",
       "      <td>786.926</td>\n",
       "      <td>-17.9</td>\n",
       "      <td>-18.718446</td>\n",
       "    </tr>\n",
       "    <tr>\n",
       "      <th>1</th>\n",
       "      <td>AADG</td>\n",
       "      <td>9</td>\n",
       "      <td>O=C(NC1CC2CCC(C1)N2CCc1ccccc1)C1CC2CC(C1)C2C(=...</td>\n",
       "      <td>generated</td>\n",
       "      <td>838.062</td>\n",
       "      <td>-17.7</td>\n",
       "      <td>-18.125294</td>\n",
       "    </tr>\n",
       "    <tr>\n",
       "      <th>2</th>\n",
       "      <td>AACA</td>\n",
       "      <td>10</td>\n",
       "      <td>O=C(NC1CC2CCC(C1)N2CCc1ccccc1)C1CC2CC(C1)C2C(=...</td>\n",
       "      <td>generated</td>\n",
       "      <td>838.062</td>\n",
       "      <td>-17.7</td>\n",
       "      <td>-18.125294</td>\n",
       "    </tr>\n",
       "    <tr>\n",
       "      <th>15</th>\n",
       "      <td>AABX</td>\n",
       "      <td>9</td>\n",
       "      <td>O=C(NC(Cc1ccccc1)C(=O)NC(Cc1ccccc1)C(=O)O)C1CC...</td>\n",
       "      <td>generated</td>\n",
       "      <td>772.899</td>\n",
       "      <td>-17.2</td>\n",
       "      <td>-18.094489</td>\n",
       "    </tr>\n",
       "    <tr>\n",
       "      <th>13</th>\n",
       "      <td>AACC</td>\n",
       "      <td>10</td>\n",
       "      <td>O=C(NC(Cc1ccccc1)C(=O)NC(Cc1ccccc1)C(=O)O)C1CC...</td>\n",
       "      <td>generated</td>\n",
       "      <td>772.899</td>\n",
       "      <td>-17.2</td>\n",
       "      <td>-18.094489</td>\n",
       "    </tr>\n",
       "  </tbody>\n",
       "</table>\n",
       "</div>"
      ],
      "text/plain": [
       "      id  gen                                              smile     source  \\\n",
       "0   AABL   10  O=C(NC(Cc1ccccc1)C(=O)NC(Cc1ccccc1)C(=O)O)C1CC...  generated   \n",
       "1   AADG    9  O=C(NC1CC2CCC(C1)N2CCc1ccccc1)C1CC2CC(C1)C2C(=...  generated   \n",
       "2   AACA   10  O=C(NC1CC2CCC(C1)N2CCc1ccccc1)C1CC2CC(C1)C2C(=...  generated   \n",
       "15  AABX    9  O=C(NC(Cc1ccccc1)C(=O)NC(Cc1ccccc1)C(=O)O)C1CC...  generated   \n",
       "13  AACC   10  O=C(NC(Cc1ccccc1)C(=O)NC(Cc1ccccc1)C(=O)O)C1CC...  generated   \n",
       "\n",
       "     weight  score  weight_adj_score  \n",
       "0   786.926  -17.9        -18.718446  \n",
       "1   838.062  -17.7        -18.125294  \n",
       "2   838.062  -17.7        -18.125294  \n",
       "15  772.899  -17.2        -18.094489  \n",
       "13  772.899  -17.2        -18.094489  "
      ]
     },
     "execution_count": 16,
     "metadata": {},
     "output_type": "execute_result"
    }
   ],
   "source": [
    "def calc_weight_score(row):\n",
    "    adj_factor = (900 / row['weight']) ** .333\n",
    "    if adj_factor < 1:\n",
    "        adj_score = 0\n",
    "    else:\n",
    "        adj_score = row['score'] * adj_factor\n",
    "    return adj_score\n",
    "\n",
    "weight_adjusted = new_table.copy(deep=True)\n",
    "weight_adjusted['weight_adj_score'] = weight_adjusted.apply(calc_weight_score, axis=1)\n",
    "weight_adjusted = weight_adjusted.sort_values('weight_adj_score', ascending=True)\n",
    "weight_adjusted.head()"
   ]
  },
  {
   "cell_type": "code",
   "execution_count": 17,
   "metadata": {},
   "outputs": [
    {
     "data": {
      "text/plain": [
       "32"
      ]
     },
     "execution_count": 17,
     "metadata": {},
     "output_type": "execute_result"
    }
   ],
   "source": [
    "# Select top X ranked by similarity adjusted score for training data to refine the molecule generator RNN (ensures diverity)\n",
    "training_smiles += list(weight_adjusted.head(5)['smile'])\n",
    "len(training_smiles)"
   ]
  },
  {
   "cell_type": "code",
   "execution_count": 18,
   "metadata": {},
   "outputs": [
    {
     "name": "stdout",
     "output_type": "stream",
     "text": [
      "WARNING:tensorflow:From <ipython-input-18-cff5e14f5db6>:2: is_gpu_available (from tensorflow.python.framework.test_util) is deprecated and will be removed in a future version.\n",
      "Instructions for updating:\n",
      "Use `tf.config.list_physical_devices('GPU')` instead.\n"
     ]
    },
    {
     "data": {
      "text/plain": [
       "True"
      ]
     },
     "execution_count": 18,
     "metadata": {},
     "output_type": "execute_result"
    }
   ],
   "source": [
    "import tensorflow\n",
    "tensorflow.test.is_gpu_available()"
   ]
  },
  {
   "cell_type": "code",
   "execution_count": 19,
   "metadata": {},
   "outputs": [],
   "source": [
    "import numpy as np\n",
    "from copy import copy\n",
    "\n",
    "import keras\n",
    "\n",
    "from lstm_chem.utils.config import process_config\n",
    "from lstm_chem.model import LSTMChem\n",
    "from lstm_chem.generator import LSTMChemGenerator\n",
    "from lstm_chem.trainer import LSTMChemTrainer\n",
    "from lstm_chem.data_loader import DataLoader"
   ]
  },
  {
   "cell_type": "code",
   "execution_count": 20,
   "metadata": {},
   "outputs": [
    {
     "name": "stdout",
     "output_type": "stream",
     "text": [
      "Loading model architecture from ./config/model_arch.json ...\n",
      "WARNING:tensorflow:Layer lstm will not use cuDNN kernel since it doesn't meet the cuDNN kernel criteria. It will use generic GPU kernel as fallback when running on GPU\n",
      "WARNING:tensorflow:Layer lstm_1 will not use cuDNN kernel since it doesn't meet the cuDNN kernel criteria. It will use generic GPU kernel as fallback when running on GPU\n",
      "Loading model checkpoint from ./checkpoints/LSTM_Chem-baseline-model-full.hdf5 ...\n",
      "Loaded the Model.\n"
     ]
    }
   ],
   "source": [
    "# Generate some with the base original model\n",
    "CONFIG_FILE = './config/config.json'\n",
    "config = process_config(CONFIG_FILE)\n",
    "modeler = LSTMChem(config, session='generate')\n",
    "generator = LSTMChemGenerator(modeler)"
   ]
  },
  {
   "cell_type": "code",
   "execution_count": 21,
   "metadata": {},
   "outputs": [],
   "source": [
    "sample_number = 20"
   ]
  },
  {
   "cell_type": "code",
   "execution_count": 22,
   "metadata": {
    "scrolled": true
   },
   "outputs": [
    {
     "name": "stderr",
     "output_type": "stream",
     "text": [
      "\r",
      "  0%|          | 0/20 [00:00<?, ?it/s]"
     ]
    },
    {
     "name": "stdout",
     "output_type": "stream",
     "text": [
      "WARNING:tensorflow:5 out of the last 5 calls to <function Model.make_predict_function.<locals>.predict_function at 0x7fee9c51b5e0> triggered tf.function retracing. Tracing is expensive and the excessive number of tracings is likely due to passing python objects instead of tensors. Also, tf.function has experimental_relax_shapes=True option that relaxes argument shapes that can avoid unnecessary retracing. Please refer to https://www.tensorflow.org/tutorials/customization/performance#python_or_tensor_args and https://www.tensorflow.org/api_docs/python/tf/function for more details.\n",
      "WARNING:tensorflow:6 out of the last 6 calls to <function Model.make_predict_function.<locals>.predict_function at 0x7fee9c51b5e0> triggered tf.function retracing. Tracing is expensive and the excessive number of tracings is likely due to passing python objects instead of tensors. Also, tf.function has experimental_relax_shapes=True option that relaxes argument shapes that can avoid unnecessary retracing. Please refer to https://www.tensorflow.org/tutorials/customization/performance#python_or_tensor_args and https://www.tensorflow.org/api_docs/python/tf/function for more details.\n",
      "WARNING:tensorflow:7 out of the last 7 calls to <function Model.make_predict_function.<locals>.predict_function at 0x7fee9c51b5e0> triggered tf.function retracing. Tracing is expensive and the excessive number of tracings is likely due to passing python objects instead of tensors. Also, tf.function has experimental_relax_shapes=True option that relaxes argument shapes that can avoid unnecessary retracing. Please refer to https://www.tensorflow.org/tutorials/customization/performance#python_or_tensor_args and https://www.tensorflow.org/api_docs/python/tf/function for more details.\n",
      "WARNING:tensorflow:8 out of the last 8 calls to <function Model.make_predict_function.<locals>.predict_function at 0x7fee9c51b5e0> triggered tf.function retracing. Tracing is expensive and the excessive number of tracings is likely due to passing python objects instead of tensors. Also, tf.function has experimental_relax_shapes=True option that relaxes argument shapes that can avoid unnecessary retracing. Please refer to https://www.tensorflow.org/tutorials/customization/performance#python_or_tensor_args and https://www.tensorflow.org/api_docs/python/tf/function for more details.\n",
      "WARNING:tensorflow:9 out of the last 9 calls to <function Model.make_predict_function.<locals>.predict_function at 0x7fee9c51b5e0> triggered tf.function retracing. Tracing is expensive and the excessive number of tracings is likely due to passing python objects instead of tensors. Also, tf.function has experimental_relax_shapes=True option that relaxes argument shapes that can avoid unnecessary retracing. Please refer to https://www.tensorflow.org/tutorials/customization/performance#python_or_tensor_args and https://www.tensorflow.org/api_docs/python/tf/function for more details.\n",
      "WARNING:tensorflow:10 out of the last 10 calls to <function Model.make_predict_function.<locals>.predict_function at 0x7fee9c51b5e0> triggered tf.function retracing. Tracing is expensive and the excessive number of tracings is likely due to passing python objects instead of tensors. Also, tf.function has experimental_relax_shapes=True option that relaxes argument shapes that can avoid unnecessary retracing. Please refer to https://www.tensorflow.org/tutorials/customization/performance#python_or_tensor_args and https://www.tensorflow.org/api_docs/python/tf/function for more details.\n",
      "WARNING:tensorflow:11 out of the last 11 calls to <function Model.make_predict_function.<locals>.predict_function at 0x7fee9c51b5e0> triggered tf.function retracing. Tracing is expensive and the excessive number of tracings is likely due to passing python objects instead of tensors. Also, tf.function has experimental_relax_shapes=True option that relaxes argument shapes that can avoid unnecessary retracing. Please refer to https://www.tensorflow.org/tutorials/customization/performance#python_or_tensor_args and https://www.tensorflow.org/api_docs/python/tf/function for more details.\n",
      "WARNING:tensorflow:11 out of the last 11 calls to <function Model.make_predict_function.<locals>.predict_function at 0x7fee9c51b5e0> triggered tf.function retracing. Tracing is expensive and the excessive number of tracings is likely due to passing python objects instead of tensors. Also, tf.function has experimental_relax_shapes=True option that relaxes argument shapes that can avoid unnecessary retracing. Please refer to https://www.tensorflow.org/tutorials/customization/performance#python_or_tensor_args and https://www.tensorflow.org/api_docs/python/tf/function for more details.\n",
      "WARNING:tensorflow:11 out of the last 11 calls to <function Model.make_predict_function.<locals>.predict_function at 0x7fee9c51b5e0> triggered tf.function retracing. Tracing is expensive and the excessive number of tracings is likely due to passing python objects instead of tensors. Also, tf.function has experimental_relax_shapes=True option that relaxes argument shapes that can avoid unnecessary retracing. Please refer to https://www.tensorflow.org/tutorials/customization/performance#python_or_tensor_args and https://www.tensorflow.org/api_docs/python/tf/function for more details.\n",
      "WARNING:tensorflow:11 out of the last 11 calls to <function Model.make_predict_function.<locals>.predict_function at 0x7fee9c51b5e0> triggered tf.function retracing. Tracing is expensive and the excessive number of tracings is likely due to passing python objects instead of tensors. Also, tf.function has experimental_relax_shapes=True option that relaxes argument shapes that can avoid unnecessary retracing. Please refer to https://www.tensorflow.org/tutorials/customization/performance#python_or_tensor_args and https://www.tensorflow.org/api_docs/python/tf/function for more details.\n",
      "WARNING:tensorflow:11 out of the last 11 calls to <function Model.make_predict_function.<locals>.predict_function at 0x7fee9c51b5e0> triggered tf.function retracing. Tracing is expensive and the excessive number of tracings is likely due to passing python objects instead of tensors. Also, tf.function has experimental_relax_shapes=True option that relaxes argument shapes that can avoid unnecessary retracing. Please refer to https://www.tensorflow.org/tutorials/customization/performance#python_or_tensor_args and https://www.tensorflow.org/api_docs/python/tf/function for more details.\n",
      "WARNING:tensorflow:11 out of the last 11 calls to <function Model.make_predict_function.<locals>.predict_function at 0x7fee9c51b5e0> triggered tf.function retracing. Tracing is expensive and the excessive number of tracings is likely due to passing python objects instead of tensors. Also, tf.function has experimental_relax_shapes=True option that relaxes argument shapes that can avoid unnecessary retracing. Please refer to https://www.tensorflow.org/tutorials/customization/performance#python_or_tensor_args and https://www.tensorflow.org/api_docs/python/tf/function for more details.\n",
      "WARNING:tensorflow:11 out of the last 11 calls to <function Model.make_predict_function.<locals>.predict_function at 0x7fee9c51b5e0> triggered tf.function retracing. Tracing is expensive and the excessive number of tracings is likely due to passing python objects instead of tensors. Also, tf.function has experimental_relax_shapes=True option that relaxes argument shapes that can avoid unnecessary retracing. Please refer to https://www.tensorflow.org/tutorials/customization/performance#python_or_tensor_args and https://www.tensorflow.org/api_docs/python/tf/function for more details.\n",
      "WARNING:tensorflow:11 out of the last 11 calls to <function Model.make_predict_function.<locals>.predict_function at 0x7fee9c51b5e0> triggered tf.function retracing. Tracing is expensive and the excessive number of tracings is likely due to passing python objects instead of tensors. Also, tf.function has experimental_relax_shapes=True option that relaxes argument shapes that can avoid unnecessary retracing. Please refer to https://www.tensorflow.org/tutorials/customization/performance#python_or_tensor_args and https://www.tensorflow.org/api_docs/python/tf/function for more details.\n"
     ]
    },
    {
     "name": "stdout",
     "output_type": "stream",
     "text": [
      "WARNING:tensorflow:11 out of the last 11 calls to <function Model.make_predict_function.<locals>.predict_function at 0x7fee9c51b5e0> triggered tf.function retracing. Tracing is expensive and the excessive number of tracings is likely due to passing python objects instead of tensors. Also, tf.function has experimental_relax_shapes=True option that relaxes argument shapes that can avoid unnecessary retracing. Please refer to https://www.tensorflow.org/tutorials/customization/performance#python_or_tensor_args and https://www.tensorflow.org/api_docs/python/tf/function for more details.\n",
      "WARNING:tensorflow:11 out of the last 11 calls to <function Model.make_predict_function.<locals>.predict_function at 0x7fee9c51b5e0> triggered tf.function retracing. Tracing is expensive and the excessive number of tracings is likely due to passing python objects instead of tensors. Also, tf.function has experimental_relax_shapes=True option that relaxes argument shapes that can avoid unnecessary retracing. Please refer to https://www.tensorflow.org/tutorials/customization/performance#python_or_tensor_args and https://www.tensorflow.org/api_docs/python/tf/function for more details.\n",
      "WARNING:tensorflow:11 out of the last 11 calls to <function Model.make_predict_function.<locals>.predict_function at 0x7fee9c51b5e0> triggered tf.function retracing. Tracing is expensive and the excessive number of tracings is likely due to passing python objects instead of tensors. Also, tf.function has experimental_relax_shapes=True option that relaxes argument shapes that can avoid unnecessary retracing. Please refer to https://www.tensorflow.org/tutorials/customization/performance#python_or_tensor_args and https://www.tensorflow.org/api_docs/python/tf/function for more details.\n",
      "WARNING:tensorflow:11 out of the last 11 calls to <function Model.make_predict_function.<locals>.predict_function at 0x7fee9c51b5e0> triggered tf.function retracing. Tracing is expensive and the excessive number of tracings is likely due to passing python objects instead of tensors. Also, tf.function has experimental_relax_shapes=True option that relaxes argument shapes that can avoid unnecessary retracing. Please refer to https://www.tensorflow.org/tutorials/customization/performance#python_or_tensor_args and https://www.tensorflow.org/api_docs/python/tf/function for more details.\n",
      "WARNING:tensorflow:11 out of the last 11 calls to <function Model.make_predict_function.<locals>.predict_function at 0x7fee9c51b5e0> triggered tf.function retracing. Tracing is expensive and the excessive number of tracings is likely due to passing python objects instead of tensors. Also, tf.function has experimental_relax_shapes=True option that relaxes argument shapes that can avoid unnecessary retracing. Please refer to https://www.tensorflow.org/tutorials/customization/performance#python_or_tensor_args and https://www.tensorflow.org/api_docs/python/tf/function for more details.\n",
      "WARNING:tensorflow:11 out of the last 11 calls to <function Model.make_predict_function.<locals>.predict_function at 0x7fee9c51b5e0> triggered tf.function retracing. Tracing is expensive and the excessive number of tracings is likely due to passing python objects instead of tensors. Also, tf.function has experimental_relax_shapes=True option that relaxes argument shapes that can avoid unnecessary retracing. Please refer to https://www.tensorflow.org/tutorials/customization/performance#python_or_tensor_args and https://www.tensorflow.org/api_docs/python/tf/function for more details.\n",
      "WARNING:tensorflow:11 out of the last 11 calls to <function Model.make_predict_function.<locals>.predict_function at 0x7fee9c51b5e0> triggered tf.function retracing. Tracing is expensive and the excessive number of tracings is likely due to passing python objects instead of tensors. Also, tf.function has experimental_relax_shapes=True option that relaxes argument shapes that can avoid unnecessary retracing. Please refer to https://www.tensorflow.org/tutorials/customization/performance#python_or_tensor_args and https://www.tensorflow.org/api_docs/python/tf/function for more details.\n",
      "WARNING:tensorflow:11 out of the last 11 calls to <function Model.make_predict_function.<locals>.predict_function at 0x7fee9c51b5e0> triggered tf.function retracing. Tracing is expensive and the excessive number of tracings is likely due to passing python objects instead of tensors. Also, tf.function has experimental_relax_shapes=True option that relaxes argument shapes that can avoid unnecessary retracing. Please refer to https://www.tensorflow.org/tutorials/customization/performance#python_or_tensor_args and https://www.tensorflow.org/api_docs/python/tf/function for more details.\n",
      "WARNING:tensorflow:11 out of the last 11 calls to <function Model.make_predict_function.<locals>.predict_function at 0x7fee9c51b5e0> triggered tf.function retracing. Tracing is expensive and the excessive number of tracings is likely due to passing python objects instead of tensors. Also, tf.function has experimental_relax_shapes=True option that relaxes argument shapes that can avoid unnecessary retracing. Please refer to https://www.tensorflow.org/tutorials/customization/performance#python_or_tensor_args and https://www.tensorflow.org/api_docs/python/tf/function for more details.\n",
      "WARNING:tensorflow:11 out of the last 11 calls to <function Model.make_predict_function.<locals>.predict_function at 0x7fee9c51b5e0> triggered tf.function retracing. Tracing is expensive and the excessive number of tracings is likely due to passing python objects instead of tensors. Also, tf.function has experimental_relax_shapes=True option that relaxes argument shapes that can avoid unnecessary retracing. Please refer to https://www.tensorflow.org/tutorials/customization/performance#python_or_tensor_args and https://www.tensorflow.org/api_docs/python/tf/function for more details.\n",
      "WARNING:tensorflow:11 out of the last 11 calls to <function Model.make_predict_function.<locals>.predict_function at 0x7fee9c51b5e0> triggered tf.function retracing. Tracing is expensive and the excessive number of tracings is likely due to passing python objects instead of tensors. Also, tf.function has experimental_relax_shapes=True option that relaxes argument shapes that can avoid unnecessary retracing. Please refer to https://www.tensorflow.org/tutorials/customization/performance#python_or_tensor_args and https://www.tensorflow.org/api_docs/python/tf/function for more details.\n",
      "WARNING:tensorflow:11 out of the last 11 calls to <function Model.make_predict_function.<locals>.predict_function at 0x7fee9c51b5e0> triggered tf.function retracing. Tracing is expensive and the excessive number of tracings is likely due to passing python objects instead of tensors. Also, tf.function has experimental_relax_shapes=True option that relaxes argument shapes that can avoid unnecessary retracing. Please refer to https://www.tensorflow.org/tutorials/customization/performance#python_or_tensor_args and https://www.tensorflow.org/api_docs/python/tf/function for more details.\n",
      "WARNING:tensorflow:11 out of the last 11 calls to <function Model.make_predict_function.<locals>.predict_function at 0x7fee9c51b5e0> triggered tf.function retracing. Tracing is expensive and the excessive number of tracings is likely due to passing python objects instead of tensors. Also, tf.function has experimental_relax_shapes=True option that relaxes argument shapes that can avoid unnecessary retracing. Please refer to https://www.tensorflow.org/tutorials/customization/performance#python_or_tensor_args and https://www.tensorflow.org/api_docs/python/tf/function for more details.\n",
      "WARNING:tensorflow:11 out of the last 11 calls to <function Model.make_predict_function.<locals>.predict_function at 0x7fee9c51b5e0> triggered tf.function retracing. Tracing is expensive and the excessive number of tracings is likely due to passing python objects instead of tensors. Also, tf.function has experimental_relax_shapes=True option that relaxes argument shapes that can avoid unnecessary retracing. Please refer to https://www.tensorflow.org/tutorials/customization/performance#python_or_tensor_args and https://www.tensorflow.org/api_docs/python/tf/function for more details.\n"
     ]
    },
    {
     "name": "stdout",
     "output_type": "stream",
     "text": [
      "WARNING:tensorflow:11 out of the last 11 calls to <function Model.make_predict_function.<locals>.predict_function at 0x7fee9c51b5e0> triggered tf.function retracing. Tracing is expensive and the excessive number of tracings is likely due to passing python objects instead of tensors. Also, tf.function has experimental_relax_shapes=True option that relaxes argument shapes that can avoid unnecessary retracing. Please refer to https://www.tensorflow.org/tutorials/customization/performance#python_or_tensor_args and https://www.tensorflow.org/api_docs/python/tf/function for more details.\n"
     ]
    },
    {
     "name": "stderr",
     "output_type": "stream",
     "text": [
      "\r",
      "  5%|▌         | 1/20 [00:14<04:29, 14.16s/it]"
     ]
    },
    {
     "name": "stdout",
     "output_type": "stream",
     "text": [
      "WARNING:tensorflow:5 out of the last 38 calls to <function Model.make_predict_function.<locals>.predict_function at 0x7fee9c51b5e0> triggered tf.function retracing. Tracing is expensive and the excessive number of tracings is likely due to passing python objects instead of tensors. Also, tf.function has experimental_relax_shapes=True option that relaxes argument shapes that can avoid unnecessary retracing. Please refer to https://www.tensorflow.org/tutorials/customization/performance#python_or_tensor_args and https://www.tensorflow.org/api_docs/python/tf/function for more details.\n",
      "WARNING:tensorflow:6 out of the last 39 calls to <function Model.make_predict_function.<locals>.predict_function at 0x7fee9c51b5e0> triggered tf.function retracing. Tracing is expensive and the excessive number of tracings is likely due to passing python objects instead of tensors. Also, tf.function has experimental_relax_shapes=True option that relaxes argument shapes that can avoid unnecessary retracing. Please refer to https://www.tensorflow.org/tutorials/customization/performance#python_or_tensor_args and https://www.tensorflow.org/api_docs/python/tf/function for more details.\n",
      "WARNING:tensorflow:7 out of the last 40 calls to <function Model.make_predict_function.<locals>.predict_function at 0x7fee9c51b5e0> triggered tf.function retracing. Tracing is expensive and the excessive number of tracings is likely due to passing python objects instead of tensors. Also, tf.function has experimental_relax_shapes=True option that relaxes argument shapes that can avoid unnecessary retracing. Please refer to https://www.tensorflow.org/tutorials/customization/performance#python_or_tensor_args and https://www.tensorflow.org/api_docs/python/tf/function for more details.\n",
      "WARNING:tensorflow:8 out of the last 41 calls to <function Model.make_predict_function.<locals>.predict_function at 0x7fee9c51b5e0> triggered tf.function retracing. Tracing is expensive and the excessive number of tracings is likely due to passing python objects instead of tensors. Also, tf.function has experimental_relax_shapes=True option that relaxes argument shapes that can avoid unnecessary retracing. Please refer to https://www.tensorflow.org/tutorials/customization/performance#python_or_tensor_args and https://www.tensorflow.org/api_docs/python/tf/function for more details.\n",
      "WARNING:tensorflow:9 out of the last 42 calls to <function Model.make_predict_function.<locals>.predict_function at 0x7fee9c51b5e0> triggered tf.function retracing. Tracing is expensive and the excessive number of tracings is likely due to passing python objects instead of tensors. Also, tf.function has experimental_relax_shapes=True option that relaxes argument shapes that can avoid unnecessary retracing. Please refer to https://www.tensorflow.org/tutorials/customization/performance#python_or_tensor_args and https://www.tensorflow.org/api_docs/python/tf/function for more details.\n",
      "WARNING:tensorflow:10 out of the last 43 calls to <function Model.make_predict_function.<locals>.predict_function at 0x7fee9c51b5e0> triggered tf.function retracing. Tracing is expensive and the excessive number of tracings is likely due to passing python objects instead of tensors. Also, tf.function has experimental_relax_shapes=True option that relaxes argument shapes that can avoid unnecessary retracing. Please refer to https://www.tensorflow.org/tutorials/customization/performance#python_or_tensor_args and https://www.tensorflow.org/api_docs/python/tf/function for more details.\n",
      "WARNING:tensorflow:11 out of the last 44 calls to <function Model.make_predict_function.<locals>.predict_function at 0x7fee9c51b5e0> triggered tf.function retracing. Tracing is expensive and the excessive number of tracings is likely due to passing python objects instead of tensors. Also, tf.function has experimental_relax_shapes=True option that relaxes argument shapes that can avoid unnecessary retracing. Please refer to https://www.tensorflow.org/tutorials/customization/performance#python_or_tensor_args and https://www.tensorflow.org/api_docs/python/tf/function for more details.\n",
      "WARNING:tensorflow:11 out of the last 11 calls to <function Model.make_predict_function.<locals>.predict_function at 0x7fee9c51b5e0> triggered tf.function retracing. Tracing is expensive and the excessive number of tracings is likely due to passing python objects instead of tensors. Also, tf.function has experimental_relax_shapes=True option that relaxes argument shapes that can avoid unnecessary retracing. Please refer to https://www.tensorflow.org/tutorials/customization/performance#python_or_tensor_args and https://www.tensorflow.org/api_docs/python/tf/function for more details.\n",
      "WARNING:tensorflow:11 out of the last 11 calls to <function Model.make_predict_function.<locals>.predict_function at 0x7fee9c51b5e0> triggered tf.function retracing. Tracing is expensive and the excessive number of tracings is likely due to passing python objects instead of tensors. Also, tf.function has experimental_relax_shapes=True option that relaxes argument shapes that can avoid unnecessary retracing. Please refer to https://www.tensorflow.org/tutorials/customization/performance#python_or_tensor_args and https://www.tensorflow.org/api_docs/python/tf/function for more details.\n",
      "WARNING:tensorflow:11 out of the last 11 calls to <function Model.make_predict_function.<locals>.predict_function at 0x7fee9c51b5e0> triggered tf.function retracing. Tracing is expensive and the excessive number of tracings is likely due to passing python objects instead of tensors. Also, tf.function has experimental_relax_shapes=True option that relaxes argument shapes that can avoid unnecessary retracing. Please refer to https://www.tensorflow.org/tutorials/customization/performance#python_or_tensor_args and https://www.tensorflow.org/api_docs/python/tf/function for more details.\n",
      "WARNING:tensorflow:11 out of the last 11 calls to <function Model.make_predict_function.<locals>.predict_function at 0x7fee9c51b5e0> triggered tf.function retracing. Tracing is expensive and the excessive number of tracings is likely due to passing python objects instead of tensors. Also, tf.function has experimental_relax_shapes=True option that relaxes argument shapes that can avoid unnecessary retracing. Please refer to https://www.tensorflow.org/tutorials/customization/performance#python_or_tensor_args and https://www.tensorflow.org/api_docs/python/tf/function for more details.\n",
      "WARNING:tensorflow:11 out of the last 11 calls to <function Model.make_predict_function.<locals>.predict_function at 0x7fee9c51b5e0> triggered tf.function retracing. Tracing is expensive and the excessive number of tracings is likely due to passing python objects instead of tensors. Also, tf.function has experimental_relax_shapes=True option that relaxes argument shapes that can avoid unnecessary retracing. Please refer to https://www.tensorflow.org/tutorials/customization/performance#python_or_tensor_args and https://www.tensorflow.org/api_docs/python/tf/function for more details.\n"
     ]
    },
    {
     "name": "stderr",
     "output_type": "stream",
     "text": [
      "\r",
      " 10%|█         | 2/20 [00:20<03:33, 11.83s/it]"
     ]
    },
    {
     "name": "stdout",
     "output_type": "stream",
     "text": [
      "WARNING:tensorflow:5 out of the last 53 calls to <function Model.make_predict_function.<locals>.predict_function at 0x7fee9c51b5e0> triggered tf.function retracing. Tracing is expensive and the excessive number of tracings is likely due to passing python objects instead of tensors. Also, tf.function has experimental_relax_shapes=True option that relaxes argument shapes that can avoid unnecessary retracing. Please refer to https://www.tensorflow.org/tutorials/customization/performance#python_or_tensor_args and https://www.tensorflow.org/api_docs/python/tf/function for more details.\n",
      "WARNING:tensorflow:6 out of the last 54 calls to <function Model.make_predict_function.<locals>.predict_function at 0x7fee9c51b5e0> triggered tf.function retracing. Tracing is expensive and the excessive number of tracings is likely due to passing python objects instead of tensors. Also, tf.function has experimental_relax_shapes=True option that relaxes argument shapes that can avoid unnecessary retracing. Please refer to https://www.tensorflow.org/tutorials/customization/performance#python_or_tensor_args and https://www.tensorflow.org/api_docs/python/tf/function for more details.\n",
      "WARNING:tensorflow:7 out of the last 55 calls to <function Model.make_predict_function.<locals>.predict_function at 0x7fee9c51b5e0> triggered tf.function retracing. Tracing is expensive and the excessive number of tracings is likely due to passing python objects instead of tensors. Also, tf.function has experimental_relax_shapes=True option that relaxes argument shapes that can avoid unnecessary retracing. Please refer to https://www.tensorflow.org/tutorials/customization/performance#python_or_tensor_args and https://www.tensorflow.org/api_docs/python/tf/function for more details.\n",
      "WARNING:tensorflow:8 out of the last 56 calls to <function Model.make_predict_function.<locals>.predict_function at 0x7fee9c51b5e0> triggered tf.function retracing. Tracing is expensive and the excessive number of tracings is likely due to passing python objects instead of tensors. Also, tf.function has experimental_relax_shapes=True option that relaxes argument shapes that can avoid unnecessary retracing. Please refer to https://www.tensorflow.org/tutorials/customization/performance#python_or_tensor_args and https://www.tensorflow.org/api_docs/python/tf/function for more details.\n",
      "WARNING:tensorflow:9 out of the last 57 calls to <function Model.make_predict_function.<locals>.predict_function at 0x7fee9c51b5e0> triggered tf.function retracing. Tracing is expensive and the excessive number of tracings is likely due to passing python objects instead of tensors. Also, tf.function has experimental_relax_shapes=True option that relaxes argument shapes that can avoid unnecessary retracing. Please refer to https://www.tensorflow.org/tutorials/customization/performance#python_or_tensor_args and https://www.tensorflow.org/api_docs/python/tf/function for more details.\n",
      "WARNING:tensorflow:10 out of the last 58 calls to <function Model.make_predict_function.<locals>.predict_function at 0x7fee9c51b5e0> triggered tf.function retracing. Tracing is expensive and the excessive number of tracings is likely due to passing python objects instead of tensors. Also, tf.function has experimental_relax_shapes=True option that relaxes argument shapes that can avoid unnecessary retracing. Please refer to https://www.tensorflow.org/tutorials/customization/performance#python_or_tensor_args and https://www.tensorflow.org/api_docs/python/tf/function for more details.\n",
      "WARNING:tensorflow:11 out of the last 59 calls to <function Model.make_predict_function.<locals>.predict_function at 0x7fee9c51b5e0> triggered tf.function retracing. Tracing is expensive and the excessive number of tracings is likely due to passing python objects instead of tensors. Also, tf.function has experimental_relax_shapes=True option that relaxes argument shapes that can avoid unnecessary retracing. Please refer to https://www.tensorflow.org/tutorials/customization/performance#python_or_tensor_args and https://www.tensorflow.org/api_docs/python/tf/function for more details.\n",
      "WARNING:tensorflow:11 out of the last 11 calls to <function Model.make_predict_function.<locals>.predict_function at 0x7fee9c51b5e0> triggered tf.function retracing. Tracing is expensive and the excessive number of tracings is likely due to passing python objects instead of tensors. Also, tf.function has experimental_relax_shapes=True option that relaxes argument shapes that can avoid unnecessary retracing. Please refer to https://www.tensorflow.org/tutorials/customization/performance#python_or_tensor_args and https://www.tensorflow.org/api_docs/python/tf/function for more details.\n",
      "WARNING:tensorflow:11 out of the last 11 calls to <function Model.make_predict_function.<locals>.predict_function at 0x7fee9c51b5e0> triggered tf.function retracing. Tracing is expensive and the excessive number of tracings is likely due to passing python objects instead of tensors. Also, tf.function has experimental_relax_shapes=True option that relaxes argument shapes that can avoid unnecessary retracing. Please refer to https://www.tensorflow.org/tutorials/customization/performance#python_or_tensor_args and https://www.tensorflow.org/api_docs/python/tf/function for more details.\n",
      "WARNING:tensorflow:11 out of the last 11 calls to <function Model.make_predict_function.<locals>.predict_function at 0x7fee9c51b5e0> triggered tf.function retracing. Tracing is expensive and the excessive number of tracings is likely due to passing python objects instead of tensors. Also, tf.function has experimental_relax_shapes=True option that relaxes argument shapes that can avoid unnecessary retracing. Please refer to https://www.tensorflow.org/tutorials/customization/performance#python_or_tensor_args and https://www.tensorflow.org/api_docs/python/tf/function for more details.\n",
      "WARNING:tensorflow:11 out of the last 11 calls to <function Model.make_predict_function.<locals>.predict_function at 0x7fee9c51b5e0> triggered tf.function retracing. Tracing is expensive and the excessive number of tracings is likely due to passing python objects instead of tensors. Also, tf.function has experimental_relax_shapes=True option that relaxes argument shapes that can avoid unnecessary retracing. Please refer to https://www.tensorflow.org/tutorials/customization/performance#python_or_tensor_args and https://www.tensorflow.org/api_docs/python/tf/function for more details.\n",
      "WARNING:tensorflow:11 out of the last 11 calls to <function Model.make_predict_function.<locals>.predict_function at 0x7fee9c51b5e0> triggered tf.function retracing. Tracing is expensive and the excessive number of tracings is likely due to passing python objects instead of tensors. Also, tf.function has experimental_relax_shapes=True option that relaxes argument shapes that can avoid unnecessary retracing. Please refer to https://www.tensorflow.org/tutorials/customization/performance#python_or_tensor_args and https://www.tensorflow.org/api_docs/python/tf/function for more details.\n",
      "WARNING:tensorflow:11 out of the last 11 calls to <function Model.make_predict_function.<locals>.predict_function at 0x7fee9c51b5e0> triggered tf.function retracing. Tracing is expensive and the excessive number of tracings is likely due to passing python objects instead of tensors. Also, tf.function has experimental_relax_shapes=True option that relaxes argument shapes that can avoid unnecessary retracing. Please refer to https://www.tensorflow.org/tutorials/customization/performance#python_or_tensor_args and https://www.tensorflow.org/api_docs/python/tf/function for more details.\n",
      "WARNING:tensorflow:11 out of the last 11 calls to <function Model.make_predict_function.<locals>.predict_function at 0x7fee9c51b5e0> triggered tf.function retracing. Tracing is expensive and the excessive number of tracings is likely due to passing python objects instead of tensors. Also, tf.function has experimental_relax_shapes=True option that relaxes argument shapes that can avoid unnecessary retracing. Please refer to https://www.tensorflow.org/tutorials/customization/performance#python_or_tensor_args and https://www.tensorflow.org/api_docs/python/tf/function for more details.\n"
     ]
    },
    {
     "name": "stdout",
     "output_type": "stream",
     "text": [
      "WARNING:tensorflow:11 out of the last 11 calls to <function Model.make_predict_function.<locals>.predict_function at 0x7fee9c51b5e0> triggered tf.function retracing. Tracing is expensive and the excessive number of tracings is likely due to passing python objects instead of tensors. Also, tf.function has experimental_relax_shapes=True option that relaxes argument shapes that can avoid unnecessary retracing. Please refer to https://www.tensorflow.org/tutorials/customization/performance#python_or_tensor_args and https://www.tensorflow.org/api_docs/python/tf/function for more details.\n",
      "WARNING:tensorflow:11 out of the last 11 calls to <function Model.make_predict_function.<locals>.predict_function at 0x7fee9c51b5e0> triggered tf.function retracing. Tracing is expensive and the excessive number of tracings is likely due to passing python objects instead of tensors. Also, tf.function has experimental_relax_shapes=True option that relaxes argument shapes that can avoid unnecessary retracing. Please refer to https://www.tensorflow.org/tutorials/customization/performance#python_or_tensor_args and https://www.tensorflow.org/api_docs/python/tf/function for more details.\n",
      "WARNING:tensorflow:11 out of the last 11 calls to <function Model.make_predict_function.<locals>.predict_function at 0x7fee9c51b5e0> triggered tf.function retracing. Tracing is expensive and the excessive number of tracings is likely due to passing python objects instead of tensors. Also, tf.function has experimental_relax_shapes=True option that relaxes argument shapes that can avoid unnecessary retracing. Please refer to https://www.tensorflow.org/tutorials/customization/performance#python_or_tensor_args and https://www.tensorflow.org/api_docs/python/tf/function for more details.\n",
      "WARNING:tensorflow:11 out of the last 11 calls to <function Model.make_predict_function.<locals>.predict_function at 0x7fee9c51b5e0> triggered tf.function retracing. Tracing is expensive and the excessive number of tracings is likely due to passing python objects instead of tensors. Also, tf.function has experimental_relax_shapes=True option that relaxes argument shapes that can avoid unnecessary retracing. Please refer to https://www.tensorflow.org/tutorials/customization/performance#python_or_tensor_args and https://www.tensorflow.org/api_docs/python/tf/function for more details.\n",
      "WARNING:tensorflow:11 out of the last 11 calls to <function Model.make_predict_function.<locals>.predict_function at 0x7fee9c51b5e0> triggered tf.function retracing. Tracing is expensive and the excessive number of tracings is likely due to passing python objects instead of tensors. Also, tf.function has experimental_relax_shapes=True option that relaxes argument shapes that can avoid unnecessary retracing. Please refer to https://www.tensorflow.org/tutorials/customization/performance#python_or_tensor_args and https://www.tensorflow.org/api_docs/python/tf/function for more details.\n",
      "WARNING:tensorflow:11 out of the last 11 calls to <function Model.make_predict_function.<locals>.predict_function at 0x7fee9c51b5e0> triggered tf.function retracing. Tracing is expensive and the excessive number of tracings is likely due to passing python objects instead of tensors. Also, tf.function has experimental_relax_shapes=True option that relaxes argument shapes that can avoid unnecessary retracing. Please refer to https://www.tensorflow.org/tutorials/customization/performance#python_or_tensor_args and https://www.tensorflow.org/api_docs/python/tf/function for more details.\n",
      "WARNING:tensorflow:11 out of the last 11 calls to <function Model.make_predict_function.<locals>.predict_function at 0x7fee9c51b5e0> triggered tf.function retracing. Tracing is expensive and the excessive number of tracings is likely due to passing python objects instead of tensors. Also, tf.function has experimental_relax_shapes=True option that relaxes argument shapes that can avoid unnecessary retracing. Please refer to https://www.tensorflow.org/tutorials/customization/performance#python_or_tensor_args and https://www.tensorflow.org/api_docs/python/tf/function for more details.\n",
      "WARNING:tensorflow:11 out of the last 11 calls to <function Model.make_predict_function.<locals>.predict_function at 0x7fee9c51b5e0> triggered tf.function retracing. Tracing is expensive and the excessive number of tracings is likely due to passing python objects instead of tensors. Also, tf.function has experimental_relax_shapes=True option that relaxes argument shapes that can avoid unnecessary retracing. Please refer to https://www.tensorflow.org/tutorials/customization/performance#python_or_tensor_args and https://www.tensorflow.org/api_docs/python/tf/function for more details.\n",
      "WARNING:tensorflow:11 out of the last 11 calls to <function Model.make_predict_function.<locals>.predict_function at 0x7fee9c51b5e0> triggered tf.function retracing. Tracing is expensive and the excessive number of tracings is likely due to passing python objects instead of tensors. Also, tf.function has experimental_relax_shapes=True option that relaxes argument shapes that can avoid unnecessary retracing. Please refer to https://www.tensorflow.org/tutorials/customization/performance#python_or_tensor_args and https://www.tensorflow.org/api_docs/python/tf/function for more details.\n",
      "WARNING:tensorflow:11 out of the last 11 calls to <function Model.make_predict_function.<locals>.predict_function at 0x7fee9c51b5e0> triggered tf.function retracing. Tracing is expensive and the excessive number of tracings is likely due to passing python objects instead of tensors. Also, tf.function has experimental_relax_shapes=True option that relaxes argument shapes that can avoid unnecessary retracing. Please refer to https://www.tensorflow.org/tutorials/customization/performance#python_or_tensor_args and https://www.tensorflow.org/api_docs/python/tf/function for more details.\n",
      "WARNING:tensorflow:11 out of the last 11 calls to <function Model.make_predict_function.<locals>.predict_function at 0x7fee9c51b5e0> triggered tf.function retracing. Tracing is expensive and the excessive number of tracings is likely due to passing python objects instead of tensors. Also, tf.function has experimental_relax_shapes=True option that relaxes argument shapes that can avoid unnecessary retracing. Please refer to https://www.tensorflow.org/tutorials/customization/performance#python_or_tensor_args and https://www.tensorflow.org/api_docs/python/tf/function for more details.\n",
      "WARNING:tensorflow:11 out of the last 11 calls to <function Model.make_predict_function.<locals>.predict_function at 0x7fee9c51b5e0> triggered tf.function retracing. Tracing is expensive and the excessive number of tracings is likely due to passing python objects instead of tensors. Also, tf.function has experimental_relax_shapes=True option that relaxes argument shapes that can avoid unnecessary retracing. Please refer to https://www.tensorflow.org/tutorials/customization/performance#python_or_tensor_args and https://www.tensorflow.org/api_docs/python/tf/function for more details.\n",
      "WARNING:tensorflow:11 out of the last 11 calls to <function Model.make_predict_function.<locals>.predict_function at 0x7fee9c51b5e0> triggered tf.function retracing. Tracing is expensive and the excessive number of tracings is likely due to passing python objects instead of tensors. Also, tf.function has experimental_relax_shapes=True option that relaxes argument shapes that can avoid unnecessary retracing. Please refer to https://www.tensorflow.org/tutorials/customization/performance#python_or_tensor_args and https://www.tensorflow.org/api_docs/python/tf/function for more details.\n",
      "WARNING:tensorflow:11 out of the last 11 calls to <function Model.make_predict_function.<locals>.predict_function at 0x7fee9c51b5e0> triggered tf.function retracing. Tracing is expensive and the excessive number of tracings is likely due to passing python objects instead of tensors. Also, tf.function has experimental_relax_shapes=True option that relaxes argument shapes that can avoid unnecessary retracing. Please refer to https://www.tensorflow.org/tutorials/customization/performance#python_or_tensor_args and https://www.tensorflow.org/api_docs/python/tf/function for more details.\n"
     ]
    },
    {
     "name": "stdout",
     "output_type": "stream",
     "text": [
      "WARNING:tensorflow:11 out of the last 11 calls to <function Model.make_predict_function.<locals>.predict_function at 0x7fee9c51b5e0> triggered tf.function retracing. Tracing is expensive and the excessive number of tracings is likely due to passing python objects instead of tensors. Also, tf.function has experimental_relax_shapes=True option that relaxes argument shapes that can avoid unnecessary retracing. Please refer to https://www.tensorflow.org/tutorials/customization/performance#python_or_tensor_args and https://www.tensorflow.org/api_docs/python/tf/function for more details.\n",
      "WARNING:tensorflow:11 out of the last 11 calls to <function Model.make_predict_function.<locals>.predict_function at 0x7fee9c51b5e0> triggered tf.function retracing. Tracing is expensive and the excessive number of tracings is likely due to passing python objects instead of tensors. Also, tf.function has experimental_relax_shapes=True option that relaxes argument shapes that can avoid unnecessary retracing. Please refer to https://www.tensorflow.org/tutorials/customization/performance#python_or_tensor_args and https://www.tensorflow.org/api_docs/python/tf/function for more details.\n",
      "WARNING:tensorflow:11 out of the last 11 calls to <function Model.make_predict_function.<locals>.predict_function at 0x7fee9c51b5e0> triggered tf.function retracing. Tracing is expensive and the excessive number of tracings is likely due to passing python objects instead of tensors. Also, tf.function has experimental_relax_shapes=True option that relaxes argument shapes that can avoid unnecessary retracing. Please refer to https://www.tensorflow.org/tutorials/customization/performance#python_or_tensor_args and https://www.tensorflow.org/api_docs/python/tf/function for more details.\n",
      "WARNING:tensorflow:11 out of the last 11 calls to <function Model.make_predict_function.<locals>.predict_function at 0x7fee9c51b5e0> triggered tf.function retracing. Tracing is expensive and the excessive number of tracings is likely due to passing python objects instead of tensors. Also, tf.function has experimental_relax_shapes=True option that relaxes argument shapes that can avoid unnecessary retracing. Please refer to https://www.tensorflow.org/tutorials/customization/performance#python_or_tensor_args and https://www.tensorflow.org/api_docs/python/tf/function for more details.\n",
      "WARNING:tensorflow:11 out of the last 11 calls to <function Model.make_predict_function.<locals>.predict_function at 0x7fee9c51b5e0> triggered tf.function retracing. Tracing is expensive and the excessive number of tracings is likely due to passing python objects instead of tensors. Also, tf.function has experimental_relax_shapes=True option that relaxes argument shapes that can avoid unnecessary retracing. Please refer to https://www.tensorflow.org/tutorials/customization/performance#python_or_tensor_args and https://www.tensorflow.org/api_docs/python/tf/function for more details.\n",
      "WARNING:tensorflow:11 out of the last 11 calls to <function Model.make_predict_function.<locals>.predict_function at 0x7fee9c51b5e0> triggered tf.function retracing. Tracing is expensive and the excessive number of tracings is likely due to passing python objects instead of tensors. Also, tf.function has experimental_relax_shapes=True option that relaxes argument shapes that can avoid unnecessary retracing. Please refer to https://www.tensorflow.org/tutorials/customization/performance#python_or_tensor_args and https://www.tensorflow.org/api_docs/python/tf/function for more details.\n",
      "WARNING:tensorflow:11 out of the last 11 calls to <function Model.make_predict_function.<locals>.predict_function at 0x7fee9c51b5e0> triggered tf.function retracing. Tracing is expensive and the excessive number of tracings is likely due to passing python objects instead of tensors. Also, tf.function has experimental_relax_shapes=True option that relaxes argument shapes that can avoid unnecessary retracing. Please refer to https://www.tensorflow.org/tutorials/customization/performance#python_or_tensor_args and https://www.tensorflow.org/api_docs/python/tf/function for more details.\n",
      "WARNING:tensorflow:11 out of the last 11 calls to <function Model.make_predict_function.<locals>.predict_function at 0x7fee9c51b5e0> triggered tf.function retracing. Tracing is expensive and the excessive number of tracings is likely due to passing python objects instead of tensors. Also, tf.function has experimental_relax_shapes=True option that relaxes argument shapes that can avoid unnecessary retracing. Please refer to https://www.tensorflow.org/tutorials/customization/performance#python_or_tensor_args and https://www.tensorflow.org/api_docs/python/tf/function for more details.\n",
      "WARNING:tensorflow:11 out of the last 11 calls to <function Model.make_predict_function.<locals>.predict_function at 0x7fee9c51b5e0> triggered tf.function retracing. Tracing is expensive and the excessive number of tracings is likely due to passing python objects instead of tensors. Also, tf.function has experimental_relax_shapes=True option that relaxes argument shapes that can avoid unnecessary retracing. Please refer to https://www.tensorflow.org/tutorials/customization/performance#python_or_tensor_args and https://www.tensorflow.org/api_docs/python/tf/function for more details.\n",
      "WARNING:tensorflow:11 out of the last 11 calls to <function Model.make_predict_function.<locals>.predict_function at 0x7fee9c51b5e0> triggered tf.function retracing. Tracing is expensive and the excessive number of tracings is likely due to passing python objects instead of tensors. Also, tf.function has experimental_relax_shapes=True option that relaxes argument shapes that can avoid unnecessary retracing. Please refer to https://www.tensorflow.org/tutorials/customization/performance#python_or_tensor_args and https://www.tensorflow.org/api_docs/python/tf/function for more details.\n",
      "WARNING:tensorflow:11 out of the last 11 calls to <function Model.make_predict_function.<locals>.predict_function at 0x7fee9c51b5e0> triggered tf.function retracing. Tracing is expensive and the excessive number of tracings is likely due to passing python objects instead of tensors. Also, tf.function has experimental_relax_shapes=True option that relaxes argument shapes that can avoid unnecessary retracing. Please refer to https://www.tensorflow.org/tutorials/customization/performance#python_or_tensor_args and https://www.tensorflow.org/api_docs/python/tf/function for more details.\n",
      "WARNING:tensorflow:11 out of the last 11 calls to <function Model.make_predict_function.<locals>.predict_function at 0x7fee9c51b5e0> triggered tf.function retracing. Tracing is expensive and the excessive number of tracings is likely due to passing python objects instead of tensors. Also, tf.function has experimental_relax_shapes=True option that relaxes argument shapes that can avoid unnecessary retracing. Please refer to https://www.tensorflow.org/tutorials/customization/performance#python_or_tensor_args and https://www.tensorflow.org/api_docs/python/tf/function for more details.\n",
      "WARNING:tensorflow:11 out of the last 11 calls to <function Model.make_predict_function.<locals>.predict_function at 0x7fee9c51b5e0> triggered tf.function retracing. Tracing is expensive and the excessive number of tracings is likely due to passing python objects instead of tensors. Also, tf.function has experimental_relax_shapes=True option that relaxes argument shapes that can avoid unnecessary retracing. Please refer to https://www.tensorflow.org/tutorials/customization/performance#python_or_tensor_args and https://www.tensorflow.org/api_docs/python/tf/function for more details.\n",
      "WARNING:tensorflow:11 out of the last 11 calls to <function Model.make_predict_function.<locals>.predict_function at 0x7fee9c51b5e0> triggered tf.function retracing. Tracing is expensive and the excessive number of tracings is likely due to passing python objects instead of tensors. Also, tf.function has experimental_relax_shapes=True option that relaxes argument shapes that can avoid unnecessary retracing. Please refer to https://www.tensorflow.org/tutorials/customization/performance#python_or_tensor_args and https://www.tensorflow.org/api_docs/python/tf/function for more details.\n"
     ]
    },
    {
     "name": "stdout",
     "output_type": "stream",
     "text": [
      "WARNING:tensorflow:11 out of the last 11 calls to <function Model.make_predict_function.<locals>.predict_function at 0x7fee9c51b5e0> triggered tf.function retracing. Tracing is expensive and the excessive number of tracings is likely due to passing python objects instead of tensors. Also, tf.function has experimental_relax_shapes=True option that relaxes argument shapes that can avoid unnecessary retracing. Please refer to https://www.tensorflow.org/tutorials/customization/performance#python_or_tensor_args and https://www.tensorflow.org/api_docs/python/tf/function for more details.\n",
      "WARNING:tensorflow:11 out of the last 11 calls to <function Model.make_predict_function.<locals>.predict_function at 0x7fee9c51b5e0> triggered tf.function retracing. Tracing is expensive and the excessive number of tracings is likely due to passing python objects instead of tensors. Also, tf.function has experimental_relax_shapes=True option that relaxes argument shapes that can avoid unnecessary retracing. Please refer to https://www.tensorflow.org/tutorials/customization/performance#python_or_tensor_args and https://www.tensorflow.org/api_docs/python/tf/function for more details.\n",
      "WARNING:tensorflow:11 out of the last 11 calls to <function Model.make_predict_function.<locals>.predict_function at 0x7fee9c51b5e0> triggered tf.function retracing. Tracing is expensive and the excessive number of tracings is likely due to passing python objects instead of tensors. Also, tf.function has experimental_relax_shapes=True option that relaxes argument shapes that can avoid unnecessary retracing. Please refer to https://www.tensorflow.org/tutorials/customization/performance#python_or_tensor_args and https://www.tensorflow.org/api_docs/python/tf/function for more details.\n",
      "WARNING:tensorflow:11 out of the last 11 calls to <function Model.make_predict_function.<locals>.predict_function at 0x7fee9c51b5e0> triggered tf.function retracing. Tracing is expensive and the excessive number of tracings is likely due to passing python objects instead of tensors. Also, tf.function has experimental_relax_shapes=True option that relaxes argument shapes that can avoid unnecessary retracing. Please refer to https://www.tensorflow.org/tutorials/customization/performance#python_or_tensor_args and https://www.tensorflow.org/api_docs/python/tf/function for more details.\n",
      "WARNING:tensorflow:11 out of the last 11 calls to <function Model.make_predict_function.<locals>.predict_function at 0x7fee9c51b5e0> triggered tf.function retracing. Tracing is expensive and the excessive number of tracings is likely due to passing python objects instead of tensors. Also, tf.function has experimental_relax_shapes=True option that relaxes argument shapes that can avoid unnecessary retracing. Please refer to https://www.tensorflow.org/tutorials/customization/performance#python_or_tensor_args and https://www.tensorflow.org/api_docs/python/tf/function for more details.\n",
      "WARNING:tensorflow:11 out of the last 11 calls to <function Model.make_predict_function.<locals>.predict_function at 0x7fee9c51b5e0> triggered tf.function retracing. Tracing is expensive and the excessive number of tracings is likely due to passing python objects instead of tensors. Also, tf.function has experimental_relax_shapes=True option that relaxes argument shapes that can avoid unnecessary retracing. Please refer to https://www.tensorflow.org/tutorials/customization/performance#python_or_tensor_args and https://www.tensorflow.org/api_docs/python/tf/function for more details.\n",
      "WARNING:tensorflow:11 out of the last 11 calls to <function Model.make_predict_function.<locals>.predict_function at 0x7fee9c51b5e0> triggered tf.function retracing. Tracing is expensive and the excessive number of tracings is likely due to passing python objects instead of tensors. Also, tf.function has experimental_relax_shapes=True option that relaxes argument shapes that can avoid unnecessary retracing. Please refer to https://www.tensorflow.org/tutorials/customization/performance#python_or_tensor_args and https://www.tensorflow.org/api_docs/python/tf/function for more details.\n",
      "WARNING:tensorflow:11 out of the last 11 calls to <function Model.make_predict_function.<locals>.predict_function at 0x7fee9c51b5e0> triggered tf.function retracing. Tracing is expensive and the excessive number of tracings is likely due to passing python objects instead of tensors. Also, tf.function has experimental_relax_shapes=True option that relaxes argument shapes that can avoid unnecessary retracing. Please refer to https://www.tensorflow.org/tutorials/customization/performance#python_or_tensor_args and https://www.tensorflow.org/api_docs/python/tf/function for more details.\n",
      "WARNING:tensorflow:11 out of the last 11 calls to <function Model.make_predict_function.<locals>.predict_function at 0x7fee9c51b5e0> triggered tf.function retracing. Tracing is expensive and the excessive number of tracings is likely due to passing python objects instead of tensors. Also, tf.function has experimental_relax_shapes=True option that relaxes argument shapes that can avoid unnecessary retracing. Please refer to https://www.tensorflow.org/tutorials/customization/performance#python_or_tensor_args and https://www.tensorflow.org/api_docs/python/tf/function for more details.\n",
      "WARNING:tensorflow:11 out of the last 11 calls to <function Model.make_predict_function.<locals>.predict_function at 0x7fee9c51b5e0> triggered tf.function retracing. Tracing is expensive and the excessive number of tracings is likely due to passing python objects instead of tensors. Also, tf.function has experimental_relax_shapes=True option that relaxes argument shapes that can avoid unnecessary retracing. Please refer to https://www.tensorflow.org/tutorials/customization/performance#python_or_tensor_args and https://www.tensorflow.org/api_docs/python/tf/function for more details.\n",
      "WARNING:tensorflow:11 out of the last 11 calls to <function Model.make_predict_function.<locals>.predict_function at 0x7fee9c51b5e0> triggered tf.function retracing. Tracing is expensive and the excessive number of tracings is likely due to passing python objects instead of tensors. Also, tf.function has experimental_relax_shapes=True option that relaxes argument shapes that can avoid unnecessary retracing. Please refer to https://www.tensorflow.org/tutorials/customization/performance#python_or_tensor_args and https://www.tensorflow.org/api_docs/python/tf/function for more details.\n",
      "WARNING:tensorflow:11 out of the last 11 calls to <function Model.make_predict_function.<locals>.predict_function at 0x7fee9c51b5e0> triggered tf.function retracing. Tracing is expensive and the excessive number of tracings is likely due to passing python objects instead of tensors. Also, tf.function has experimental_relax_shapes=True option that relaxes argument shapes that can avoid unnecessary retracing. Please refer to https://www.tensorflow.org/tutorials/customization/performance#python_or_tensor_args and https://www.tensorflow.org/api_docs/python/tf/function for more details.\n"
     ]
    },
    {
     "name": "stderr",
     "output_type": "stream",
     "text": [
      "\r",
      " 15%|█▌        | 3/20 [00:45<04:26, 15.67s/it]"
     ]
    },
    {
     "name": "stdout",
     "output_type": "stream",
     "text": [
      "WARNING:tensorflow:5 out of the last 110 calls to <function Model.make_predict_function.<locals>.predict_function at 0x7fee9c51b5e0> triggered tf.function retracing. Tracing is expensive and the excessive number of tracings is likely due to passing python objects instead of tensors. Also, tf.function has experimental_relax_shapes=True option that relaxes argument shapes that can avoid unnecessary retracing. Please refer to https://www.tensorflow.org/tutorials/customization/performance#python_or_tensor_args and https://www.tensorflow.org/api_docs/python/tf/function for more details.\n",
      "WARNING:tensorflow:6 out of the last 111 calls to <function Model.make_predict_function.<locals>.predict_function at 0x7fee9c51b5e0> triggered tf.function retracing. Tracing is expensive and the excessive number of tracings is likely due to passing python objects instead of tensors. Also, tf.function has experimental_relax_shapes=True option that relaxes argument shapes that can avoid unnecessary retracing. Please refer to https://www.tensorflow.org/tutorials/customization/performance#python_or_tensor_args and https://www.tensorflow.org/api_docs/python/tf/function for more details.\n",
      "WARNING:tensorflow:7 out of the last 112 calls to <function Model.make_predict_function.<locals>.predict_function at 0x7fee9c51b5e0> triggered tf.function retracing. Tracing is expensive and the excessive number of tracings is likely due to passing python objects instead of tensors. Also, tf.function has experimental_relax_shapes=True option that relaxes argument shapes that can avoid unnecessary retracing. Please refer to https://www.tensorflow.org/tutorials/customization/performance#python_or_tensor_args and https://www.tensorflow.org/api_docs/python/tf/function for more details.\n",
      "WARNING:tensorflow:8 out of the last 113 calls to <function Model.make_predict_function.<locals>.predict_function at 0x7fee9c51b5e0> triggered tf.function retracing. Tracing is expensive and the excessive number of tracings is likely due to passing python objects instead of tensors. Also, tf.function has experimental_relax_shapes=True option that relaxes argument shapes that can avoid unnecessary retracing. Please refer to https://www.tensorflow.org/tutorials/customization/performance#python_or_tensor_args and https://www.tensorflow.org/api_docs/python/tf/function for more details.\n",
      "WARNING:tensorflow:9 out of the last 114 calls to <function Model.make_predict_function.<locals>.predict_function at 0x7fee9c51b5e0> triggered tf.function retracing. Tracing is expensive and the excessive number of tracings is likely due to passing python objects instead of tensors. Also, tf.function has experimental_relax_shapes=True option that relaxes argument shapes that can avoid unnecessary retracing. Please refer to https://www.tensorflow.org/tutorials/customization/performance#python_or_tensor_args and https://www.tensorflow.org/api_docs/python/tf/function for more details.\n",
      "WARNING:tensorflow:10 out of the last 115 calls to <function Model.make_predict_function.<locals>.predict_function at 0x7fee9c51b5e0> triggered tf.function retracing. Tracing is expensive and the excessive number of tracings is likely due to passing python objects instead of tensors. Also, tf.function has experimental_relax_shapes=True option that relaxes argument shapes that can avoid unnecessary retracing. Please refer to https://www.tensorflow.org/tutorials/customization/performance#python_or_tensor_args and https://www.tensorflow.org/api_docs/python/tf/function for more details.\n",
      "WARNING:tensorflow:11 out of the last 116 calls to <function Model.make_predict_function.<locals>.predict_function at 0x7fee9c51b5e0> triggered tf.function retracing. Tracing is expensive and the excessive number of tracings is likely due to passing python objects instead of tensors. Also, tf.function has experimental_relax_shapes=True option that relaxes argument shapes that can avoid unnecessary retracing. Please refer to https://www.tensorflow.org/tutorials/customization/performance#python_or_tensor_args and https://www.tensorflow.org/api_docs/python/tf/function for more details.\n",
      "WARNING:tensorflow:11 out of the last 11 calls to <function Model.make_predict_function.<locals>.predict_function at 0x7fee9c51b5e0> triggered tf.function retracing. Tracing is expensive and the excessive number of tracings is likely due to passing python objects instead of tensors. Also, tf.function has experimental_relax_shapes=True option that relaxes argument shapes that can avoid unnecessary retracing. Please refer to https://www.tensorflow.org/tutorials/customization/performance#python_or_tensor_args and https://www.tensorflow.org/api_docs/python/tf/function for more details.\n",
      "WARNING:tensorflow:11 out of the last 11 calls to <function Model.make_predict_function.<locals>.predict_function at 0x7fee9c51b5e0> triggered tf.function retracing. Tracing is expensive and the excessive number of tracings is likely due to passing python objects instead of tensors. Also, tf.function has experimental_relax_shapes=True option that relaxes argument shapes that can avoid unnecessary retracing. Please refer to https://www.tensorflow.org/tutorials/customization/performance#python_or_tensor_args and https://www.tensorflow.org/api_docs/python/tf/function for more details.\n",
      "WARNING:tensorflow:11 out of the last 11 calls to <function Model.make_predict_function.<locals>.predict_function at 0x7fee9c51b5e0> triggered tf.function retracing. Tracing is expensive and the excessive number of tracings is likely due to passing python objects instead of tensors. Also, tf.function has experimental_relax_shapes=True option that relaxes argument shapes that can avoid unnecessary retracing. Please refer to https://www.tensorflow.org/tutorials/customization/performance#python_or_tensor_args and https://www.tensorflow.org/api_docs/python/tf/function for more details.\n",
      "WARNING:tensorflow:11 out of the last 11 calls to <function Model.make_predict_function.<locals>.predict_function at 0x7fee9c51b5e0> triggered tf.function retracing. Tracing is expensive and the excessive number of tracings is likely due to passing python objects instead of tensors. Also, tf.function has experimental_relax_shapes=True option that relaxes argument shapes that can avoid unnecessary retracing. Please refer to https://www.tensorflow.org/tutorials/customization/performance#python_or_tensor_args and https://www.tensorflow.org/api_docs/python/tf/function for more details.\n",
      "WARNING:tensorflow:11 out of the last 11 calls to <function Model.make_predict_function.<locals>.predict_function at 0x7fee9c51b5e0> triggered tf.function retracing. Tracing is expensive and the excessive number of tracings is likely due to passing python objects instead of tensors. Also, tf.function has experimental_relax_shapes=True option that relaxes argument shapes that can avoid unnecessary retracing. Please refer to https://www.tensorflow.org/tutorials/customization/performance#python_or_tensor_args and https://www.tensorflow.org/api_docs/python/tf/function for more details.\n",
      "WARNING:tensorflow:11 out of the last 11 calls to <function Model.make_predict_function.<locals>.predict_function at 0x7fee9c51b5e0> triggered tf.function retracing. Tracing is expensive and the excessive number of tracings is likely due to passing python objects instead of tensors. Also, tf.function has experimental_relax_shapes=True option that relaxes argument shapes that can avoid unnecessary retracing. Please refer to https://www.tensorflow.org/tutorials/customization/performance#python_or_tensor_args and https://www.tensorflow.org/api_docs/python/tf/function for more details.\n",
      "WARNING:tensorflow:11 out of the last 11 calls to <function Model.make_predict_function.<locals>.predict_function at 0x7fee9c51b5e0> triggered tf.function retracing. Tracing is expensive and the excessive number of tracings is likely due to passing python objects instead of tensors. Also, tf.function has experimental_relax_shapes=True option that relaxes argument shapes that can avoid unnecessary retracing. Please refer to https://www.tensorflow.org/tutorials/customization/performance#python_or_tensor_args and https://www.tensorflow.org/api_docs/python/tf/function for more details.\n"
     ]
    },
    {
     "name": "stdout",
     "output_type": "stream",
     "text": [
      "WARNING:tensorflow:11 out of the last 11 calls to <function Model.make_predict_function.<locals>.predict_function at 0x7fee9c51b5e0> triggered tf.function retracing. Tracing is expensive and the excessive number of tracings is likely due to passing python objects instead of tensors. Also, tf.function has experimental_relax_shapes=True option that relaxes argument shapes that can avoid unnecessary retracing. Please refer to https://www.tensorflow.org/tutorials/customization/performance#python_or_tensor_args and https://www.tensorflow.org/api_docs/python/tf/function for more details.\n",
      "WARNING:tensorflow:11 out of the last 11 calls to <function Model.make_predict_function.<locals>.predict_function at 0x7fee9c51b5e0> triggered tf.function retracing. Tracing is expensive and the excessive number of tracings is likely due to passing python objects instead of tensors. Also, tf.function has experimental_relax_shapes=True option that relaxes argument shapes that can avoid unnecessary retracing. Please refer to https://www.tensorflow.org/tutorials/customization/performance#python_or_tensor_args and https://www.tensorflow.org/api_docs/python/tf/function for more details.\n",
      "WARNING:tensorflow:11 out of the last 11 calls to <function Model.make_predict_function.<locals>.predict_function at 0x7fee9c51b5e0> triggered tf.function retracing. Tracing is expensive and the excessive number of tracings is likely due to passing python objects instead of tensors. Also, tf.function has experimental_relax_shapes=True option that relaxes argument shapes that can avoid unnecessary retracing. Please refer to https://www.tensorflow.org/tutorials/customization/performance#python_or_tensor_args and https://www.tensorflow.org/api_docs/python/tf/function for more details.\n",
      "WARNING:tensorflow:11 out of the last 11 calls to <function Model.make_predict_function.<locals>.predict_function at 0x7fee9c51b5e0> triggered tf.function retracing. Tracing is expensive and the excessive number of tracings is likely due to passing python objects instead of tensors. Also, tf.function has experimental_relax_shapes=True option that relaxes argument shapes that can avoid unnecessary retracing. Please refer to https://www.tensorflow.org/tutorials/customization/performance#python_or_tensor_args and https://www.tensorflow.org/api_docs/python/tf/function for more details.\n",
      "WARNING:tensorflow:11 out of the last 11 calls to <function Model.make_predict_function.<locals>.predict_function at 0x7fee9c51b5e0> triggered tf.function retracing. Tracing is expensive and the excessive number of tracings is likely due to passing python objects instead of tensors. Also, tf.function has experimental_relax_shapes=True option that relaxes argument shapes that can avoid unnecessary retracing. Please refer to https://www.tensorflow.org/tutorials/customization/performance#python_or_tensor_args and https://www.tensorflow.org/api_docs/python/tf/function for more details.\n",
      "WARNING:tensorflow:11 out of the last 11 calls to <function Model.make_predict_function.<locals>.predict_function at 0x7fee9c51b5e0> triggered tf.function retracing. Tracing is expensive and the excessive number of tracings is likely due to passing python objects instead of tensors. Also, tf.function has experimental_relax_shapes=True option that relaxes argument shapes that can avoid unnecessary retracing. Please refer to https://www.tensorflow.org/tutorials/customization/performance#python_or_tensor_args and https://www.tensorflow.org/api_docs/python/tf/function for more details.\n"
     ]
    },
    {
     "name": "stderr",
     "output_type": "stream",
     "text": [
      "100%|██████████| 20/20 [01:41<00:00,  5.10s/it]\n"
     ]
    }
   ],
   "source": [
    "base_generated = generator.sample(num=sample_number)"
   ]
  },
  {
   "cell_type": "code",
   "execution_count": 23,
   "metadata": {},
   "outputs": [
    {
     "name": "stderr",
     "output_type": "stream",
     "text": [
      "RDKit ERROR: [02:14:29] SMILES Parse Error: extra open parentheses for input: 'CC(C)C1(NC(=O)C(Cc2ccccc2)CC(CC2CCCCCC2)C(=O)NC(Cc2ccccc1)C(=O)NC(Cc1ccccc1)C(=O)NC(Cc1ccccc1)C(=O)NC(Cc1ccccc1)C(=O)NC(Cc1ccccc'\n",
      "RDKit ERROR: [02:14:29] SMILES Parse Error: extra open parentheses for input: 'CC(C)(C)CC(NC(=O)C(Cc1ccccc1)NC(=O)C(Cc1ccccc1)NC(=O)C(Cc1ccccc1)NC(=O)C(Cc1ccccc1)NC(=O)OC1COC2OCCC12)S(=O)(=O)c1ccc(NC(=O)C(Cc'\n",
      "RDKit ERROR: [02:14:29] SMILES Parse Error: extra open parentheses for input: 'CC(C)(C)CC(NC(=O)C(Cc1ccccc1)NC(=O)C(Cc1ccccc1)NC(=O)C(Cc1ccccc1)NC(=O)OC1COC2OCCC12)S(=O)(=O)c1ccc(NC(=O)C(O)C(O)C(O)C(O)C(O)CO'\n",
      "RDKit ERROR: [02:14:29] SMILES Parse Error: extra open parentheses for input: 'CC(C)(C)CC(NC(=O)C(Cc1ccccc1)NC(=O)C(CC(C)(C)C)NC(=O)C(Cc1ccccc1)NC(=O)C(Cc1ccccc1)NC(=O)C(Cc1ccccc1)NC(=O)C(Cc1ccccc1)NC(=O)OC1'\n",
      "RDKit ERROR: [02:14:29] SMILES Parse Error: extra open parentheses for input: 'CC1(C)CCCC2(C)C(CCC1CCCCCCCCC(N)=O)CCCCCCCCCCCCCCCCCCCCCCCCCCCCCCCCCCCCCCCCCCCCCCCCCCCCCCCCCCCCCCCCCCCCCCCCCCCCCCCCCCCCCCCN(CC(O'\n"
     ]
    },
    {
     "data": {
      "text/plain": [
       "37"
      ]
     },
     "execution_count": 23,
     "metadata": {},
     "output_type": "execute_result"
    }
   ],
   "source": [
    "base_generated_mols = validate_mols(base_generated)\n",
    "base_generated_smiles = convert_mols_to_smiles(base_generated_mols)\n",
    "random.shuffle(base_generated_smiles)\n",
    "random.shuffle(base_generated_smiles)\n",
    "# Select X for training data to refine the molecule generator RNN (ensures diverity)\n",
    "training_smiles += base_generated_smiles[0:5]\n",
    "len(training_smiles)"
   ]
  },
  {
   "cell_type": "code",
   "execution_count": 24,
   "metadata": {},
   "outputs": [
    {
     "data": {
      "text/html": [
       "<div>\n",
       "<style scoped>\n",
       "    .dataframe tbody tr th:only-of-type {\n",
       "        vertical-align: middle;\n",
       "    }\n",
       "\n",
       "    .dataframe tbody tr th {\n",
       "        vertical-align: top;\n",
       "    }\n",
       "\n",
       "    .dataframe thead th {\n",
       "        text-align: right;\n",
       "    }\n",
       "</style>\n",
       "<table border=\"1\" class=\"dataframe\">\n",
       "  <thead>\n",
       "    <tr style=\"text-align: right;\">\n",
       "      <th></th>\n",
       "      <th>id</th>\n",
       "      <th>gen</th>\n",
       "      <th>smile</th>\n",
       "      <th>source</th>\n",
       "      <th>weight</th>\n",
       "      <th>score</th>\n",
       "    </tr>\n",
       "  </thead>\n",
       "  <tbody>\n",
       "    <tr>\n",
       "      <th>0</th>\n",
       "      <td>AABL</td>\n",
       "      <td>10</td>\n",
       "      <td>O=C(NC(Cc1ccccc1)C(=O)NC(Cc1ccccc1)C(=O)O)C1CC...</td>\n",
       "      <td>generated</td>\n",
       "      <td>786.926</td>\n",
       "      <td>-17.9</td>\n",
       "    </tr>\n",
       "    <tr>\n",
       "      <th>1</th>\n",
       "      <td>AADG</td>\n",
       "      <td>9</td>\n",
       "      <td>O=C(NC1CC2CCC(C1)N2CCc1ccccc1)C1CC2CC(C1)C2C(=...</td>\n",
       "      <td>generated</td>\n",
       "      <td>838.062</td>\n",
       "      <td>-17.7</td>\n",
       "    </tr>\n",
       "    <tr>\n",
       "      <th>2</th>\n",
       "      <td>AACA</td>\n",
       "      <td>10</td>\n",
       "      <td>O=C(NC1CC2CCC(C1)N2CCc1ccccc1)C1CC2CC(C1)C2C(=...</td>\n",
       "      <td>generated</td>\n",
       "      <td>838.062</td>\n",
       "      <td>-17.7</td>\n",
       "    </tr>\n",
       "    <tr>\n",
       "      <th>3</th>\n",
       "      <td>AABO</td>\n",
       "      <td>9</td>\n",
       "      <td>O=C(NC1CC2CCC(C1)N2CCc1ccccn1)C1CC2CCC(C1)C2C(...</td>\n",
       "      <td>generated</td>\n",
       "      <td>853.077</td>\n",
       "      <td>-17.6</td>\n",
       "    </tr>\n",
       "    <tr>\n",
       "      <th>4</th>\n",
       "      <td>AABK</td>\n",
       "      <td>10</td>\n",
       "      <td>O=C(NC1CC2CCC(C1)N2CCc1ccccn1)C1CC2CCC(C1)C2C(...</td>\n",
       "      <td>generated</td>\n",
       "      <td>853.077</td>\n",
       "      <td>-17.6</td>\n",
       "    </tr>\n",
       "  </tbody>\n",
       "</table>\n",
       "</div>"
      ],
      "text/plain": [
       "     id  gen                                              smile     source  \\\n",
       "0  AABL   10  O=C(NC(Cc1ccccc1)C(=O)NC(Cc1ccccc1)C(=O)O)C1CC...  generated   \n",
       "1  AADG    9  O=C(NC1CC2CCC(C1)N2CCc1ccccc1)C1CC2CC(C1)C2C(=...  generated   \n",
       "2  AACA   10  O=C(NC1CC2CCC(C1)N2CCc1ccccc1)C1CC2CC(C1)C2C(=...  generated   \n",
       "3  AABO    9  O=C(NC1CC2CCC(C1)N2CCc1ccccn1)C1CC2CCC(C1)C2C(...  generated   \n",
       "4  AABK   10  O=C(NC1CC2CCC(C1)N2CCc1ccccn1)C1CC2CCC(C1)C2C(...  generated   \n",
       "\n",
       "    weight  score  \n",
       "0  786.926  -17.9  \n",
       "1  838.062  -17.7  \n",
       "2  838.062  -17.7  \n",
       "3  853.077  -17.6  \n",
       "4  853.077  -17.6  "
      ]
     },
     "execution_count": 24,
     "metadata": {},
     "output_type": "execute_result"
    }
   ],
   "source": [
    "master_table = pd.read_csv('./generations/master_results_table_gen' + str(GLOBAL_GENERATION-1) + '.csv',sep=',')\n",
    "master_table.head()"
   ]
  },
  {
   "cell_type": "code",
   "execution_count": 26,
   "metadata": {},
   "outputs": [],
   "source": [
    "# Save the list of smiles to train on\n",
    "with open('./generations/training/gen' + str(GLOBAL_GENERATION) + '_training.smi', 'w') as f:\n",
    "    for item in training_smiles:\n",
    "        f.write(\"%s\\n\" % item)"
   ]
  },
  {
   "cell_type": "markdown",
   "metadata": {},
   "source": [
    "\n",
    "## Retrain the network to create molecules more like those selected above"
   ]
  },
  {
   "cell_type": "code",
   "execution_count": 27,
   "metadata": {},
   "outputs": [],
   "source": [
    "from lstm_chem.finetuner import LSTMChemFinetuner"
   ]
  },
  {
   "cell_type": "code",
   "execution_count": 28,
   "metadata": {},
   "outputs": [
    {
     "name": "stdout",
     "output_type": "stream",
     "text": [
      "batch_size: 512\n",
      "checkpoint_dir: experiments/2020-10-13/LSTM_Chem/checkpoints/\n",
      "checkpoint_mode: min\n",
      "checkpoint_monitor: val_loss\n",
      "checkpoint_save_best_only: false\n",
      "checkpoint_save_weights_only: true\n",
      "checkpoint_verbose: 1\n",
      "config_file: config/config.json\n",
      "data_filename: ./datasets/dataset_cleansed.smi\n",
      "data_length: 0\n",
      "exp_dir: experiments/2020-10-13/LSTM_Chem\n",
      "exp_name: LSTM_Chem\n",
      "finetune_batch_size: 1\n",
      "finetune_data_filename: ./generations/training/gen6_training.smi\n",
      "finetune_epochs: 5\n",
      "model_arch_filename: ./config/model_arch.json\n",
      "model_weight_filename: ./checkpoints/finetuned_gen5.hdf5\n",
      "num_epochs: 42\n",
      "optimizer: adam\n",
      "sampling_temp: 0.75\n",
      "seed: 71\n",
      "smiles_max_length: 128\n",
      "tensorboard_log_dir: experiments/2020-10-13/LSTM_Chem/logs/\n",
      "tensorboard_write_graph: true\n",
      "train_smi_max_len: 128\n",
      "units: 256\n",
      "validation_split: 0.1\n",
      "verbose_training: true\n",
      "\n"
     ]
    }
   ],
   "source": [
    "config = process_config('config/config.json')\n",
    "config['model_weight_filename'] = './checkpoints/finetuned_gen' + str(GLOBAL_GENERATION-1) + '.hdf5'\n",
    "config['finetune_data_filename'] = './generations/training/gen' + str(GLOBAL_GENERATION) + '_training.smi'\n",
    "print(config)"
   ]
  },
  {
   "cell_type": "code",
   "execution_count": 30,
   "metadata": {},
   "outputs": [
    {
     "name": "stdout",
     "output_type": "stream",
     "text": [
      "Loading model architecture from ./config/model_arch.json ...\n",
      "WARNING:tensorflow:Layer lstm will not use cuDNN kernel since it doesn't meet the cuDNN kernel criteria. It will use generic GPU kernel as fallback when running on GPU\n",
      "WARNING:tensorflow:Layer lstm_1 will not use cuDNN kernel since it doesn't meet the cuDNN kernel criteria. It will use generic GPU kernel as fallback when running on GPU\n"
     ]
    },
    {
     "name": "stderr",
     "output_type": "stream",
     "text": [
      "100%|██████████| 37/37 [00:00<00:00, 1986.70it/s]"
     ]
    },
    {
     "name": "stdout",
     "output_type": "stream",
     "text": [
      "Loading model checkpoint from ./checkpoints/finetuned_gen5.hdf5 ...\n",
      "Loaded the Model.\n",
      "loading SMILES...\n",
      "done.\n",
      "tokenizing SMILES...\n",
      "done.\n",
      "WARNING:tensorflow:From /home/yash_patel0419/covid/covid-19-deep-learning/lstm_chem/finetuner.py:17: Model.fit_generator (from tensorflow.python.keras.engine.training) is deprecated and will be removed in a future version.\n",
      "Instructions for updating:\n",
      "Please use Model.fit, which supports generators.\n",
      "Epoch 1/5\n"
     ]
    },
    {
     "name": "stderr",
     "output_type": "stream",
     "text": [
      "\n"
     ]
    },
    {
     "name": "stdout",
     "output_type": "stream",
     "text": [
      "WARNING:tensorflow:multiprocessing can interact badly with TensorFlow, causing nondeterministic deadlocks. For high performance data pipelines tf.data is recommended.\n",
      "36/37 [============================>.] - ETA: 0s - loss: 0.2155WARNING:tensorflow:multiprocessing can interact badly with TensorFlow, causing nondeterministic deadlocks. For high performance data pipelines tf.data is recommended.\n",
      "37/37 [==============================] - 21s 562ms/step - loss: 0.2116\n",
      "Epoch 2/5\n",
      "WARNING:tensorflow:multiprocessing can interact badly with TensorFlow, causing nondeterministic deadlocks. For high performance data pipelines tf.data is recommended.\n",
      "36/37 [============================>.] - ETA: 0s - loss: 0.1502WARNING:tensorflow:multiprocessing can interact badly with TensorFlow, causing nondeterministic deadlocks. For high performance data pipelines tf.data is recommended.\n",
      "37/37 [==============================] - 22s 589ms/step - loss: 0.1475\n",
      "Epoch 3/5\n",
      "WARNING:tensorflow:multiprocessing can interact badly with TensorFlow, causing nondeterministic deadlocks. For high performance data pipelines tf.data is recommended.\n",
      "36/37 [============================>.] - ETA: 0s - loss: 0.1148WARNING:tensorflow:multiprocessing can interact badly with TensorFlow, causing nondeterministic deadlocks. For high performance data pipelines tf.data is recommended.\n",
      "37/37 [==============================] - 21s 560ms/step - loss: 0.1183\n",
      "Epoch 4/5\n",
      "WARNING:tensorflow:multiprocessing can interact badly with TensorFlow, causing nondeterministic deadlocks. For high performance data pipelines tf.data is recommended.\n",
      "36/37 [============================>.] - ETA: 0s - loss: 0.1077WARNING:tensorflow:multiprocessing can interact badly with TensorFlow, causing nondeterministic deadlocks. For high performance data pipelines tf.data is recommended.\n",
      "37/37 [==============================] - 20s 540ms/step - loss: 0.1061\n",
      "Epoch 5/5\n",
      "WARNING:tensorflow:multiprocessing can interact badly with TensorFlow, causing nondeterministic deadlocks. For high performance data pipelines tf.data is recommended.\n",
      "36/37 [============================>.] - ETA: 0s - loss: 0.0900WARNING:tensorflow:multiprocessing can interact badly with TensorFlow, causing nondeterministic deadlocks. For high performance data pipelines tf.data is recommended.\n",
      "37/37 [==============================] - 20s 540ms/step - loss: 0.0888\n"
     ]
    },
    {
     "data": {
      "text/plain": [
       "<tensorflow.python.keras.callbacks.History at 0x7fe95c695790>"
      ]
     },
     "execution_count": 30,
     "metadata": {},
     "output_type": "execute_result"
    }
   ],
   "source": [
    "modeler = LSTMChem(config, session='finetune')\n",
    "finetune_dl = DataLoader(config, data_type='finetune')\n",
    "\n",
    "finetuner = LSTMChemFinetuner(modeler, finetune_dl)\n",
    "finetuner.finetune()"
   ]
  },
  {
   "cell_type": "code",
   "execution_count": 31,
   "metadata": {},
   "outputs": [],
   "source": [
    "finetuner.model.save_weights('./checkpoints/finetuned_gen' + str(GLOBAL_GENERATION) + '.hdf5')"
   ]
  },
  {
   "cell_type": "code",
   "execution_count": 32,
   "metadata": {},
   "outputs": [
    {
     "name": "stdout",
     "output_type": "stream",
     "text": [
      "Loading model architecture from ./config/model_arch.json ...\n",
      "WARNING:tensorflow:Layer lstm will not use cuDNN kernel since it doesn't meet the cuDNN kernel criteria. It will use generic GPU kernel as fallback when running on GPU\n",
      "WARNING:tensorflow:Layer lstm_1 will not use cuDNN kernel since it doesn't meet the cuDNN kernel criteria. It will use generic GPU kernel as fallback when running on GPU\n",
      "Loading model checkpoint from ./checkpoints/finetuned_gen6.hdf5 ...\n",
      "Loaded the Model.\n",
      "batch_size: 512\n",
      "checkpoint_dir: experiments/2020-10-13/LSTM_Chem/checkpoints/\n",
      "checkpoint_mode: min\n",
      "checkpoint_monitor: val_loss\n",
      "checkpoint_save_best_only: false\n",
      "checkpoint_save_weights_only: true\n",
      "checkpoint_verbose: 1\n",
      "config_file: config/config.json\n",
      "data_filename: ./datasets/dataset_cleansed.smi\n",
      "data_length: 0\n",
      "exp_dir: experiments/2020-10-13/LSTM_Chem\n",
      "exp_name: LSTM_Chem\n",
      "finetune_batch_size: 1\n",
      "finetune_data_filename: ./generations/training/gen6_training.smi\n",
      "finetune_epochs: 5\n",
      "model_arch_filename: ./config/model_arch.json\n",
      "model_weight_filename: ./checkpoints/finetuned_gen6.hdf5\n",
      "num_epochs: 42\n",
      "optimizer: adam\n",
      "sampling_temp: 0.75\n",
      "seed: 71\n",
      "smiles_max_length: 128\n",
      "tensorboard_log_dir: experiments/2020-10-13/LSTM_Chem/logs/\n",
      "tensorboard_write_graph: true\n",
      "train_smi_max_len: 128\n",
      "units: 256\n",
      "validation_split: 0.1\n",
      "verbose_training: true\n",
      "\n"
     ]
    }
   ],
   "source": [
    "config['model_weight_filename'] = './checkpoints/finetuned_gen' + str(GLOBAL_GENERATION) + '.hdf5'\n",
    "modeler = LSTMChem(config, session='generate')\n",
    "generator = LSTMChemGenerator(modeler)\n",
    "print(config)"
   ]
  },
  {
   "cell_type": "code",
   "execution_count": 33,
   "metadata": {
    "scrolled": true
   },
   "outputs": [
    {
     "name": "stderr",
     "output_type": "stream",
     "text": [
      "\r",
      "  0%|          | 0/5000 [00:00<?, ?it/s]"
     ]
    },
    {
     "name": "stdout",
     "output_type": "stream",
     "text": [
      "WARNING:tensorflow:5 out of the last 5 calls to <function Model.make_predict_function.<locals>.predict_function at 0x7fe92bba3160> triggered tf.function retracing. Tracing is expensive and the excessive number of tracings is likely due to passing python objects instead of tensors. Also, tf.function has experimental_relax_shapes=True option that relaxes argument shapes that can avoid unnecessary retracing. Please refer to https://www.tensorflow.org/tutorials/customization/performance#python_or_tensor_args and https://www.tensorflow.org/api_docs/python/tf/function for more details.\n",
      "WARNING:tensorflow:6 out of the last 6 calls to <function Model.make_predict_function.<locals>.predict_function at 0x7fe92bba3160> triggered tf.function retracing. Tracing is expensive and the excessive number of tracings is likely due to passing python objects instead of tensors. Also, tf.function has experimental_relax_shapes=True option that relaxes argument shapes that can avoid unnecessary retracing. Please refer to https://www.tensorflow.org/tutorials/customization/performance#python_or_tensor_args and https://www.tensorflow.org/api_docs/python/tf/function for more details.\n",
      "WARNING:tensorflow:7 out of the last 7 calls to <function Model.make_predict_function.<locals>.predict_function at 0x7fe92bba3160> triggered tf.function retracing. Tracing is expensive and the excessive number of tracings is likely due to passing python objects instead of tensors. Also, tf.function has experimental_relax_shapes=True option that relaxes argument shapes that can avoid unnecessary retracing. Please refer to https://www.tensorflow.org/tutorials/customization/performance#python_or_tensor_args and https://www.tensorflow.org/api_docs/python/tf/function for more details.\n",
      "WARNING:tensorflow:8 out of the last 8 calls to <function Model.make_predict_function.<locals>.predict_function at 0x7fe92bba3160> triggered tf.function retracing. Tracing is expensive and the excessive number of tracings is likely due to passing python objects instead of tensors. Also, tf.function has experimental_relax_shapes=True option that relaxes argument shapes that can avoid unnecessary retracing. Please refer to https://www.tensorflow.org/tutorials/customization/performance#python_or_tensor_args and https://www.tensorflow.org/api_docs/python/tf/function for more details.\n",
      "WARNING:tensorflow:9 out of the last 9 calls to <function Model.make_predict_function.<locals>.predict_function at 0x7fe92bba3160> triggered tf.function retracing. Tracing is expensive and the excessive number of tracings is likely due to passing python objects instead of tensors. Also, tf.function has experimental_relax_shapes=True option that relaxes argument shapes that can avoid unnecessary retracing. Please refer to https://www.tensorflow.org/tutorials/customization/performance#python_or_tensor_args and https://www.tensorflow.org/api_docs/python/tf/function for more details.\n",
      "WARNING:tensorflow:10 out of the last 10 calls to <function Model.make_predict_function.<locals>.predict_function at 0x7fe92bba3160> triggered tf.function retracing. Tracing is expensive and the excessive number of tracings is likely due to passing python objects instead of tensors. Also, tf.function has experimental_relax_shapes=True option that relaxes argument shapes that can avoid unnecessary retracing. Please refer to https://www.tensorflow.org/tutorials/customization/performance#python_or_tensor_args and https://www.tensorflow.org/api_docs/python/tf/function for more details.\n",
      "WARNING:tensorflow:11 out of the last 11 calls to <function Model.make_predict_function.<locals>.predict_function at 0x7fe92bba3160> triggered tf.function retracing. Tracing is expensive and the excessive number of tracings is likely due to passing python objects instead of tensors. Also, tf.function has experimental_relax_shapes=True option that relaxes argument shapes that can avoid unnecessary retracing. Please refer to https://www.tensorflow.org/tutorials/customization/performance#python_or_tensor_args and https://www.tensorflow.org/api_docs/python/tf/function for more details.\n",
      "WARNING:tensorflow:11 out of the last 11 calls to <function Model.make_predict_function.<locals>.predict_function at 0x7fe92bba3160> triggered tf.function retracing. Tracing is expensive and the excessive number of tracings is likely due to passing python objects instead of tensors. Also, tf.function has experimental_relax_shapes=True option that relaxes argument shapes that can avoid unnecessary retracing. Please refer to https://www.tensorflow.org/tutorials/customization/performance#python_or_tensor_args and https://www.tensorflow.org/api_docs/python/tf/function for more details.\n",
      "WARNING:tensorflow:11 out of the last 11 calls to <function Model.make_predict_function.<locals>.predict_function at 0x7fe92bba3160> triggered tf.function retracing. Tracing is expensive and the excessive number of tracings is likely due to passing python objects instead of tensors. Also, tf.function has experimental_relax_shapes=True option that relaxes argument shapes that can avoid unnecessary retracing. Please refer to https://www.tensorflow.org/tutorials/customization/performance#python_or_tensor_args and https://www.tensorflow.org/api_docs/python/tf/function for more details.\n",
      "WARNING:tensorflow:11 out of the last 11 calls to <function Model.make_predict_function.<locals>.predict_function at 0x7fe92bba3160> triggered tf.function retracing. Tracing is expensive and the excessive number of tracings is likely due to passing python objects instead of tensors. Also, tf.function has experimental_relax_shapes=True option that relaxes argument shapes that can avoid unnecessary retracing. Please refer to https://www.tensorflow.org/tutorials/customization/performance#python_or_tensor_args and https://www.tensorflow.org/api_docs/python/tf/function for more details.\n",
      "WARNING:tensorflow:11 out of the last 11 calls to <function Model.make_predict_function.<locals>.predict_function at 0x7fe92bba3160> triggered tf.function retracing. Tracing is expensive and the excessive number of tracings is likely due to passing python objects instead of tensors. Also, tf.function has experimental_relax_shapes=True option that relaxes argument shapes that can avoid unnecessary retracing. Please refer to https://www.tensorflow.org/tutorials/customization/performance#python_or_tensor_args and https://www.tensorflow.org/api_docs/python/tf/function for more details.\n",
      "WARNING:tensorflow:11 out of the last 11 calls to <function Model.make_predict_function.<locals>.predict_function at 0x7fe92bba3160> triggered tf.function retracing. Tracing is expensive and the excessive number of tracings is likely due to passing python objects instead of tensors. Also, tf.function has experimental_relax_shapes=True option that relaxes argument shapes that can avoid unnecessary retracing. Please refer to https://www.tensorflow.org/tutorials/customization/performance#python_or_tensor_args and https://www.tensorflow.org/api_docs/python/tf/function for more details.\n",
      "WARNING:tensorflow:11 out of the last 11 calls to <function Model.make_predict_function.<locals>.predict_function at 0x7fe92bba3160> triggered tf.function retracing. Tracing is expensive and the excessive number of tracings is likely due to passing python objects instead of tensors. Also, tf.function has experimental_relax_shapes=True option that relaxes argument shapes that can avoid unnecessary retracing. Please refer to https://www.tensorflow.org/tutorials/customization/performance#python_or_tensor_args and https://www.tensorflow.org/api_docs/python/tf/function for more details.\n",
      "WARNING:tensorflow:11 out of the last 11 calls to <function Model.make_predict_function.<locals>.predict_function at 0x7fe92bba3160> triggered tf.function retracing. Tracing is expensive and the excessive number of tracings is likely due to passing python objects instead of tensors. Also, tf.function has experimental_relax_shapes=True option that relaxes argument shapes that can avoid unnecessary retracing. Please refer to https://www.tensorflow.org/tutorials/customization/performance#python_or_tensor_args and https://www.tensorflow.org/api_docs/python/tf/function for more details.\n"
     ]
    },
    {
     "name": "stdout",
     "output_type": "stream",
     "text": [
      "WARNING:tensorflow:11 out of the last 11 calls to <function Model.make_predict_function.<locals>.predict_function at 0x7fe92bba3160> triggered tf.function retracing. Tracing is expensive and the excessive number of tracings is likely due to passing python objects instead of tensors. Also, tf.function has experimental_relax_shapes=True option that relaxes argument shapes that can avoid unnecessary retracing. Please refer to https://www.tensorflow.org/tutorials/customization/performance#python_or_tensor_args and https://www.tensorflow.org/api_docs/python/tf/function for more details.\n",
      "WARNING:tensorflow:11 out of the last 11 calls to <function Model.make_predict_function.<locals>.predict_function at 0x7fe92bba3160> triggered tf.function retracing. Tracing is expensive and the excessive number of tracings is likely due to passing python objects instead of tensors. Also, tf.function has experimental_relax_shapes=True option that relaxes argument shapes that can avoid unnecessary retracing. Please refer to https://www.tensorflow.org/tutorials/customization/performance#python_or_tensor_args and https://www.tensorflow.org/api_docs/python/tf/function for more details.\n",
      "WARNING:tensorflow:11 out of the last 11 calls to <function Model.make_predict_function.<locals>.predict_function at 0x7fe92bba3160> triggered tf.function retracing. Tracing is expensive and the excessive number of tracings is likely due to passing python objects instead of tensors. Also, tf.function has experimental_relax_shapes=True option that relaxes argument shapes that can avoid unnecessary retracing. Please refer to https://www.tensorflow.org/tutorials/customization/performance#python_or_tensor_args and https://www.tensorflow.org/api_docs/python/tf/function for more details.\n",
      "WARNING:tensorflow:11 out of the last 11 calls to <function Model.make_predict_function.<locals>.predict_function at 0x7fe92bba3160> triggered tf.function retracing. Tracing is expensive and the excessive number of tracings is likely due to passing python objects instead of tensors. Also, tf.function has experimental_relax_shapes=True option that relaxes argument shapes that can avoid unnecessary retracing. Please refer to https://www.tensorflow.org/tutorials/customization/performance#python_or_tensor_args and https://www.tensorflow.org/api_docs/python/tf/function for more details.\n",
      "WARNING:tensorflow:11 out of the last 11 calls to <function Model.make_predict_function.<locals>.predict_function at 0x7fe92bba3160> triggered tf.function retracing. Tracing is expensive and the excessive number of tracings is likely due to passing python objects instead of tensors. Also, tf.function has experimental_relax_shapes=True option that relaxes argument shapes that can avoid unnecessary retracing. Please refer to https://www.tensorflow.org/tutorials/customization/performance#python_or_tensor_args and https://www.tensorflow.org/api_docs/python/tf/function for more details.\n",
      "WARNING:tensorflow:11 out of the last 11 calls to <function Model.make_predict_function.<locals>.predict_function at 0x7fe92bba3160> triggered tf.function retracing. Tracing is expensive and the excessive number of tracings is likely due to passing python objects instead of tensors. Also, tf.function has experimental_relax_shapes=True option that relaxes argument shapes that can avoid unnecessary retracing. Please refer to https://www.tensorflow.org/tutorials/customization/performance#python_or_tensor_args and https://www.tensorflow.org/api_docs/python/tf/function for more details.\n",
      "WARNING:tensorflow:11 out of the last 11 calls to <function Model.make_predict_function.<locals>.predict_function at 0x7fe92bba3160> triggered tf.function retracing. Tracing is expensive and the excessive number of tracings is likely due to passing python objects instead of tensors. Also, tf.function has experimental_relax_shapes=True option that relaxes argument shapes that can avoid unnecessary retracing. Please refer to https://www.tensorflow.org/tutorials/customization/performance#python_or_tensor_args and https://www.tensorflow.org/api_docs/python/tf/function for more details.\n",
      "WARNING:tensorflow:11 out of the last 11 calls to <function Model.make_predict_function.<locals>.predict_function at 0x7fe92bba3160> triggered tf.function retracing. Tracing is expensive and the excessive number of tracings is likely due to passing python objects instead of tensors. Also, tf.function has experimental_relax_shapes=True option that relaxes argument shapes that can avoid unnecessary retracing. Please refer to https://www.tensorflow.org/tutorials/customization/performance#python_or_tensor_args and https://www.tensorflow.org/api_docs/python/tf/function for more details.\n",
      "WARNING:tensorflow:11 out of the last 11 calls to <function Model.make_predict_function.<locals>.predict_function at 0x7fe92bba3160> triggered tf.function retracing. Tracing is expensive and the excessive number of tracings is likely due to passing python objects instead of tensors. Also, tf.function has experimental_relax_shapes=True option that relaxes argument shapes that can avoid unnecessary retracing. Please refer to https://www.tensorflow.org/tutorials/customization/performance#python_or_tensor_args and https://www.tensorflow.org/api_docs/python/tf/function for more details.\n",
      "WARNING:tensorflow:11 out of the last 11 calls to <function Model.make_predict_function.<locals>.predict_function at 0x7fe92bba3160> triggered tf.function retracing. Tracing is expensive and the excessive number of tracings is likely due to passing python objects instead of tensors. Also, tf.function has experimental_relax_shapes=True option that relaxes argument shapes that can avoid unnecessary retracing. Please refer to https://www.tensorflow.org/tutorials/customization/performance#python_or_tensor_args and https://www.tensorflow.org/api_docs/python/tf/function for more details.\n",
      "WARNING:tensorflow:11 out of the last 11 calls to <function Model.make_predict_function.<locals>.predict_function at 0x7fe92bba3160> triggered tf.function retracing. Tracing is expensive and the excessive number of tracings is likely due to passing python objects instead of tensors. Also, tf.function has experimental_relax_shapes=True option that relaxes argument shapes that can avoid unnecessary retracing. Please refer to https://www.tensorflow.org/tutorials/customization/performance#python_or_tensor_args and https://www.tensorflow.org/api_docs/python/tf/function for more details.\n",
      "WARNING:tensorflow:11 out of the last 11 calls to <function Model.make_predict_function.<locals>.predict_function at 0x7fe92bba3160> triggered tf.function retracing. Tracing is expensive and the excessive number of tracings is likely due to passing python objects instead of tensors. Also, tf.function has experimental_relax_shapes=True option that relaxes argument shapes that can avoid unnecessary retracing. Please refer to https://www.tensorflow.org/tutorials/customization/performance#python_or_tensor_args and https://www.tensorflow.org/api_docs/python/tf/function for more details.\n",
      "WARNING:tensorflow:11 out of the last 11 calls to <function Model.make_predict_function.<locals>.predict_function at 0x7fe92bba3160> triggered tf.function retracing. Tracing is expensive and the excessive number of tracings is likely due to passing python objects instead of tensors. Also, tf.function has experimental_relax_shapes=True option that relaxes argument shapes that can avoid unnecessary retracing. Please refer to https://www.tensorflow.org/tutorials/customization/performance#python_or_tensor_args and https://www.tensorflow.org/api_docs/python/tf/function for more details.\n",
      "WARNING:tensorflow:11 out of the last 11 calls to <function Model.make_predict_function.<locals>.predict_function at 0x7fe92bba3160> triggered tf.function retracing. Tracing is expensive and the excessive number of tracings is likely due to passing python objects instead of tensors. Also, tf.function has experimental_relax_shapes=True option that relaxes argument shapes that can avoid unnecessary retracing. Please refer to https://www.tensorflow.org/tutorials/customization/performance#python_or_tensor_args and https://www.tensorflow.org/api_docs/python/tf/function for more details.\n"
     ]
    },
    {
     "name": "stdout",
     "output_type": "stream",
     "text": [
      "WARNING:tensorflow:11 out of the last 11 calls to <function Model.make_predict_function.<locals>.predict_function at 0x7fe92bba3160> triggered tf.function retracing. Tracing is expensive and the excessive number of tracings is likely due to passing python objects instead of tensors. Also, tf.function has experimental_relax_shapes=True option that relaxes argument shapes that can avoid unnecessary retracing. Please refer to https://www.tensorflow.org/tutorials/customization/performance#python_or_tensor_args and https://www.tensorflow.org/api_docs/python/tf/function for more details.\n",
      "WARNING:tensorflow:11 out of the last 11 calls to <function Model.make_predict_function.<locals>.predict_function at 0x7fe92bba3160> triggered tf.function retracing. Tracing is expensive and the excessive number of tracings is likely due to passing python objects instead of tensors. Also, tf.function has experimental_relax_shapes=True option that relaxes argument shapes that can avoid unnecessary retracing. Please refer to https://www.tensorflow.org/tutorials/customization/performance#python_or_tensor_args and https://www.tensorflow.org/api_docs/python/tf/function for more details.\n",
      "WARNING:tensorflow:11 out of the last 11 calls to <function Model.make_predict_function.<locals>.predict_function at 0x7fe92bba3160> triggered tf.function retracing. Tracing is expensive and the excessive number of tracings is likely due to passing python objects instead of tensors. Also, tf.function has experimental_relax_shapes=True option that relaxes argument shapes that can avoid unnecessary retracing. Please refer to https://www.tensorflow.org/tutorials/customization/performance#python_or_tensor_args and https://www.tensorflow.org/api_docs/python/tf/function for more details.\n",
      "WARNING:tensorflow:11 out of the last 11 calls to <function Model.make_predict_function.<locals>.predict_function at 0x7fe92bba3160> triggered tf.function retracing. Tracing is expensive and the excessive number of tracings is likely due to passing python objects instead of tensors. Also, tf.function has experimental_relax_shapes=True option that relaxes argument shapes that can avoid unnecessary retracing. Please refer to https://www.tensorflow.org/tutorials/customization/performance#python_or_tensor_args and https://www.tensorflow.org/api_docs/python/tf/function for more details.\n",
      "WARNING:tensorflow:11 out of the last 11 calls to <function Model.make_predict_function.<locals>.predict_function at 0x7fe92bba3160> triggered tf.function retracing. Tracing is expensive and the excessive number of tracings is likely due to passing python objects instead of tensors. Also, tf.function has experimental_relax_shapes=True option that relaxes argument shapes that can avoid unnecessary retracing. Please refer to https://www.tensorflow.org/tutorials/customization/performance#python_or_tensor_args and https://www.tensorflow.org/api_docs/python/tf/function for more details.\n",
      "WARNING:tensorflow:11 out of the last 11 calls to <function Model.make_predict_function.<locals>.predict_function at 0x7fe92bba3160> triggered tf.function retracing. Tracing is expensive and the excessive number of tracings is likely due to passing python objects instead of tensors. Also, tf.function has experimental_relax_shapes=True option that relaxes argument shapes that can avoid unnecessary retracing. Please refer to https://www.tensorflow.org/tutorials/customization/performance#python_or_tensor_args and https://www.tensorflow.org/api_docs/python/tf/function for more details.\n",
      "WARNING:tensorflow:11 out of the last 11 calls to <function Model.make_predict_function.<locals>.predict_function at 0x7fe92bba3160> triggered tf.function retracing. Tracing is expensive and the excessive number of tracings is likely due to passing python objects instead of tensors. Also, tf.function has experimental_relax_shapes=True option that relaxes argument shapes that can avoid unnecessary retracing. Please refer to https://www.tensorflow.org/tutorials/customization/performance#python_or_tensor_args and https://www.tensorflow.org/api_docs/python/tf/function for more details.\n",
      "WARNING:tensorflow:11 out of the last 11 calls to <function Model.make_predict_function.<locals>.predict_function at 0x7fe92bba3160> triggered tf.function retracing. Tracing is expensive and the excessive number of tracings is likely due to passing python objects instead of tensors. Also, tf.function has experimental_relax_shapes=True option that relaxes argument shapes that can avoid unnecessary retracing. Please refer to https://www.tensorflow.org/tutorials/customization/performance#python_or_tensor_args and https://www.tensorflow.org/api_docs/python/tf/function for more details.\n",
      "WARNING:tensorflow:11 out of the last 11 calls to <function Model.make_predict_function.<locals>.predict_function at 0x7fe92bba3160> triggered tf.function retracing. Tracing is expensive and the excessive number of tracings is likely due to passing python objects instead of tensors. Also, tf.function has experimental_relax_shapes=True option that relaxes argument shapes that can avoid unnecessary retracing. Please refer to https://www.tensorflow.org/tutorials/customization/performance#python_or_tensor_args and https://www.tensorflow.org/api_docs/python/tf/function for more details.\n",
      "WARNING:tensorflow:11 out of the last 11 calls to <function Model.make_predict_function.<locals>.predict_function at 0x7fe92bba3160> triggered tf.function retracing. Tracing is expensive and the excessive number of tracings is likely due to passing python objects instead of tensors. Also, tf.function has experimental_relax_shapes=True option that relaxes argument shapes that can avoid unnecessary retracing. Please refer to https://www.tensorflow.org/tutorials/customization/performance#python_or_tensor_args and https://www.tensorflow.org/api_docs/python/tf/function for more details.\n",
      "WARNING:tensorflow:11 out of the last 11 calls to <function Model.make_predict_function.<locals>.predict_function at 0x7fe92bba3160> triggered tf.function retracing. Tracing is expensive and the excessive number of tracings is likely due to passing python objects instead of tensors. Also, tf.function has experimental_relax_shapes=True option that relaxes argument shapes that can avoid unnecessary retracing. Please refer to https://www.tensorflow.org/tutorials/customization/performance#python_or_tensor_args and https://www.tensorflow.org/api_docs/python/tf/function for more details.\n",
      "WARNING:tensorflow:11 out of the last 11 calls to <function Model.make_predict_function.<locals>.predict_function at 0x7fe92bba3160> triggered tf.function retracing. Tracing is expensive and the excessive number of tracings is likely due to passing python objects instead of tensors. Also, tf.function has experimental_relax_shapes=True option that relaxes argument shapes that can avoid unnecessary retracing. Please refer to https://www.tensorflow.org/tutorials/customization/performance#python_or_tensor_args and https://www.tensorflow.org/api_docs/python/tf/function for more details.\n",
      "WARNING:tensorflow:11 out of the last 11 calls to <function Model.make_predict_function.<locals>.predict_function at 0x7fe92bba3160> triggered tf.function retracing. Tracing is expensive and the excessive number of tracings is likely due to passing python objects instead of tensors. Also, tf.function has experimental_relax_shapes=True option that relaxes argument shapes that can avoid unnecessary retracing. Please refer to https://www.tensorflow.org/tutorials/customization/performance#python_or_tensor_args and https://www.tensorflow.org/api_docs/python/tf/function for more details.\n",
      "WARNING:tensorflow:11 out of the last 11 calls to <function Model.make_predict_function.<locals>.predict_function at 0x7fe92bba3160> triggered tf.function retracing. Tracing is expensive and the excessive number of tracings is likely due to passing python objects instead of tensors. Also, tf.function has experimental_relax_shapes=True option that relaxes argument shapes that can avoid unnecessary retracing. Please refer to https://www.tensorflow.org/tutorials/customization/performance#python_or_tensor_args and https://www.tensorflow.org/api_docs/python/tf/function for more details.\n"
     ]
    },
    {
     "name": "stdout",
     "output_type": "stream",
     "text": [
      "WARNING:tensorflow:11 out of the last 11 calls to <function Model.make_predict_function.<locals>.predict_function at 0x7fe92bba3160> triggered tf.function retracing. Tracing is expensive and the excessive number of tracings is likely due to passing python objects instead of tensors. Also, tf.function has experimental_relax_shapes=True option that relaxes argument shapes that can avoid unnecessary retracing. Please refer to https://www.tensorflow.org/tutorials/customization/performance#python_or_tensor_args and https://www.tensorflow.org/api_docs/python/tf/function for more details.\n",
      "WARNING:tensorflow:11 out of the last 11 calls to <function Model.make_predict_function.<locals>.predict_function at 0x7fe92bba3160> triggered tf.function retracing. Tracing is expensive and the excessive number of tracings is likely due to passing python objects instead of tensors. Also, tf.function has experimental_relax_shapes=True option that relaxes argument shapes that can avoid unnecessary retracing. Please refer to https://www.tensorflow.org/tutorials/customization/performance#python_or_tensor_args and https://www.tensorflow.org/api_docs/python/tf/function for more details.\n",
      "WARNING:tensorflow:11 out of the last 11 calls to <function Model.make_predict_function.<locals>.predict_function at 0x7fe92bba3160> triggered tf.function retracing. Tracing is expensive and the excessive number of tracings is likely due to passing python objects instead of tensors. Also, tf.function has experimental_relax_shapes=True option that relaxes argument shapes that can avoid unnecessary retracing. Please refer to https://www.tensorflow.org/tutorials/customization/performance#python_or_tensor_args and https://www.tensorflow.org/api_docs/python/tf/function for more details.\n",
      "WARNING:tensorflow:11 out of the last 11 calls to <function Model.make_predict_function.<locals>.predict_function at 0x7fe92bba3160> triggered tf.function retracing. Tracing is expensive and the excessive number of tracings is likely due to passing python objects instead of tensors. Also, tf.function has experimental_relax_shapes=True option that relaxes argument shapes that can avoid unnecessary retracing. Please refer to https://www.tensorflow.org/tutorials/customization/performance#python_or_tensor_args and https://www.tensorflow.org/api_docs/python/tf/function for more details.\n",
      "WARNING:tensorflow:11 out of the last 11 calls to <function Model.make_predict_function.<locals>.predict_function at 0x7fe92bba3160> triggered tf.function retracing. Tracing is expensive and the excessive number of tracings is likely due to passing python objects instead of tensors. Also, tf.function has experimental_relax_shapes=True option that relaxes argument shapes that can avoid unnecessary retracing. Please refer to https://www.tensorflow.org/tutorials/customization/performance#python_or_tensor_args and https://www.tensorflow.org/api_docs/python/tf/function for more details.\n",
      "WARNING:tensorflow:11 out of the last 11 calls to <function Model.make_predict_function.<locals>.predict_function at 0x7fe92bba3160> triggered tf.function retracing. Tracing is expensive and the excessive number of tracings is likely due to passing python objects instead of tensors. Also, tf.function has experimental_relax_shapes=True option that relaxes argument shapes that can avoid unnecessary retracing. Please refer to https://www.tensorflow.org/tutorials/customization/performance#python_or_tensor_args and https://www.tensorflow.org/api_docs/python/tf/function for more details.\n",
      "WARNING:tensorflow:11 out of the last 11 calls to <function Model.make_predict_function.<locals>.predict_function at 0x7fe92bba3160> triggered tf.function retracing. Tracing is expensive and the excessive number of tracings is likely due to passing python objects instead of tensors. Also, tf.function has experimental_relax_shapes=True option that relaxes argument shapes that can avoid unnecessary retracing. Please refer to https://www.tensorflow.org/tutorials/customization/performance#python_or_tensor_args and https://www.tensorflow.org/api_docs/python/tf/function for more details.\n",
      "WARNING:tensorflow:11 out of the last 11 calls to <function Model.make_predict_function.<locals>.predict_function at 0x7fe92bba3160> triggered tf.function retracing. Tracing is expensive and the excessive number of tracings is likely due to passing python objects instead of tensors. Also, tf.function has experimental_relax_shapes=True option that relaxes argument shapes that can avoid unnecessary retracing. Please refer to https://www.tensorflow.org/tutorials/customization/performance#python_or_tensor_args and https://www.tensorflow.org/api_docs/python/tf/function for more details.\n",
      "WARNING:tensorflow:11 out of the last 11 calls to <function Model.make_predict_function.<locals>.predict_function at 0x7fe92bba3160> triggered tf.function retracing. Tracing is expensive and the excessive number of tracings is likely due to passing python objects instead of tensors. Also, tf.function has experimental_relax_shapes=True option that relaxes argument shapes that can avoid unnecessary retracing. Please refer to https://www.tensorflow.org/tutorials/customization/performance#python_or_tensor_args and https://www.tensorflow.org/api_docs/python/tf/function for more details.\n",
      "WARNING:tensorflow:11 out of the last 11 calls to <function Model.make_predict_function.<locals>.predict_function at 0x7fe92bba3160> triggered tf.function retracing. Tracing is expensive and the excessive number of tracings is likely due to passing python objects instead of tensors. Also, tf.function has experimental_relax_shapes=True option that relaxes argument shapes that can avoid unnecessary retracing. Please refer to https://www.tensorflow.org/tutorials/customization/performance#python_or_tensor_args and https://www.tensorflow.org/api_docs/python/tf/function for more details.\n",
      "WARNING:tensorflow:11 out of the last 11 calls to <function Model.make_predict_function.<locals>.predict_function at 0x7fe92bba3160> triggered tf.function retracing. Tracing is expensive and the excessive number of tracings is likely due to passing python objects instead of tensors. Also, tf.function has experimental_relax_shapes=True option that relaxes argument shapes that can avoid unnecessary retracing. Please refer to https://www.tensorflow.org/tutorials/customization/performance#python_or_tensor_args and https://www.tensorflow.org/api_docs/python/tf/function for more details.\n",
      "WARNING:tensorflow:11 out of the last 11 calls to <function Model.make_predict_function.<locals>.predict_function at 0x7fe92bba3160> triggered tf.function retracing. Tracing is expensive and the excessive number of tracings is likely due to passing python objects instead of tensors. Also, tf.function has experimental_relax_shapes=True option that relaxes argument shapes that can avoid unnecessary retracing. Please refer to https://www.tensorflow.org/tutorials/customization/performance#python_or_tensor_args and https://www.tensorflow.org/api_docs/python/tf/function for more details.\n",
      "WARNING:tensorflow:11 out of the last 11 calls to <function Model.make_predict_function.<locals>.predict_function at 0x7fe92bba3160> triggered tf.function retracing. Tracing is expensive and the excessive number of tracings is likely due to passing python objects instead of tensors. Also, tf.function has experimental_relax_shapes=True option that relaxes argument shapes that can avoid unnecessary retracing. Please refer to https://www.tensorflow.org/tutorials/customization/performance#python_or_tensor_args and https://www.tensorflow.org/api_docs/python/tf/function for more details.\n",
      "WARNING:tensorflow:11 out of the last 11 calls to <function Model.make_predict_function.<locals>.predict_function at 0x7fe92bba3160> triggered tf.function retracing. Tracing is expensive and the excessive number of tracings is likely due to passing python objects instead of tensors. Also, tf.function has experimental_relax_shapes=True option that relaxes argument shapes that can avoid unnecessary retracing. Please refer to https://www.tensorflow.org/tutorials/customization/performance#python_or_tensor_args and https://www.tensorflow.org/api_docs/python/tf/function for more details.\n"
     ]
    },
    {
     "name": "stdout",
     "output_type": "stream",
     "text": [
      "WARNING:tensorflow:11 out of the last 11 calls to <function Model.make_predict_function.<locals>.predict_function at 0x7fe92bba3160> triggered tf.function retracing. Tracing is expensive and the excessive number of tracings is likely due to passing python objects instead of tensors. Also, tf.function has experimental_relax_shapes=True option that relaxes argument shapes that can avoid unnecessary retracing. Please refer to https://www.tensorflow.org/tutorials/customization/performance#python_or_tensor_args and https://www.tensorflow.org/api_docs/python/tf/function for more details.\n",
      "WARNING:tensorflow:11 out of the last 11 calls to <function Model.make_predict_function.<locals>.predict_function at 0x7fe92bba3160> triggered tf.function retracing. Tracing is expensive and the excessive number of tracings is likely due to passing python objects instead of tensors. Also, tf.function has experimental_relax_shapes=True option that relaxes argument shapes that can avoid unnecessary retracing. Please refer to https://www.tensorflow.org/tutorials/customization/performance#python_or_tensor_args and https://www.tensorflow.org/api_docs/python/tf/function for more details.\n",
      "WARNING:tensorflow:11 out of the last 11 calls to <function Model.make_predict_function.<locals>.predict_function at 0x7fe92bba3160> triggered tf.function retracing. Tracing is expensive and the excessive number of tracings is likely due to passing python objects instead of tensors. Also, tf.function has experimental_relax_shapes=True option that relaxes argument shapes that can avoid unnecessary retracing. Please refer to https://www.tensorflow.org/tutorials/customization/performance#python_or_tensor_args and https://www.tensorflow.org/api_docs/python/tf/function for more details.\n",
      "WARNING:tensorflow:11 out of the last 11 calls to <function Model.make_predict_function.<locals>.predict_function at 0x7fe92bba3160> triggered tf.function retracing. Tracing is expensive and the excessive number of tracings is likely due to passing python objects instead of tensors. Also, tf.function has experimental_relax_shapes=True option that relaxes argument shapes that can avoid unnecessary retracing. Please refer to https://www.tensorflow.org/tutorials/customization/performance#python_or_tensor_args and https://www.tensorflow.org/api_docs/python/tf/function for more details.\n",
      "WARNING:tensorflow:11 out of the last 11 calls to <function Model.make_predict_function.<locals>.predict_function at 0x7fe92bba3160> triggered tf.function retracing. Tracing is expensive and the excessive number of tracings is likely due to passing python objects instead of tensors. Also, tf.function has experimental_relax_shapes=True option that relaxes argument shapes that can avoid unnecessary retracing. Please refer to https://www.tensorflow.org/tutorials/customization/performance#python_or_tensor_args and https://www.tensorflow.org/api_docs/python/tf/function for more details.\n",
      "WARNING:tensorflow:11 out of the last 11 calls to <function Model.make_predict_function.<locals>.predict_function at 0x7fe92bba3160> triggered tf.function retracing. Tracing is expensive and the excessive number of tracings is likely due to passing python objects instead of tensors. Also, tf.function has experimental_relax_shapes=True option that relaxes argument shapes that can avoid unnecessary retracing. Please refer to https://www.tensorflow.org/tutorials/customization/performance#python_or_tensor_args and https://www.tensorflow.org/api_docs/python/tf/function for more details.\n",
      "WARNING:tensorflow:11 out of the last 11 calls to <function Model.make_predict_function.<locals>.predict_function at 0x7fe92bba3160> triggered tf.function retracing. Tracing is expensive and the excessive number of tracings is likely due to passing python objects instead of tensors. Also, tf.function has experimental_relax_shapes=True option that relaxes argument shapes that can avoid unnecessary retracing. Please refer to https://www.tensorflow.org/tutorials/customization/performance#python_or_tensor_args and https://www.tensorflow.org/api_docs/python/tf/function for more details.\n",
      "WARNING:tensorflow:11 out of the last 11 calls to <function Model.make_predict_function.<locals>.predict_function at 0x7fe92bba3160> triggered tf.function retracing. Tracing is expensive and the excessive number of tracings is likely due to passing python objects instead of tensors. Also, tf.function has experimental_relax_shapes=True option that relaxes argument shapes that can avoid unnecessary retracing. Please refer to https://www.tensorflow.org/tutorials/customization/performance#python_or_tensor_args and https://www.tensorflow.org/api_docs/python/tf/function for more details.\n",
      "WARNING:tensorflow:11 out of the last 11 calls to <function Model.make_predict_function.<locals>.predict_function at 0x7fe92bba3160> triggered tf.function retracing. Tracing is expensive and the excessive number of tracings is likely due to passing python objects instead of tensors. Also, tf.function has experimental_relax_shapes=True option that relaxes argument shapes that can avoid unnecessary retracing. Please refer to https://www.tensorflow.org/tutorials/customization/performance#python_or_tensor_args and https://www.tensorflow.org/api_docs/python/tf/function for more details.\n",
      "WARNING:tensorflow:11 out of the last 11 calls to <function Model.make_predict_function.<locals>.predict_function at 0x7fe92bba3160> triggered tf.function retracing. Tracing is expensive and the excessive number of tracings is likely due to passing python objects instead of tensors. Also, tf.function has experimental_relax_shapes=True option that relaxes argument shapes that can avoid unnecessary retracing. Please refer to https://www.tensorflow.org/tutorials/customization/performance#python_or_tensor_args and https://www.tensorflow.org/api_docs/python/tf/function for more details.\n",
      "WARNING:tensorflow:11 out of the last 11 calls to <function Model.make_predict_function.<locals>.predict_function at 0x7fe92bba3160> triggered tf.function retracing. Tracing is expensive and the excessive number of tracings is likely due to passing python objects instead of tensors. Also, tf.function has experimental_relax_shapes=True option that relaxes argument shapes that can avoid unnecessary retracing. Please refer to https://www.tensorflow.org/tutorials/customization/performance#python_or_tensor_args and https://www.tensorflow.org/api_docs/python/tf/function for more details.\n",
      "WARNING:tensorflow:11 out of the last 11 calls to <function Model.make_predict_function.<locals>.predict_function at 0x7fe92bba3160> triggered tf.function retracing. Tracing is expensive and the excessive number of tracings is likely due to passing python objects instead of tensors. Also, tf.function has experimental_relax_shapes=True option that relaxes argument shapes that can avoid unnecessary retracing. Please refer to https://www.tensorflow.org/tutorials/customization/performance#python_or_tensor_args and https://www.tensorflow.org/api_docs/python/tf/function for more details.\n",
      "WARNING:tensorflow:11 out of the last 11 calls to <function Model.make_predict_function.<locals>.predict_function at 0x7fe92bba3160> triggered tf.function retracing. Tracing is expensive and the excessive number of tracings is likely due to passing python objects instead of tensors. Also, tf.function has experimental_relax_shapes=True option that relaxes argument shapes that can avoid unnecessary retracing. Please refer to https://www.tensorflow.org/tutorials/customization/performance#python_or_tensor_args and https://www.tensorflow.org/api_docs/python/tf/function for more details.\n",
      "WARNING:tensorflow:11 out of the last 11 calls to <function Model.make_predict_function.<locals>.predict_function at 0x7fe92bba3160> triggered tf.function retracing. Tracing is expensive and the excessive number of tracings is likely due to passing python objects instead of tensors. Also, tf.function has experimental_relax_shapes=True option that relaxes argument shapes that can avoid unnecessary retracing. Please refer to https://www.tensorflow.org/tutorials/customization/performance#python_or_tensor_args and https://www.tensorflow.org/api_docs/python/tf/function for more details.\n"
     ]
    },
    {
     "name": "stdout",
     "output_type": "stream",
     "text": [
      "WARNING:tensorflow:11 out of the last 11 calls to <function Model.make_predict_function.<locals>.predict_function at 0x7fe92bba3160> triggered tf.function retracing. Tracing is expensive and the excessive number of tracings is likely due to passing python objects instead of tensors. Also, tf.function has experimental_relax_shapes=True option that relaxes argument shapes that can avoid unnecessary retracing. Please refer to https://www.tensorflow.org/tutorials/customization/performance#python_or_tensor_args and https://www.tensorflow.org/api_docs/python/tf/function for more details.\n",
      "WARNING:tensorflow:11 out of the last 11 calls to <function Model.make_predict_function.<locals>.predict_function at 0x7fe92bba3160> triggered tf.function retracing. Tracing is expensive and the excessive number of tracings is likely due to passing python objects instead of tensors. Also, tf.function has experimental_relax_shapes=True option that relaxes argument shapes that can avoid unnecessary retracing. Please refer to https://www.tensorflow.org/tutorials/customization/performance#python_or_tensor_args and https://www.tensorflow.org/api_docs/python/tf/function for more details.\n",
      "WARNING:tensorflow:11 out of the last 11 calls to <function Model.make_predict_function.<locals>.predict_function at 0x7fe92bba3160> triggered tf.function retracing. Tracing is expensive and the excessive number of tracings is likely due to passing python objects instead of tensors. Also, tf.function has experimental_relax_shapes=True option that relaxes argument shapes that can avoid unnecessary retracing. Please refer to https://www.tensorflow.org/tutorials/customization/performance#python_or_tensor_args and https://www.tensorflow.org/api_docs/python/tf/function for more details.\n",
      "WARNING:tensorflow:11 out of the last 11 calls to <function Model.make_predict_function.<locals>.predict_function at 0x7fe92bba3160> triggered tf.function retracing. Tracing is expensive and the excessive number of tracings is likely due to passing python objects instead of tensors. Also, tf.function has experimental_relax_shapes=True option that relaxes argument shapes that can avoid unnecessary retracing. Please refer to https://www.tensorflow.org/tutorials/customization/performance#python_or_tensor_args and https://www.tensorflow.org/api_docs/python/tf/function for more details.\n",
      "WARNING:tensorflow:11 out of the last 11 calls to <function Model.make_predict_function.<locals>.predict_function at 0x7fe92bba3160> triggered tf.function retracing. Tracing is expensive and the excessive number of tracings is likely due to passing python objects instead of tensors. Also, tf.function has experimental_relax_shapes=True option that relaxes argument shapes that can avoid unnecessary retracing. Please refer to https://www.tensorflow.org/tutorials/customization/performance#python_or_tensor_args and https://www.tensorflow.org/api_docs/python/tf/function for more details.\n",
      "WARNING:tensorflow:11 out of the last 11 calls to <function Model.make_predict_function.<locals>.predict_function at 0x7fe92bba3160> triggered tf.function retracing. Tracing is expensive and the excessive number of tracings is likely due to passing python objects instead of tensors. Also, tf.function has experimental_relax_shapes=True option that relaxes argument shapes that can avoid unnecessary retracing. Please refer to https://www.tensorflow.org/tutorials/customization/performance#python_or_tensor_args and https://www.tensorflow.org/api_docs/python/tf/function for more details.\n",
      "WARNING:tensorflow:11 out of the last 11 calls to <function Model.make_predict_function.<locals>.predict_function at 0x7fe92bba3160> triggered tf.function retracing. Tracing is expensive and the excessive number of tracings is likely due to passing python objects instead of tensors. Also, tf.function has experimental_relax_shapes=True option that relaxes argument shapes that can avoid unnecessary retracing. Please refer to https://www.tensorflow.org/tutorials/customization/performance#python_or_tensor_args and https://www.tensorflow.org/api_docs/python/tf/function for more details.\n",
      "WARNING:tensorflow:11 out of the last 11 calls to <function Model.make_predict_function.<locals>.predict_function at 0x7fe92bba3160> triggered tf.function retracing. Tracing is expensive and the excessive number of tracings is likely due to passing python objects instead of tensors. Also, tf.function has experimental_relax_shapes=True option that relaxes argument shapes that can avoid unnecessary retracing. Please refer to https://www.tensorflow.org/tutorials/customization/performance#python_or_tensor_args and https://www.tensorflow.org/api_docs/python/tf/function for more details.\n",
      "WARNING:tensorflow:11 out of the last 11 calls to <function Model.make_predict_function.<locals>.predict_function at 0x7fe92bba3160> triggered tf.function retracing. Tracing is expensive and the excessive number of tracings is likely due to passing python objects instead of tensors. Also, tf.function has experimental_relax_shapes=True option that relaxes argument shapes that can avoid unnecessary retracing. Please refer to https://www.tensorflow.org/tutorials/customization/performance#python_or_tensor_args and https://www.tensorflow.org/api_docs/python/tf/function for more details.\n",
      "WARNING:tensorflow:11 out of the last 11 calls to <function Model.make_predict_function.<locals>.predict_function at 0x7fe92bba3160> triggered tf.function retracing. Tracing is expensive and the excessive number of tracings is likely due to passing python objects instead of tensors. Also, tf.function has experimental_relax_shapes=True option that relaxes argument shapes that can avoid unnecessary retracing. Please refer to https://www.tensorflow.org/tutorials/customization/performance#python_or_tensor_args and https://www.tensorflow.org/api_docs/python/tf/function for more details.\n",
      "WARNING:tensorflow:11 out of the last 11 calls to <function Model.make_predict_function.<locals>.predict_function at 0x7fe92bba3160> triggered tf.function retracing. Tracing is expensive and the excessive number of tracings is likely due to passing python objects instead of tensors. Also, tf.function has experimental_relax_shapes=True option that relaxes argument shapes that can avoid unnecessary retracing. Please refer to https://www.tensorflow.org/tutorials/customization/performance#python_or_tensor_args and https://www.tensorflow.org/api_docs/python/tf/function for more details.\n",
      "WARNING:tensorflow:11 out of the last 11 calls to <function Model.make_predict_function.<locals>.predict_function at 0x7fe92bba3160> triggered tf.function retracing. Tracing is expensive and the excessive number of tracings is likely due to passing python objects instead of tensors. Also, tf.function has experimental_relax_shapes=True option that relaxes argument shapes that can avoid unnecessary retracing. Please refer to https://www.tensorflow.org/tutorials/customization/performance#python_or_tensor_args and https://www.tensorflow.org/api_docs/python/tf/function for more details.\n",
      "WARNING:tensorflow:11 out of the last 11 calls to <function Model.make_predict_function.<locals>.predict_function at 0x7fe92bba3160> triggered tf.function retracing. Tracing is expensive and the excessive number of tracings is likely due to passing python objects instead of tensors. Also, tf.function has experimental_relax_shapes=True option that relaxes argument shapes that can avoid unnecessary retracing. Please refer to https://www.tensorflow.org/tutorials/customization/performance#python_or_tensor_args and https://www.tensorflow.org/api_docs/python/tf/function for more details.\n",
      "WARNING:tensorflow:11 out of the last 11 calls to <function Model.make_predict_function.<locals>.predict_function at 0x7fe92bba3160> triggered tf.function retracing. Tracing is expensive and the excessive number of tracings is likely due to passing python objects instead of tensors. Also, tf.function has experimental_relax_shapes=True option that relaxes argument shapes that can avoid unnecessary retracing. Please refer to https://www.tensorflow.org/tutorials/customization/performance#python_or_tensor_args and https://www.tensorflow.org/api_docs/python/tf/function for more details.\n"
     ]
    },
    {
     "name": "stdout",
     "output_type": "stream",
     "text": [
      "WARNING:tensorflow:11 out of the last 11 calls to <function Model.make_predict_function.<locals>.predict_function at 0x7fe92bba3160> triggered tf.function retracing. Tracing is expensive and the excessive number of tracings is likely due to passing python objects instead of tensors. Also, tf.function has experimental_relax_shapes=True option that relaxes argument shapes that can avoid unnecessary retracing. Please refer to https://www.tensorflow.org/tutorials/customization/performance#python_or_tensor_args and https://www.tensorflow.org/api_docs/python/tf/function for more details.\n",
      "WARNING:tensorflow:11 out of the last 11 calls to <function Model.make_predict_function.<locals>.predict_function at 0x7fe92bba3160> triggered tf.function retracing. Tracing is expensive and the excessive number of tracings is likely due to passing python objects instead of tensors. Also, tf.function has experimental_relax_shapes=True option that relaxes argument shapes that can avoid unnecessary retracing. Please refer to https://www.tensorflow.org/tutorials/customization/performance#python_or_tensor_args and https://www.tensorflow.org/api_docs/python/tf/function for more details.\n",
      "WARNING:tensorflow:11 out of the last 11 calls to <function Model.make_predict_function.<locals>.predict_function at 0x7fe92bba3160> triggered tf.function retracing. Tracing is expensive and the excessive number of tracings is likely due to passing python objects instead of tensors. Also, tf.function has experimental_relax_shapes=True option that relaxes argument shapes that can avoid unnecessary retracing. Please refer to https://www.tensorflow.org/tutorials/customization/performance#python_or_tensor_args and https://www.tensorflow.org/api_docs/python/tf/function for more details.\n",
      "WARNING:tensorflow:11 out of the last 11 calls to <function Model.make_predict_function.<locals>.predict_function at 0x7fe92bba3160> triggered tf.function retracing. Tracing is expensive and the excessive number of tracings is likely due to passing python objects instead of tensors. Also, tf.function has experimental_relax_shapes=True option that relaxes argument shapes that can avoid unnecessary retracing. Please refer to https://www.tensorflow.org/tutorials/customization/performance#python_or_tensor_args and https://www.tensorflow.org/api_docs/python/tf/function for more details.\n",
      "WARNING:tensorflow:11 out of the last 11 calls to <function Model.make_predict_function.<locals>.predict_function at 0x7fe92bba3160> triggered tf.function retracing. Tracing is expensive and the excessive number of tracings is likely due to passing python objects instead of tensors. Also, tf.function has experimental_relax_shapes=True option that relaxes argument shapes that can avoid unnecessary retracing. Please refer to https://www.tensorflow.org/tutorials/customization/performance#python_or_tensor_args and https://www.tensorflow.org/api_docs/python/tf/function for more details.\n",
      "WARNING:tensorflow:11 out of the last 11 calls to <function Model.make_predict_function.<locals>.predict_function at 0x7fe92bba3160> triggered tf.function retracing. Tracing is expensive and the excessive number of tracings is likely due to passing python objects instead of tensors. Also, tf.function has experimental_relax_shapes=True option that relaxes argument shapes that can avoid unnecessary retracing. Please refer to https://www.tensorflow.org/tutorials/customization/performance#python_or_tensor_args and https://www.tensorflow.org/api_docs/python/tf/function for more details.\n",
      "WARNING:tensorflow:11 out of the last 11 calls to <function Model.make_predict_function.<locals>.predict_function at 0x7fe92bba3160> triggered tf.function retracing. Tracing is expensive and the excessive number of tracings is likely due to passing python objects instead of tensors. Also, tf.function has experimental_relax_shapes=True option that relaxes argument shapes that can avoid unnecessary retracing. Please refer to https://www.tensorflow.org/tutorials/customization/performance#python_or_tensor_args and https://www.tensorflow.org/api_docs/python/tf/function for more details.\n",
      "WARNING:tensorflow:11 out of the last 11 calls to <function Model.make_predict_function.<locals>.predict_function at 0x7fe92bba3160> triggered tf.function retracing. Tracing is expensive and the excessive number of tracings is likely due to passing python objects instead of tensors. Also, tf.function has experimental_relax_shapes=True option that relaxes argument shapes that can avoid unnecessary retracing. Please refer to https://www.tensorflow.org/tutorials/customization/performance#python_or_tensor_args and https://www.tensorflow.org/api_docs/python/tf/function for more details.\n",
      "WARNING:tensorflow:11 out of the last 11 calls to <function Model.make_predict_function.<locals>.predict_function at 0x7fe92bba3160> triggered tf.function retracing. Tracing is expensive and the excessive number of tracings is likely due to passing python objects instead of tensors. Also, tf.function has experimental_relax_shapes=True option that relaxes argument shapes that can avoid unnecessary retracing. Please refer to https://www.tensorflow.org/tutorials/customization/performance#python_or_tensor_args and https://www.tensorflow.org/api_docs/python/tf/function for more details.\n",
      "WARNING:tensorflow:11 out of the last 11 calls to <function Model.make_predict_function.<locals>.predict_function at 0x7fe92bba3160> triggered tf.function retracing. Tracing is expensive and the excessive number of tracings is likely due to passing python objects instead of tensors. Also, tf.function has experimental_relax_shapes=True option that relaxes argument shapes that can avoid unnecessary retracing. Please refer to https://www.tensorflow.org/tutorials/customization/performance#python_or_tensor_args and https://www.tensorflow.org/api_docs/python/tf/function for more details.\n",
      "WARNING:tensorflow:11 out of the last 11 calls to <function Model.make_predict_function.<locals>.predict_function at 0x7fe92bba3160> triggered tf.function retracing. Tracing is expensive and the excessive number of tracings is likely due to passing python objects instead of tensors. Also, tf.function has experimental_relax_shapes=True option that relaxes argument shapes that can avoid unnecessary retracing. Please refer to https://www.tensorflow.org/tutorials/customization/performance#python_or_tensor_args and https://www.tensorflow.org/api_docs/python/tf/function for more details.\n"
     ]
    },
    {
     "name": "stderr",
     "output_type": "stream",
     "text": [
      "\r",
      "  0%|          | 1/5000 [00:44<61:32:31, 44.32s/it]"
     ]
    },
    {
     "name": "stdout",
     "output_type": "stream",
     "text": [
      "WARNING:tensorflow:5 out of the last 104 calls to <function Model.make_predict_function.<locals>.predict_function at 0x7fe92bba3160> triggered tf.function retracing. Tracing is expensive and the excessive number of tracings is likely due to passing python objects instead of tensors. Also, tf.function has experimental_relax_shapes=True option that relaxes argument shapes that can avoid unnecessary retracing. Please refer to https://www.tensorflow.org/tutorials/customization/performance#python_or_tensor_args and https://www.tensorflow.org/api_docs/python/tf/function for more details.\n",
      "WARNING:tensorflow:6 out of the last 105 calls to <function Model.make_predict_function.<locals>.predict_function at 0x7fe92bba3160> triggered tf.function retracing. Tracing is expensive and the excessive number of tracings is likely due to passing python objects instead of tensors. Also, tf.function has experimental_relax_shapes=True option that relaxes argument shapes that can avoid unnecessary retracing. Please refer to https://www.tensorflow.org/tutorials/customization/performance#python_or_tensor_args and https://www.tensorflow.org/api_docs/python/tf/function for more details.\n",
      "WARNING:tensorflow:7 out of the last 106 calls to <function Model.make_predict_function.<locals>.predict_function at 0x7fe92bba3160> triggered tf.function retracing. Tracing is expensive and the excessive number of tracings is likely due to passing python objects instead of tensors. Also, tf.function has experimental_relax_shapes=True option that relaxes argument shapes that can avoid unnecessary retracing. Please refer to https://www.tensorflow.org/tutorials/customization/performance#python_or_tensor_args and https://www.tensorflow.org/api_docs/python/tf/function for more details.\n"
     ]
    },
    {
     "name": "stderr",
     "output_type": "stream",
     "text": [
      "  2%|▏         | 75/5000 [03:18<3:04:20,  2.25s/it]"
     ]
    },
    {
     "name": "stdout",
     "output_type": "stream",
     "text": [
      "WARNING:tensorflow:5 out of the last 3419 calls to <function Model.make_predict_function.<locals>.predict_function at 0x7fe92bba3160> triggered tf.function retracing. Tracing is expensive and the excessive number of tracings is likely due to passing python objects instead of tensors. Also, tf.function has experimental_relax_shapes=True option that relaxes argument shapes that can avoid unnecessary retracing. Please refer to https://www.tensorflow.org/tutorials/customization/performance#python_or_tensor_args and https://www.tensorflow.org/api_docs/python/tf/function for more details.\n",
      "WARNING:tensorflow:6 out of the last 3420 calls to <function Model.make_predict_function.<locals>.predict_function at 0x7fe92bba3160> triggered tf.function retracing. Tracing is expensive and the excessive number of tracings is likely due to passing python objects instead of tensors. Also, tf.function has experimental_relax_shapes=True option that relaxes argument shapes that can avoid unnecessary retracing. Please refer to https://www.tensorflow.org/tutorials/customization/performance#python_or_tensor_args and https://www.tensorflow.org/api_docs/python/tf/function for more details.\n",
      "WARNING:tensorflow:7 out of the last 3421 calls to <function Model.make_predict_function.<locals>.predict_function at 0x7fe92bba3160> triggered tf.function retracing. Tracing is expensive and the excessive number of tracings is likely due to passing python objects instead of tensors. Also, tf.function has experimental_relax_shapes=True option that relaxes argument shapes that can avoid unnecessary retracing. Please refer to https://www.tensorflow.org/tutorials/customization/performance#python_or_tensor_args and https://www.tensorflow.org/api_docs/python/tf/function for more details.\n",
      "WARNING:tensorflow:8 out of the last 3422 calls to <function Model.make_predict_function.<locals>.predict_function at 0x7fe92bba3160> triggered tf.function retracing. Tracing is expensive and the excessive number of tracings is likely due to passing python objects instead of tensors. Also, tf.function has experimental_relax_shapes=True option that relaxes argument shapes that can avoid unnecessary retracing. Please refer to https://www.tensorflow.org/tutorials/customization/performance#python_or_tensor_args and https://www.tensorflow.org/api_docs/python/tf/function for more details.\n",
      "WARNING:tensorflow:9 out of the last 3423 calls to <function Model.make_predict_function.<locals>.predict_function at 0x7fe92bba3160> triggered tf.function retracing. Tracing is expensive and the excessive number of tracings is likely due to passing python objects instead of tensors. Also, tf.function has experimental_relax_shapes=True option that relaxes argument shapes that can avoid unnecessary retracing. Please refer to https://www.tensorflow.org/tutorials/customization/performance#python_or_tensor_args and https://www.tensorflow.org/api_docs/python/tf/function for more details.\n",
      "WARNING:tensorflow:10 out of the last 3424 calls to <function Model.make_predict_function.<locals>.predict_function at 0x7fe92bba3160> triggered tf.function retracing. Tracing is expensive and the excessive number of tracings is likely due to passing python objects instead of tensors. Also, tf.function has experimental_relax_shapes=True option that relaxes argument shapes that can avoid unnecessary retracing. Please refer to https://www.tensorflow.org/tutorials/customization/performance#python_or_tensor_args and https://www.tensorflow.org/api_docs/python/tf/function for more details.\n",
      "WARNING:tensorflow:11 out of the last 3425 calls to <function Model.make_predict_function.<locals>.predict_function at 0x7fe92bba3160> triggered tf.function retracing. Tracing is expensive and the excessive number of tracings is likely due to passing python objects instead of tensors. Also, tf.function has experimental_relax_shapes=True option that relaxes argument shapes that can avoid unnecessary retracing. Please refer to https://www.tensorflow.org/tutorials/customization/performance#python_or_tensor_args and https://www.tensorflow.org/api_docs/python/tf/function for more details.\n"
     ]
    },
    {
     "name": "stderr",
     "output_type": "stream",
     "text": [
      "  4%|▍         | 198/5000 [07:16<1:59:39,  1.50s/it]"
     ]
    },
    {
     "name": "stdout",
     "output_type": "stream",
     "text": [
      "WARNING:tensorflow:5 out of the last 9268 calls to <function Model.make_predict_function.<locals>.predict_function at 0x7fe92bba3160> triggered tf.function retracing. Tracing is expensive and the excessive number of tracings is likely due to passing python objects instead of tensors. Also, tf.function has experimental_relax_shapes=True option that relaxes argument shapes that can avoid unnecessary retracing. Please refer to https://www.tensorflow.org/tutorials/customization/performance#python_or_tensor_args and https://www.tensorflow.org/api_docs/python/tf/function for more details.\n",
      "WARNING:tensorflow:6 out of the last 9269 calls to <function Model.make_predict_function.<locals>.predict_function at 0x7fe92bba3160> triggered tf.function retracing. Tracing is expensive and the excessive number of tracings is likely due to passing python objects instead of tensors. Also, tf.function has experimental_relax_shapes=True option that relaxes argument shapes that can avoid unnecessary retracing. Please refer to https://www.tensorflow.org/tutorials/customization/performance#python_or_tensor_args and https://www.tensorflow.org/api_docs/python/tf/function for more details.\n",
      "WARNING:tensorflow:7 out of the last 9270 calls to <function Model.make_predict_function.<locals>.predict_function at 0x7fe92bba3160> triggered tf.function retracing. Tracing is expensive and the excessive number of tracings is likely due to passing python objects instead of tensors. Also, tf.function has experimental_relax_shapes=True option that relaxes argument shapes that can avoid unnecessary retracing. Please refer to https://www.tensorflow.org/tutorials/customization/performance#python_or_tensor_args and https://www.tensorflow.org/api_docs/python/tf/function for more details.\n",
      "WARNING:tensorflow:8 out of the last 9271 calls to <function Model.make_predict_function.<locals>.predict_function at 0x7fe92bba3160> triggered tf.function retracing. Tracing is expensive and the excessive number of tracings is likely due to passing python objects instead of tensors. Also, tf.function has experimental_relax_shapes=True option that relaxes argument shapes that can avoid unnecessary retracing. Please refer to https://www.tensorflow.org/tutorials/customization/performance#python_or_tensor_args and https://www.tensorflow.org/api_docs/python/tf/function for more details.\n"
     ]
    },
    {
     "name": "stderr",
     "output_type": "stream",
     "text": [
      " 10%|▉         | 499/5000 [17:19<1:54:12,  1.52s/it]"
     ]
    },
    {
     "name": "stdout",
     "output_type": "stream",
     "text": [
      "WARNING:tensorflow:5 out of the last 15685 calls to <function Model.make_predict_function.<locals>.predict_function at 0x7fe92bba3160> triggered tf.function retracing. Tracing is expensive and the excessive number of tracings is likely due to passing python objects instead of tensors. Also, tf.function has experimental_relax_shapes=True option that relaxes argument shapes that can avoid unnecessary retracing. Please refer to https://www.tensorflow.org/tutorials/customization/performance#python_or_tensor_args and https://www.tensorflow.org/api_docs/python/tf/function for more details.\n"
     ]
    },
    {
     "name": "stderr",
     "output_type": "stream",
     "text": [
      "100%|██████████| 5000/5000 [2:44:20<00:00,  1.97s/it]  \n"
     ]
    }
   ],
   "source": [
    "sample_number = 5000\n",
    "sampled_smiles = generator.sample(num=sample_number)"
   ]
  },
  {
   "cell_type": "code",
   "execution_count": 35,
   "metadata": {},
   "outputs": [
    {
     "name": "stderr",
     "output_type": "stream",
     "text": [
      "RDKit ERROR: [05:16:00] SMILES Parse Error: extra close parentheses while parsing: O=C(NCC1(c2ccccc2)CC1)NC1CC2CCC(C1)N2CCc1ccccc1)C1CC2CC(C1)C2C(=O)NC(Cc1ccccc1)C(=O)NC(Cc1ccccc1)C(=O)O\n",
      "RDKit ERROR: [05:16:00] SMILES Parse Error: Failed parsing SMILES 'O=C(NCC1(c2ccccc2)CC1)NC1CC2CCC(C1)N2CCc1ccccc1)C1CC2CC(C1)C2C(=O)NC(Cc1ccccc1)C(=O)NC(Cc1ccccc1)C(=O)O' for input: 'O=C(NCC1(c2ccccc2)CC1)NC1CC2CCC(C1)N2CCc1ccccc1)C1CC2CC(C1)C2C(=O)NC(Cc1ccccc1)C(=O)NC(Cc1ccccc1)C(=O)O'\n",
      "RDKit ERROR: [05:16:00] SMILES Parse Error: extra close parentheses while parsing: CC(C)(C)C1CCC(C2CCCCCC2(C)C)CC(C)(C)C)CCCC1(C)C\n",
      "RDKit ERROR: [05:16:00] SMILES Parse Error: Failed parsing SMILES 'CC(C)(C)C1CCC(C2CCCCCC2(C)C)CC(C)(C)C)CCCC1(C)C' for input: 'CC(C)(C)C1CCC(C2CCCCCC2(C)C)CC(C)(C)C)CCCC1(C)C'\n",
      "RDKit ERROR: [05:16:00] Explicit valence for atom # 22 O, 3, is greater than permitted\n",
      "RDKit ERROR: [05:16:00] Explicit valence for atom # 22 O, 3, is greater than permitted\n",
      "RDKit ERROR: [05:16:00] SMILES Parse Error: extra open parentheses for input: 'O=C(NC1CC2CC(O1)C2C(=O)NC(Cc1ccccc1)C(=O)NC(Cc1ccccc1)C(=O)NC(Cc1ccccc1)C(=O)O'\n",
      "RDKit ERROR: [05:16:00] Explicit valence for atom # 21 O, 3, is greater than permitted\n",
      "RDKit ERROR: [05:16:00] Explicit valence for atom # 21 O, 3, is greater than permitted\n",
      "RDKit ERROR: [05:16:00] SMILES Parse Error: extra close parentheses while parsing: O=C(NCC1Cc2ccccc2)CC1)NC1CC2CCC(C1)N2CCc1ccccc1\n",
      "RDKit ERROR: [05:16:00] SMILES Parse Error: Failed parsing SMILES 'O=C(NCC1Cc2ccccc2)CC1)NC1CC2CCC(C1)N2CCc1ccccc1' for input: 'O=C(NCC1Cc2ccccc2)CC1)NC1CC2CCC(C1)N2CCc1ccccc1'\n",
      "RDKit ERROR: [05:16:00] Explicit valence for atom # 21 O, 3, is greater than permitted\n",
      "RDKit ERROR: [05:16:00] SMILES Parse Error: extra open parentheses for input: 'CC1(C)CCCC2(C)C(CCC3(C)C(CCC3)CCCC2(C)C1CCC12CC3CC(CC(C3)C1)C2'\n",
      "RDKit ERROR: [05:16:00] SMILES Parse Error: extra close parentheses while parsing: O=C(O)C(Cc1ccccc1)NC(=O)C(Cc1ccccc1)NC(=O)C1C2CC3NC(C1)C3C(=O)NC(Cc1ccccc1)C(=O)O)C2CC(=O)NC(Cc1ccccc1)C(=O)O\n",
      "RDKit ERROR: [05:16:00] SMILES Parse Error: Failed parsing SMILES 'O=C(O)C(Cc1ccccc1)NC(=O)C(Cc1ccccc1)NC(=O)C1C2CC3NC(C1)C3C(=O)NC(Cc1ccccc1)C(=O)O)C2CC(=O)NC(Cc1ccccc1)C(=O)O' for input: 'O=C(O)C(Cc1ccccc1)NC(=O)C(Cc1ccccc1)NC(=O)C1C2CC3NC(C1)C3C(=O)NC(Cc1ccccc1)C(=O)O)C2CC(=O)NC(Cc1ccccc1)C(=O)O'\n",
      "RDKit ERROR: [05:16:00] Explicit valence for atom # 21 O, 3, is greater than permitted\n",
      "RDKit ERROR: [05:16:00] Explicit valence for atom # 21 O, 3, is greater than permitted\n",
      "RDKit ERROR: [05:16:00] Explicit valence for atom # 21 O, 3, is greater than permitted\n",
      "RDKit ERROR: [05:16:00] Explicit valence for atom # 21 O, 3, is greater than permitted\n",
      "RDKit ERROR: [05:16:00] SMILES Parse Error: extra open parentheses for input: 'O=C(O)C(Cc1ccccc1)NC(=O)C(Cc1ccccc1)NC(=O)C1C2CC(N(C(=O)C(Cc3ccccc3)C(=O)NC(Cc3ccccc3)C(=O)O)CC1C2'\n",
      "RDKit ERROR: [05:16:00] SMILES Parse Error: extra open parentheses for input: 'CC1(CC(CC(C)(C)C)CCCC2(C)C(CCC3CCCC3)CCCC12'\n",
      "RDKit ERROR: [05:16:00] SMILES Parse Error: extra open parentheses for input: 'CC1(CC(C2)CCCC2(C)C2CCC2(C)C(CCC3CCCC3)CCCC12'\n",
      "RDKit ERROR: [05:16:00] SMILES Parse Error: extra open parentheses for input: 'O=C(O)C(Cc1ccccc1)NC(=O)C(Cc1ccccc1)NC(=O)C1C2CC(N(C(=O)C(Cc3ccccc3)C(=O)NC(Cc3ccccc3)C(=O)O)CC1C2'\n",
      "RDKit ERROR: [05:16:00] SMILES Parse Error: unclosed ring for input: 'CC1(CC(CC(O)CC(O)C2(O)CCCC2)C(O)CO)CCCCC1(C(C)(C)C)CC(O)C(Cc1ccccc1)NC(=O)C1C2CC(NC(=O)C(Cc3ccccc3)C(=O)NC(Cc3ccccc3)C(=O)O)CC1C'\n",
      "RDKit ERROR: [05:16:00] SMILES Parse Error: extra close parentheses while parsing: O=C(NC1CC2CCC(C1)N2CCc1ccccc1)C1CO2CC(C1)C2C(=O)NC(Cc1ccccc1)C(=O)NC1Cc2ccccc2)CC1\n",
      "RDKit ERROR: [05:16:00] SMILES Parse Error: Failed parsing SMILES 'O=C(NC1CC2CCC(C1)N2CCc1ccccc1)C1CO2CC(C1)C2C(=O)NC(Cc1ccccc1)C(=O)NC1Cc2ccccc2)CC1' for input: 'O=C(NC1CC2CCC(C1)N2CCc1ccccc1)C1CO2CC(C1)C2C(=O)NC(Cc1ccccc1)C(=O)NC1Cc2ccccc2)CC1'\n",
      "RDKit ERROR: [05:16:00] Explicit valence for atom # 21 O, 3, is greater than permitted\n",
      "RDKit ERROR: [05:16:00] SMILES Parse Error: extra open parentheses for input: 'CC(C)(C)C1CCC(CCCCCCCCCCCCCCCCCCCCCCCCCCCCCCCCCCCCCCCCCCCCCCCCCCCCCCCCC1'\n",
      "RDKit ERROR: [05:16:00] Explicit valence for atom # 21 O, 3, is greater than permitted\n",
      "RDKit ERROR: [05:16:00] SMILES Parse Error: unclosed ring for input: 'O=C(NC1CC2CCC(C1)N2CCc1ccccc1)C1CC2(C(C)(C)C)CC1C2c1ccccc12'\n",
      "RDKit ERROR: [05:16:00] Explicit valence for atom # 21 O, 3, is greater than permitted\n",
      "RDKit ERROR: [05:16:00] SMILES Parse Error: extra open parentheses for input: 'CC(C)(C)C1CCC(CCCCCCCCCCCCCCCCCCCCCCCCCCCCCCCCCCCCCCCCCCCCCCCCC1(C)C'\n",
      "RDKit ERROR: [05:16:00] SMILES Parse Error: extra open parentheses for input: 'CC1(CC(CC(O)CC(O)CCCC2(C)C)CCCC2(C)C1CCC12CC3CC(CC(C3)C1)C2'\n",
      "RDKit ERROR: [05:16:00] Explicit valence for atom # 22 O, 3, is greater than permitted\n",
      "RDKit ERROR: [05:16:00] SMILES Parse Error: extra open parentheses for input: 'CC1(CCCC2(O)CCCCCC2(C)C1CCC12CC3CC(CC(C3)C1)C2'\n",
      "RDKit ERROR: [05:16:00] Explicit valence for atom # 21 O, 3, is greater than permitted\n",
      "RDKit ERROR: [05:16:00] Explicit valence for atom # 21 O, 3, is greater than permitted\n",
      "RDKit ERROR: [05:16:00] Explicit valence for atom # 20 O, 3, is greater than permitted\n",
      "RDKit ERROR: [05:16:00] SMILES Parse Error: extra open parentheses for input: 'CC1(CC(CC(O)C2CC2)C(O)CO)CCCCCCCCCC1CC1(C2CC(CC(O)CC3CCCC3)CCCC2(C)C1CCC12CC3CC(CC(C3)C1)C2'\n",
      "RDKit ERROR: [05:16:00] SMILES Parse Error: extra open parentheses for input: 'O=C(NC1CC2CCC(O1)C2C(=O)NC(Cc1ccccc1)C(=O)NC(Cc1ccccc1)C(=O)NC(Cc1ccccc1)C(=O)O'\n",
      "RDKit ERROR: [05:16:00] SMILES Parse Error: extra open parentheses for input: 'CC1(CC(CC(O)C2(O)CCCC2)C(CCC(O)CO)CCCC1(C)C'\n",
      "RDKit ERROR: [05:16:00] Explicit valence for atom # 21 O, 3, is greater than permitted\n",
      "RDKit ERROR: [05:16:00] Explicit valence for atom # 21 O, 3, is greater than permitted\n",
      "RDKit ERROR: [05:16:00] SMILES Parse Error: extra close parentheses while parsing: O=C(NC1CC2CCCC(C1)N2CCc1ccccc1)C1Cc2ccccc2)CC1\n",
      "RDKit ERROR: [05:16:00] SMILES Parse Error: Failed parsing SMILES 'O=C(NC1CC2CCCC(C1)N2CCc1ccccc1)C1Cc2ccccc2)CC1' for input: 'O=C(NC1CC2CCCC(C1)N2CCc1ccccc1)C1Cc2ccccc2)CC1'\n",
      "RDKit ERROR: [05:16:00] SMILES Parse Error: extra open parentheses for input: 'CC1(CC(CC(O)CC(O)C(O)C(O)CO)CCCC1'\n",
      "RDKit ERROR: [05:16:00] SMILES Parse Error: extra open parentheses for input: 'O=C(NC1CC2CCC(C1)N2CCc1ccccc1)C1CC2(CC(C1)N2CCc1ccccc1'\n",
      "RDKit ERROR: [05:16:00] SMILES Parse Error: extra open parentheses for input: 'O=C(O)C(Cc1ccccc1)NC(=O)C(Cc1ccccc1)NC(=O)C1C2CC(N(CC(O)C(Cc3ccccc3)C(=O)NC(Cc3ccccc3)C(=O)O)CC1C2'\n",
      "RDKit ERROR: [05:16:00] Explicit valence for atom # 28 C, 5, is greater than permitted\n",
      "RDKit ERROR: [05:16:00] SMILES Parse Error: extra open parentheses for input: 'O=C(NC1CC2CCC(C1)N2CCc1ccccc1)C1COC2(C(C1)C(C1(O)CCCC1)C2C(=O)NC(Cc1ccccc1)C(=O)NC(Cc1ccccc1)C(=O)NC(Cc1ccccc1)C(=O)O'\n",
      "RDKit ERROR: [05:16:00] Explicit valence for atom # 21 O, 3, is greater than permitted\n",
      "RDKit ERROR: [05:16:00] Explicit valence for atom # 21 O, 3, is greater than permitted\n",
      "RDKit ERROR: [05:16:00] SMILES Parse Error: extra open parentheses for input: 'O=C(NC1CC2CCC(C1)C2C(=O)NC(Cc1ccccc1)C(=O)NC(Cc1ccccc1)C(=O)NC(Cc1ccccc1)C(=O)O'\n",
      "RDKit ERROR: [05:16:00] SMILES Parse Error: extra open parentheses for input: 'O=C(NC1CC2CCC(C1)N2CCc1ccccc1)C1CO(C2(C)CCCC12'\n",
      "RDKit ERROR: [05:16:00] SMILES Parse Error: extra close parentheses while parsing: CC1(CC(CC(O)C2(O)CCCC2)C(O)CO)CCCCCCCCCCCCCCCC1CC1(C2CCCCC2)C(=O)NC(Cc2ccccc2)C(=O)NC(Cc2ccccc2)C(=O)O)CC1CC(=O)NC(Cc1ccccc1)C(=\n",
      "RDKit ERROR: [05:16:00] SMILES Parse Error: Failed parsing SMILES 'CC1(CC(CC(O)C2(O)CCCC2)C(O)CO)CCCCCCCCCCCCCCCC1CC1(C2CCCCC2)C(=O)NC(Cc2ccccc2)C(=O)NC(Cc2ccccc2)C(=O)O)CC1CC(=O)NC(Cc1ccccc1)C(=' for input: 'CC1(CC(CC(O)C2(O)CCCC2)C(O)CO)CCCCCCCCCCCCCCCC1CC1(C2CCCCC2)C(=O)NC(Cc2ccccc2)C(=O)NC(Cc2ccccc2)C(=O)O)CC1CC(=O)NC(Cc1ccccc1)C(='\n",
      "RDKit ERROR: [05:16:00] SMILES Parse Error: extra open parentheses for input: 'O=C(NC1CC2CCC(C1)N2CCc1ccccc1)C1CC2CC(C1)C2C(=O)NC(Cc1ccccc1)C(=O)NC(Cc1ccccc1)C(=O)NC(Cc1ccccc1'\n",
      "RDKit ERROR: [05:16:00] SMILES Parse Error: extra close parentheses while parsing: O=C(NC1CC2CCC(C1)N2CCc1ccccc1)C1c2ccccc2C(=O)NC(Cc2ccccc2)C(=O)NC(Cc2ccccc2)C(=O)NC(Cc2ccccc2)C(=O)O)CC1C\n",
      "RDKit ERROR: [05:16:00] SMILES Parse Error: Failed parsing SMILES 'O=C(NC1CC2CCC(C1)N2CCc1ccccc1)C1c2ccccc2C(=O)NC(Cc2ccccc2)C(=O)NC(Cc2ccccc2)C(=O)NC(Cc2ccccc2)C(=O)O)CC1C' for input: 'O=C(NC1CC2CCC(C1)N2CCc1ccccc1)C1c2ccccc2C(=O)NC(Cc2ccccc2)C(=O)NC(Cc2ccccc2)C(=O)NC(Cc2ccccc2)C(=O)O)CC1C'\n",
      "RDKit ERROR: [05:16:00] SMILES Parse Error: extra open parentheses for input: 'O=C(NC1CC2CCC(C1)C2C(=O)NC(Cc1ccccc1)C(=O)NC(Cc1ccccc1)C(=O)NC(Cc1ccccc1)C(=O)O'\n",
      "RDKit ERROR: [05:16:00] SMILES Parse Error: extra close parentheses while parsing: O=C(NCC1(c2ccccn2)CC1)NC1CC2CCC(C1)N2CCc1ccccc1)C1CC2CC(C1)C2C(=O)NC(Cc1ccccc1)C(=O)NC(Cc1ccccc1)C(=O)O\n",
      "RDKit ERROR: [05:16:00] SMILES Parse Error: Failed parsing SMILES 'O=C(NCC1(c2ccccn2)CC1)NC1CC2CCC(C1)N2CCc1ccccc1)C1CC2CC(C1)C2C(=O)NC(Cc1ccccc1)C(=O)NC(Cc1ccccc1)C(=O)O' for input: 'O=C(NCC1(c2ccccn2)CC1)NC1CC2CCC(C1)N2CCc1ccccc1)C1CC2CC(C1)C2C(=O)NC(Cc1ccccc1)C(=O)NC(Cc1ccccc1)C(=O)O'\n",
      "RDKit ERROR: [05:16:00] Explicit valence for atom # 21 O, 3, is greater than permitted\n"
     ]
    },
    {
     "name": "stderr",
     "output_type": "stream",
     "text": [
      "RDKit ERROR: [05:16:00] SMILES Parse Error: extra open parentheses for input: 'CC1(CC(CC(O)C(CO)O)CCCC2(C)CCCCCCCC12'\n",
      "RDKit ERROR: [05:16:00] Explicit valence for atom # 21 O, 3, is greater than permitted\n",
      "RDKit ERROR: [05:16:00] Explicit valence for atom # 21 O, 3, is greater than permitted\n",
      "RDKit ERROR: [05:16:00] SMILES Parse Error: extra open parentheses for input: 'CC1(CC(C(C)(C)C)CCCC1(C)C'\n",
      "RDKit ERROR: [05:16:00] Explicit valence for atom # 21 O, 3, is greater than permitted\n",
      "RDKit ERROR: [05:16:00] SMILES Parse Error: extra open parentheses for input: 'CC(C)(C)C1CC(CCC2CCCCCCC(CCC3CCCC3)CCCCC2(C)C1CCC12CC3CC(CC(C3)C1)C2'\n",
      "RDKit ERROR: [05:16:00] SMILES Parse Error: extra open parentheses for input: 'CC1(CC(CC(O)C(Cc2ccccc2)C(=O)O)CC1CCC12CC3CC(CC(C3)C1)C2'\n",
      "RDKit ERROR: [05:16:00] Explicit valence for atom # 22 O, 3, is greater than permitted\n",
      "RDKit ERROR: [05:16:00] SMILES Parse Error: extra close parentheses while parsing: O=C(NC1CC2CCC(C1)N2CCc1ccccc1)C1CC2CCC(C1)N2CCc1ccccc1)C(=O)NC1CC2CCC(C1)C2C(=O)NC(Cc1ccccc1)C(=O)NC(Cc1ccccc1)C(=O)O\n",
      "RDKit ERROR: [05:16:00] SMILES Parse Error: Failed parsing SMILES 'O=C(NC1CC2CCC(C1)N2CCc1ccccc1)C1CC2CCC(C1)N2CCc1ccccc1)C(=O)NC1CC2CCC(C1)C2C(=O)NC(Cc1ccccc1)C(=O)NC(Cc1ccccc1)C(=O)O' for input: 'O=C(NC1CC2CCC(C1)N2CCc1ccccc1)C1CC2CCC(C1)N2CCc1ccccc1)C(=O)NC1CC2CCC(C1)C2C(=O)NC(Cc1ccccc1)C(=O)NC(Cc1ccccc1)C(=O)O'\n",
      "RDKit ERROR: [05:16:00] Explicit valence for atom # 21 O, 3, is greater than permitted\n",
      "RDKit ERROR: [05:16:00] SMILES Parse Error: extra open parentheses for input: 'O=C(NC1CC2CCCC(C1)N2CCc1ccccc1)C1CC2(C(C1)C2C(=O)NC(Cc1ccccc1)C(=O)NC(Cc1ccccc1)C(=O)NC(Cc1ccccc1)C(=O)O'\n",
      "RDKit ERROR: [05:16:00] SMILES Parse Error: unclosed ring for input: 'CC(C)(C)NC(=O)C1CC2CCC(CC1C(=O)NC(Cc1ccccc1)C(=O)O)C2CC(O)C(Cc1ccccc1)NC(=O)C1C2CC(NC(=O)C(Cc3ccccc3)C(=O)NC(Cc3ccccc3)C(=O)O)CC'\n",
      "RDKit ERROR: [05:16:00] Explicit valence for atom # 21 O, 3, is greater than permitted\n",
      "RDKit ERROR: [05:16:00] Explicit valence for atom # 21 O, 3, is greater than permitted\n",
      "RDKit ERROR: [05:16:00] SMILES Parse Error: extra close parentheses while parsing: O=C(NCC1(c2ccccc2)CC1)NC1CC2CCC(C1)N2CCc1ccccc1)C1CC2CC(C1)C2C(=O)NC(Cc1ccccc1)C(=O)NC(Cc1ccccc1)C(=O)O\n",
      "RDKit ERROR: [05:16:00] SMILES Parse Error: Failed parsing SMILES 'O=C(NCC1(c2ccccc2)CC1)NC1CC2CCC(C1)N2CCc1ccccc1)C1CC2CC(C1)C2C(=O)NC(Cc1ccccc1)C(=O)NC(Cc1ccccc1)C(=O)O' for input: 'O=C(NCC1(c2ccccc2)CC1)NC1CC2CCC(C1)N2CCc1ccccc1)C1CC2CC(C1)C2C(=O)NC(Cc1ccccc1)C(=O)NC(Cc1ccccc1)C(=O)O'\n",
      "RDKit ERROR: [05:16:00] SMILES Parse Error: extra open parentheses for input: 'CC1(CC(CC(O)C2(O)CCCC2)C(O)CO)CCCC(CC1CC(O)C(Cc2ccccc2)C(=O)O)CC1CC(O)C(Cc1ccccc1)NC(=O)C1C2CC(NC(=O)C(Cc3ccccc3)C(=O)NC(Cc3cccc'\n",
      "RDKit ERROR: [05:16:00] Explicit valence for atom # 21 O, 3, is greater than permitted\n",
      "RDKit ERROR: [05:16:00] SMILES Parse Error: unclosed ring for input: 'CC(C)(C)NC(=O)C1CC2CCC(CC1C(=O)NC(Cc1ccccc1)C(=O)O)C2CC(O)C(Cc1ccccc1)NC(=O)C1C2CC(NC(=O)C(Cc3ccccc3)C(=O)NC(Cc3ccccc3)C(=O)O)CC'\n",
      "RDKit ERROR: [05:16:00] SMILES Parse Error: syntax error while parsing: O=C(NC1CC2CCC(C1)N2CCc1ccccc1)C1CC2CC((O)CC1C2\n",
      "RDKit ERROR: [05:16:00] SMILES Parse Error: Failed parsing SMILES 'O=C(NC1CC2CCC(C1)N2CCc1ccccc1)C1CC2CC((O)CC1C2' for input: 'O=C(NC1CC2CCC(C1)N2CCc1ccccc1)C1CC2CC((O)CC1C2'\n",
      "RDKit ERROR: [05:16:00] SMILES Parse Error: extra open parentheses for input: 'CC1(C)(CCC2(C)C(CCC3CCCC3)CCCC12C'\n",
      "RDKit ERROR: [05:16:00] SMILES Parse Error: extra close parentheses while parsing: O=C(NC1CC2CCCC1C1)NC1CC2CC(C1)N2CCc1ccccc1)C1CC2CC(C1)C2C(=O)NC(Cc1ccccc1)C(=O)NC(Cc1ccccc1)C(=O)NC(Cc1ccccc1)C(=O)O\n",
      "RDKit ERROR: [05:16:00] SMILES Parse Error: Failed parsing SMILES 'O=C(NC1CC2CCCC1C1)NC1CC2CC(C1)N2CCc1ccccc1)C1CC2CC(C1)C2C(=O)NC(Cc1ccccc1)C(=O)NC(Cc1ccccc1)C(=O)NC(Cc1ccccc1)C(=O)O' for input: 'O=C(NC1CC2CCCC1C1)NC1CC2CC(C1)N2CCc1ccccc1)C1CC2CC(C1)C2C(=O)NC(Cc1ccccc1)C(=O)NC(Cc1ccccc1)C(=O)NC(Cc1ccccc1)C(=O)O'\n",
      "RDKit ERROR: [05:16:00] Explicit valence for atom # 21 O, 3, is greater than permitted\n",
      "RDKit ERROR: [05:16:00] SMILES Parse Error: unclosed ring for input: 'O=C(NC1CC2CC2C(C1)N2CCc1ccccc1)C1CC2CC(C1)C2C(=O)NC(Cc1ccccc1)C(=O)NC(Cc1ccccc1)C(=O)NC(Cc1ccccc1)C(=O)O'\n",
      "RDKit ERROR: [05:16:00] SMILES Parse Error: extra open parentheses for input: 'O=C(NCC1(c2ccccc2)CC1'\n",
      "RDKit ERROR: [05:16:00] SMILES Parse Error: extra open parentheses for input: 'O=C(NC1CC2CCC(C1)N2CCc1ccccc1)C1CC2CC(C1)C2C(=O)NC(Cc1ccccc1)C(=O)NC1CC2CC(C1)C2C(=O)NC(Cc1ccccc1)C(=O)NC(Cc1ccccc1)C(=O)NC(Cc1c'\n",
      "RDKit ERROR: [05:16:00] SMILES Parse Error: extra open parentheses for input: 'c1ccccc1CC(c1ccccc1)N1CCC2(CCC(O)CC3CC3)CCCC2(CCCCCCCCCCCCCCCCCCCCC1'\n",
      "RDKit ERROR: [05:16:00] Explicit valence for atom # 21 O, 3, is greater than permitted\n",
      "RDKit ERROR: [05:16:00] Explicit valence for atom # 31 C, 5, is greater than permitted\n",
      "RDKit ERROR: [05:16:01] Explicit valence for atom # 21 O, 3, is greater than permitted\n",
      "RDKit ERROR: [05:16:01] Explicit valence for atom # 21 O, 3, is greater than permitted\n",
      "RDKit ERROR: [05:16:01] SMILES Parse Error: extra open parentheses for input: 'CC(C)(C)C1CCC(CCCC2(C)CCCC2(C)C1CCC12CC3CC(CC(C3)C1)C2'\n",
      "RDKit ERROR: [05:16:01] SMILES Parse Error: extra open parentheses for input: 'CC1(CC(O)CCCC2(C)CCCC2(C)C1CCC12CC3CC(CC(C3)C1)C2'\n",
      "RDKit ERROR: [05:16:01] Explicit valence for atom # 21 O, 3, is greater than permitted\n",
      "RDKit ERROR: [05:16:01] Explicit valence for atom # 22 O, 3, is greater than permitted\n",
      "RDKit ERROR: [05:16:01] Explicit valence for atom # 21 O, 3, is greater than permitted\n",
      "RDKit ERROR: [05:16:01] SMILES Parse Error: extra open parentheses for input: 'CC(O)COC1(C(C)(C)C)CC(O)CC(C2CCCCCC2(C)C1CCC12CC3CC(CC(C3)C1)C2'\n",
      "RDKit ERROR: [05:16:01] Explicit valence for atom # 21 O, 3, is greater than permitted\n",
      "RDKit ERROR: [05:16:01] SMILES Parse Error: syntax error while parsing: CC1(C)CCCC2(C)C(CCC3CCC(3)CCCC2(C)C1CCC12CC3CC(CC(C3)C1)C2\n",
      "RDKit ERROR: [05:16:01] SMILES Parse Error: Failed parsing SMILES 'CC1(C)CCCC2(C)C(CCC3CCC(3)CCCC2(C)C1CCC12CC3CC(CC(C3)C1)C2' for input: 'CC1(C)CCCC2(C)C(CCC3CCC(3)CCCC2(C)C1CCC12CC3CC(CC(C3)C1)C2'\n",
      "RDKit ERROR: [05:16:01] Explicit valence for atom # 21 O, 3, is greater than permitted\n",
      "RDKit ERROR: [05:16:01] SMILES Parse Error: extra open parentheses for input: 'O=C(NC(Cc1ccccc1)C(=O)NC(Cc1ccccc1)C(=O)O)N1CC2(C(C1)C2C(=O)NC(Cc1ccccc1)C(=O)NC(Cc1ccccc1)C(=O)O'\n",
      "RDKit ERROR: [05:16:01] SMILES Parse Error: extra open parentheses for input: 'O=C(NC1CC2CCCC(C1)N2CCc1ccccc1)C1COC2(CC1C1CC1CC1(C(C)(C)C)CCCC2(C)C1CCC12CC3CC(CC(C3)C1)C2'\n",
      "RDKit ERROR: [05:16:01] SMILES Parse Error: extra close parentheses while parsing: O=C(NC(Cc1ccccc1)C1=O)CC1C1=C2CC(C1)C2C(=O)NC(Cc1ccccc1)C(=O)O)C1CC2CC(C1)C2C(=O)NC(Cc1ccccc1)C(=O)NC(Cc1ccccc1)C(=O)O\n",
      "RDKit ERROR: [05:16:01] SMILES Parse Error: Failed parsing SMILES 'O=C(NC(Cc1ccccc1)C1=O)CC1C1=C2CC(C1)C2C(=O)NC(Cc1ccccc1)C(=O)O)C1CC2CC(C1)C2C(=O)NC(Cc1ccccc1)C(=O)NC(Cc1ccccc1)C(=O)O' for input: 'O=C(NC(Cc1ccccc1)C1=O)CC1C1=C2CC(C1)C2C(=O)NC(Cc1ccccc1)C(=O)O)C1CC2CC(C1)C2C(=O)NC(Cc1ccccc1)C(=O)NC(Cc1ccccc1)C(=O)O'\n",
      "RDKit ERROR: [05:16:01] SMILES Parse Error: extra close parentheses while parsing: O=C(NCC1(c2ccccc2)CC1)NC1CC2CCC(C1)N2CCc1ccccc1)C1CC2CC(C1)C2C(=O)NC(Cc1ccccc1)C(=O)NC(Cc1ccccc1)C(=O)O\n",
      "RDKit ERROR: [05:16:01] SMILES Parse Error: Failed parsing SMILES 'O=C(NCC1(c2ccccc2)CC1)NC1CC2CCC(C1)N2CCc1ccccc1)C1CC2CC(C1)C2C(=O)NC(Cc1ccccc1)C(=O)NC(Cc1ccccc1)C(=O)O' for input: 'O=C(NCC1(c2ccccc2)CC1)NC1CC2CCC(C1)N2CCc1ccccc1)C1CC2CC(C1)C2C(=O)NC(Cc1ccccc1)C(=O)NC(Cc1ccccc1)C(=O)O'\n",
      "RDKit ERROR: [05:16:01] Explicit valence for atom # 21 O, 3, is greater than permitted\n",
      "RDKit ERROR: [05:16:01] SMILES Parse Error: unclosed ring for input: 'CC1(CC(CC(O)C2(O)CCCC2)C(O)CO)CCCCCCCC(Cc1ccccc1)C(=O)NC(Cc1ccccc1)C(=O)NC(Cc1ccccc1)C(=O)O'\n",
      "RDKit ERROR: [05:16:01] SMILES Parse Error: unclosed ring for input: 'O=C(NC1CC2CCC(C1)N2CCc1ccccc1)C1c2ccccc2C(C1)N2CCc1ccccc1'\n",
      "RDKit ERROR: [05:16:01] SMILES Parse Error: unclosed ring for input: 'O=C(NC1CC2CCC1C1)C2CC(O)C(Cc1ccccc1)NC(=O)C(Cc1ccccc1)NC(=O)C1C2CC(NC(=O)C(Cc3ccccc3)C(=O)NC(Cc3ccccc3)C(=O)NC(Cc3ccccc3)C(=O)O)'\n",
      "RDKit ERROR: [05:16:01] SMILES Parse Error: extra open parentheses for input: 'O=C(O)C(Cc1ccccc1)NC(=O)C(Cc1ccccc1)NC(=O)C1C2CCC1CC1CCCCCCC2(C1)C1CC2(C(C1)C2C(=O)NC(Cc1ccccc1)C(=O)NC(Cc1ccccc1)C(=O)O'\n",
      "RDKit ERROR: [05:16:01] Explicit valence for atom # 21 O, 3, is greater than permitted\n",
      "RDKit ERROR: [05:16:01] SMILES Parse Error: extra open parentheses for input: 'CC(C)(C)C1CCC(CCCC2(C)CCCC2(C)C1CCC12CC3CC(CC(C3)C1)C2'\n",
      "RDKit ERROR: [05:16:01] Explicit valence for atom # 21 O, 3, is greater than permitted\n",
      "RDKit ERROR: [05:16:01] Explicit valence for atom # 21 O, 3, is greater than permitted\n",
      "RDKit ERROR: [05:16:01] SMILES Parse Error: unclosed ring for input: 'CC(C)(C)NC(=O)C1CC2CCC(CC1C(=O)NC(Cc1ccccc1)C(=O)O)C2CC(O)C(Cc1ccccc1)NC(=O)C1C2CC(NC(=O)C(Cc3ccccc3)C(=O)NC(Cc3ccccc3)C(=O)O)CC'\n",
      "RDKit ERROR: [05:16:01] SMILES Parse Error: unclosed ring for input: 'O=C(NC1CC2CCC(C1)N2CCc1ccccc1)C1COc2ccccc2C12CC(C1)C2C(=O)NC(Cc1ccccc1)C(=O)NC(Cc1ccccc1)C(=O)O'\n",
      "RDKit ERROR: [05:16:01] Explicit valence for atom # 21 O, 3, is greater than permitted\n",
      "RDKit ERROR: [05:16:01] SMILES Parse Error: unclosed ring for input: 'CC1(CC(CC(O)C2(O)CCCC2)C(O)CO)CCCC(Cc1ccccc1)C(=O)NC(Cc1ccccc1)C(=O)NC(Cc1ccccc1)C(=O)O'\n",
      "RDKit ERROR: [05:16:01] Explicit valence for atom # 21 O, 3, is greater than permitted\n"
     ]
    },
    {
     "name": "stderr",
     "output_type": "stream",
     "text": [
      "RDKit ERROR: [05:16:01] SMILES Parse Error: extra open parentheses for input: 'CC(C)(C)C1CCC(CCC2(C)C(CCC3CCCC3)CCCC12'\n",
      "RDKit ERROR: [05:16:01] SMILES Parse Error: extra open parentheses for input: 'O=C(NC1CC2CCC(O1)C2C(=O)NC(Cc1ccccc1)C(=O)NC(Cc1ccccc1)C(=O)NC(Cc1ccccc1)C(=O)O'\n",
      "RDKit ERROR: [05:16:01] Explicit valence for atom # 21 O, 3, is greater than permitted\n",
      "RDKit ERROR: [05:16:01] SMILES Parse Error: extra close parentheses while parsing: O=C(NC1CC2CCC(C1)N2CCc1ccccc1)C1COc2ccccc2)c(=O)c(CC(=O)NC(Cc2ccccc2)C(=O)O)cc1\n",
      "RDKit ERROR: [05:16:01] SMILES Parse Error: Failed parsing SMILES 'O=C(NC1CC2CCC(C1)N2CCc1ccccc1)C1COc2ccccc2)c(=O)c(CC(=O)NC(Cc2ccccc2)C(=O)O)cc1' for input: 'O=C(NC1CC2CCC(C1)N2CCc1ccccc1)C1COc2ccccc2)c(=O)c(CC(=O)NC(Cc2ccccc2)C(=O)O)cc1'\n",
      "RDKit ERROR: [05:16:01] SMILES Parse Error: extra open parentheses for input: 'CC1(CC(CC(O)CC(O)C(O)CO)CCCCC1'\n",
      "RDKit ERROR: [05:16:01] Explicit valence for atom # 21 O, 3, is greater than permitted\n",
      "RDKit ERROR: [05:16:01] Explicit valence for atom # 20 O, 3, is greater than permitted\n",
      "RDKit ERROR: [05:16:01] Explicit valence for atom # 21 O, 3, is greater than permitted\n",
      "RDKit ERROR: [05:16:01] Explicit valence for atom # 22 O, 3, is greater than permitted\n",
      "RDKit ERROR: [05:16:01] Explicit valence for atom # 21 O, 3, is greater than permitted\n",
      "RDKit ERROR: [05:16:01] Explicit valence for atom # 21 O, 3, is greater than permitted\n",
      "RDKit ERROR: [05:16:01] Explicit valence for atom # 21 O, 3, is greater than permitted\n",
      "RDKit ERROR: [05:16:01] SMILES Parse Error: extra open parentheses for input: 'CC1(CC(CC(O)C2(O)CC(O)CCC2)C(O)CO)CCCCCCCCCCCCCCCCC1CC1(C2CC(CCC3CCCC3)CCCC2(C)C1CCC12CC3CC(CC(C3)C1)C2'\n",
      "RDKit ERROR: [05:16:01] Explicit valence for atom # 21 O, 3, is greater than permitted\n",
      "RDKit ERROR: [05:16:01] SMILES Parse Error: unclosed ring for input: 'CC1(CC(CC(O)C2(O)CCCC2)C(O)CO)CCC12CC3CC(CC(C3)C1)C2'\n",
      "RDKit ERROR: [05:16:01] Explicit valence for atom # 21 O, 3, is greater than permitted\n",
      "RDKit ERROR: [05:16:01] SMILES Parse Error: extra open parentheses for input: 'O=C(NC1CC2CCCC(C1)N2CCc1ccccc1)C1CC2(C(C1)C2C(=O)NC(Cc1ccccc1)C(=O)NC(Cc1ccccc1)C(=O)NC(Cc1ccccc1)C(=O)O'\n",
      "RDKit ERROR: [05:16:01] SMILES Parse Error: extra open parentheses for input: 'O=C(NC1CC2CCCC(C1)N2CCc1ccccc1)C1CC2(C(C1)C2C(=O)NC(Cc1ccccc1)C(=O)NC(Cc1ccccc1)C(=O)NC(Cc1ccccc1)C(=O)O'\n",
      "RDKit ERROR: [05:16:01] SMILES Parse Error: extra open parentheses for input: 'CC(C)(C)OC(=O)N1CCC(C2CCCCCC2(C)C)CC(C2CCCCCC2(C)C1CCC12CC3CC(CC(C3)C1)C2'\n",
      "RDKit ERROR: [05:16:01] SMILES Parse Error: extra close parentheses while parsing: O=C(NCC1(c2ccccc2)CC1)NC1CC2CCC(C1)N2CCc1ccccc1)C1CC2CC(C1)C2C(=O)NC(Cc1ccccc1)C(=O)NC(Cc1ccccc1)C(=O)O\n",
      "RDKit ERROR: [05:16:01] SMILES Parse Error: Failed parsing SMILES 'O=C(NCC1(c2ccccc2)CC1)NC1CC2CCC(C1)N2CCc1ccccc1)C1CC2CC(C1)C2C(=O)NC(Cc1ccccc1)C(=O)NC(Cc1ccccc1)C(=O)O' for input: 'O=C(NCC1(c2ccccc2)CC1)NC1CC2CCC(C1)N2CCc1ccccc1)C1CC2CC(C1)C2C(=O)NC(Cc1ccccc1)C(=O)NC(Cc1ccccc1)C(=O)O'\n",
      "RDKit ERROR: [05:16:01] Explicit valence for atom # 21 O, 3, is greater than permitted\n",
      "RDKit ERROR: [05:16:01] SMILES Parse Error: unclosed ring for input: 'CC1(CC(CC(O)C2(O)CCCC2)C(O)CO)CCCCCCCCC1CC1(C(C)(C)C)CC(O)CC(C1)N2CCc1ccccc1'\n",
      "RDKit ERROR: [05:16:01] SMILES Parse Error: ring closure 1 duplicates bond between atom 1 and atom 17 for input: 'CC1(CC(CC(O)C2(O)CCCC2)C(O)CO)C1'\n",
      "RDKit ERROR: [05:16:01] SMILES Parse Error: extra close parentheses while parsing: CC1(CC(CC(O)C2CC3)C2)CCCC2(C)C)CCCCC2(C)C1CCC12CC3CC(CC(C3)C1)C2\n",
      "RDKit ERROR: [05:16:01] SMILES Parse Error: Failed parsing SMILES 'CC1(CC(CC(O)C2CC3)C2)CCCC2(C)C)CCCCC2(C)C1CCC12CC3CC(CC(C3)C1)C2' for input: 'CC1(CC(CC(O)C2CC3)C2)CCCC2(C)C)CCCCC2(C)C1CCC12CC3CC(CC(C3)C1)C2'\n",
      "RDKit ERROR: [05:16:01] Explicit valence for atom # 21 O, 3, is greater than permitted\n",
      "RDKit ERROR: [05:16:01] SMILES Parse Error: extra open parentheses for input: 'CC1(CC(CO)CCCC2(CCC3CCCC3)CCCCC2(C)C1CCC12CC3CC(CC(C3)C1)C2'\n",
      "RDKit ERROR: [05:16:01] Explicit valence for atom # 21 O, 3, is greater than permitted\n",
      "RDKit ERROR: [05:16:01] SMILES Parse Error: unclosed ring for input: 'CC1(CC(CC(O)C2(O)CCCC2)C(O)CO)CCCC(O)C(Cc1ccccc1)NC(=O)C1C2CC(NC(=O)C(Cc3ccccc3)C(=O)NC(Cc3ccccc3)C(=O)O)CC1C2'\n",
      "RDKit ERROR: [05:16:01] SMILES Parse Error: extra open parentheses for input: 'CC(C)(C)C1CCC(C2C3CC(CCC3)C2CCCC2(C)C(CCC3CCCC3)CCCC12'\n",
      "RDKit ERROR: [05:16:01] SMILES Parse Error: extra open parentheses for input: 'CC(C)(C)C1CC(CCC2CCC(CC1CCC1(CC3CCC(C3)C1)C2'\n",
      "RDKit ERROR: [05:16:01] Explicit valence for atom # 21 O, 3, is greater than permitted\n",
      "RDKit ERROR: [05:16:01] SMILES Parse Error: extra close parentheses while parsing: O=C(NC1CC2CCC(C1)N2CCc1ccccc1)C1COc2ccccc2C(=O)NC(Cc2ccccc2)C(=O)NC(Cc2ccccc2)C(=O)NC(Cc2ccccc2)C(=O)O)CC1C1\n",
      "RDKit ERROR: [05:16:01] SMILES Parse Error: Failed parsing SMILES 'O=C(NC1CC2CCC(C1)N2CCc1ccccc1)C1COc2ccccc2C(=O)NC(Cc2ccccc2)C(=O)NC(Cc2ccccc2)C(=O)NC(Cc2ccccc2)C(=O)O)CC1C1' for input: 'O=C(NC1CC2CCC(C1)N2CCc1ccccc1)C1COc2ccccc2C(=O)NC(Cc2ccccc2)C(=O)NC(Cc2ccccc2)C(=O)NC(Cc2ccccc2)C(=O)O)CC1C1'\n",
      "RDKit ERROR: [05:16:01] Explicit valence for atom # 21 O, 3, is greater than permitted\n",
      "RDKit ERROR: [05:16:01] Explicit valence for atom # 21 O, 3, is greater than permitted\n",
      "RDKit ERROR: [05:16:01] Explicit valence for atom # 21 O, 3, is greater than permitted\n",
      "RDKit ERROR: [05:16:01] SMILES Parse Error: extra open parentheses for input: 'CC1(CC(CC(O)C2(O)CCCC2)C(O)CO)CCCCCCCCCCCC1CC1(C2CC(CCC3CCCC3)CCCC2(C)C1CCC12CC3CC(CC(C3)C1)C2'\n",
      "RDKit ERROR: [05:16:01] Explicit valence for atom # 21 O, 3, is greater than permitted\n",
      "RDKit ERROR: [05:16:01] Explicit valence for atom # 21 O, 3, is greater than permitted\n",
      "RDKit ERROR: [05:16:01] Explicit valence for atom # 21 O, 3, is greater than permitted\n",
      "RDKit ERROR: [05:16:01] Explicit valence for atom # 21 O, 3, is greater than permitted\n",
      "RDKit ERROR: [05:16:01] SMILES Parse Error: extra close parentheses while parsing: O=C(NC(Cc1ccccc1)C(=O)NC(Cc1ccccc1)C(=O)O)C1Cc2ccccc2)CC1\n",
      "RDKit ERROR: [05:16:01] SMILES Parse Error: Failed parsing SMILES 'O=C(NC(Cc1ccccc1)C(=O)NC(Cc1ccccc1)C(=O)O)C1Cc2ccccc2)CC1' for input: 'O=C(NC(Cc1ccccc1)C(=O)NC(Cc1ccccc1)C(=O)O)C1Cc2ccccc2)CC1'\n",
      "RDKit ERROR: [05:16:01] SMILES Parse Error: unclosed ring for input: 'CC1(C)CCCC2(C)C(C)C3CCC(C1)C3C(=O)NC(Cc1ccccc1)C(=O)NC(Cc1ccccc1)C(=O)NC(Cc1ccccc1)C(=O)O'\n",
      "RDKit ERROR: [05:16:01] SMILES Parse Error: extra open parentheses for input: 'CC(C)(C)C1CCC(C2CCCCC2)CCCCCCCCCCCCCCCCCCCCCCCCCCCCC1CC1(C2CC(CCC3CCCC3)CCCC2(C)C1CCC12CC3CC(CC(C3)C1)C2'\n",
      "RDKit ERROR: [05:16:01] Explicit valence for atom # 21 O, 3, is greater than permitted\n",
      "RDKit ERROR: [05:16:01] Explicit valence for atom # 21 O, 3, is greater than permitted\n",
      "RDKit ERROR: [05:16:01] SMILES Parse Error: extra open parentheses for input: 'CC(C)(C)C1CCC(C2CC2CC(O)CCC2(C)C(CCC3CCCC3)CCCC12'\n",
      "RDKit ERROR: [05:16:01] Explicit valence for atom # 21 O, 3, is greater than permitted\n",
      "RDKit ERROR: [05:16:01] Explicit valence for atom # 22 O, 3, is greater than permitted\n",
      "RDKit ERROR: [05:16:01] SMILES Parse Error: extra open parentheses for input: 'CC1(CC(CC(O)C2(C)CCCC2)C(O)CO)CCCCCCCCCCCCCC1CC1(C2CCCCCC2(C)C1CCC12CC3CC(CC(C3)C1)C2'\n",
      "RDKit ERROR: [05:16:01] Explicit valence for atom # 22 O, 3, is greater than permitted\n",
      "RDKit ERROR: [05:16:01] SMILES Parse Error: extra close parentheses while parsing: O=C(NC1CC2CCCC1C1)N2CCc1ccccc1)C1CC2CC(C1)C2C(=O)NC(Cc1ccccc1)C(=O)NC(Cc1ccccc1)C(=O)NC(Cc1ccccc1)C(=O)O\n",
      "RDKit ERROR: [05:16:01] SMILES Parse Error: Failed parsing SMILES 'O=C(NC1CC2CCCC1C1)N2CCc1ccccc1)C1CC2CC(C1)C2C(=O)NC(Cc1ccccc1)C(=O)NC(Cc1ccccc1)C(=O)NC(Cc1ccccc1)C(=O)O' for input: 'O=C(NC1CC2CCCC1C1)N2CCc1ccccc1)C1CC2CC(C1)C2C(=O)NC(Cc1ccccc1)C(=O)NC(Cc1ccccc1)C(=O)NC(Cc1ccccc1)C(=O)O'\n",
      "RDKit ERROR: [05:16:01] Explicit valence for atom # 21 O, 3, is greater than permitted\n",
      "RDKit ERROR: [05:16:01] Explicit valence for atom # 22 O, 3, is greater than permitted\n",
      "RDKit ERROR: [05:16:01] Explicit valence for atom # 21 O, 3, is greater than permitted\n",
      "RDKit ERROR: [05:16:01] SMILES Parse Error: extra open parentheses for input: 'O=C(O)C(Cc1ccccc1)NC(=O)C(Cc1ccccc1)NC(=O)C1C2(C(C)(C)C)CCCC2(C1C(C1(c2ccccc1)C(=O)O)C2CC(=O)NC(Cc1ccccc1)C(=O)O'\n",
      "RDKit ERROR: [05:16:01] Explicit valence for atom # 22 O, 3, is greater than permitted\n",
      "RDKit ERROR: [05:16:01] SMILES Parse Error: extra open parentheses for input: 'O=C(O)C(Cc1ccccc1)NC(=O)C(Cc1ccccc1)NC(=O)C(Cc1ccccc1)NC(=O)C1C2CC(N(C(=O)C(Cc3ccccc3)C(=O)O)CC1C2'\n",
      "RDKit ERROR: [05:16:01] SMILES Parse Error: unclosed ring for input: 'CC1(CC(CC(O)C2(O)CCCC2)C(O)CO)CCCC(Cc1ccccc1)C(=O)NC(Cc1ccccc1)C(=O)NC(Cc1ccccc1)C(=O)O'\n",
      "RDKit ERROR: [05:16:01] SMILES Parse Error: extra open parentheses for input: 'O=C(NC(C(=O)NC(Cc1ccccc1)C(=O)O)C1CC2CCC(C1)C2C(=O)NC(Cc1ccccc1)C(=O)NC(Cc1ccccc1)C(=O)O'\n",
      "RDKit ERROR: [05:16:01] SMILES Parse Error: extra open parentheses for input: 'CC(C)(C)C1CCC(CCCC2(C(C)(C)C)CCCC2(C)C1CCC12CC3CC(CC(C3)C1)C2'\n",
      "RDKit ERROR: [05:16:01] Explicit valence for atom # 21 O, 3, is greater than permitted\n",
      "RDKit ERROR: [05:16:01] Explicit valence for atom # 21 O, 3, is greater than permitted\n"
     ]
    },
    {
     "name": "stderr",
     "output_type": "stream",
     "text": [
      "RDKit ERROR: [05:16:01] Explicit valence for atom # 21 O, 3, is greater than permitted\n",
      "RDKit ERROR: [05:16:01] Explicit valence for atom # 21 O, 3, is greater than permitted\n",
      "RDKit ERROR: [05:16:01] Explicit valence for atom # 22 O, 3, is greater than permitted\n",
      "RDKit ERROR: [05:16:01] SMILES Parse Error: extra open parentheses for input: 'CC(C)(C)C1CCC(C2CC(CCC3CCCC3)CCCC2(C)C1CCC12CC3CC(CC(C3)C1)C2'\n",
      "RDKit ERROR: [05:16:01] SMILES Parse Error: extra open parentheses for input: 'CC1(CC(CC(O)C2(O)CCCC2)C(O)CO)CCCCCCCCCCCCCCCC1CC1(C(C)(C)C)CC(O)CC(C2CCCC3)CCCC2(C)C1CC(O)C(Cc1ccccc1)NC(=O)C1C2CC(NC(=O)C(Cc3c'\n",
      "RDKit ERROR: [05:16:01] SMILES Parse Error: extra close parentheses while parsing: O=C(NC1CC2CCCCC2)CC1CC1(c2ccccc2)CC1)NC1CC2CCC(C1)N2CCc1ccccc1\n",
      "RDKit ERROR: [05:16:01] SMILES Parse Error: Failed parsing SMILES 'O=C(NC1CC2CCCCC2)CC1CC1(c2ccccc2)CC1)NC1CC2CCC(C1)N2CCc1ccccc1' for input: 'O=C(NC1CC2CCCCC2)CC1CC1(c2ccccc2)CC1)NC1CC2CCC(C1)N2CCc1ccccc1'\n",
      "RDKit ERROR: [05:16:01] Explicit valence for atom # 21 O, 3, is greater than permitted\n",
      "RDKit ERROR: [05:16:01] SMILES Parse Error: extra close parentheses while parsing: O=C(NC1CC2CCC1C1)C2)C1CC2CCC(C1)C2C(=O)NC(Cc1ccccc1)C(=O)NC(Cc1ccccc1)C(=O)NC(Cc1ccccc1)C(=O)O\n",
      "RDKit ERROR: [05:16:01] SMILES Parse Error: Failed parsing SMILES 'O=C(NC1CC2CCC1C1)C2)C1CC2CCC(C1)C2C(=O)NC(Cc1ccccc1)C(=O)NC(Cc1ccccc1)C(=O)NC(Cc1ccccc1)C(=O)O' for input: 'O=C(NC1CC2CCC1C1)C2)C1CC2CCC(C1)C2C(=O)NC(Cc1ccccc1)C(=O)NC(Cc1ccccc1)C(=O)NC(Cc1ccccc1)C(=O)O'\n",
      "RDKit ERROR: [05:16:01] SMILES Parse Error: extra open parentheses for input: 'CC(C)(C)NC(=O)C1CC2CCC(CC1C(=O)NC(Cc1ccccc1)C(=O)NC(Cc1ccccc1)C(=O)O)C2CC(O)C(Cc1ccccc1)NC(=O)C1C2CC(NC(=O)C(Cc3ccccc3)C(=O)NC(C'\n",
      "RDKit ERROR: [05:16:01] Explicit valence for atom # 21 O, 3, is greater than permitted\n",
      "RDKit ERROR: [05:16:01] SMILES Parse Error: extra open parentheses for input: 'O=C(NC(Cc1ccccc1)C(=O)NC1CC2CC(C1)C2C(=O)NC(Cc1ccccc1)C(=O)NC(Cc1ccccc1)C(=O)O'\n",
      "RDKit ERROR: [05:16:01] Explicit valence for atom # 21 O, 3, is greater than permitted\n",
      "RDKit ERROR: [05:16:01] SMILES Parse Error: unclosed ring for input: 'CC(C)(C)NC(=O)C1CC2CCC(CC1C(=O)NC(Cc1ccccc1)C(=O)O)C2CC(O)C(Cc1ccccc1)NC(=O)C1C2CC(NC(=O)C(Cc3ccccc3)C(=O)NC(Cc3ccccc3)C(=O)O)CC'\n",
      "RDKit ERROR: [05:16:01] SMILES Parse Error: extra open parentheses for input: 'CC1(CCCCCCCCCCCCCCCCCCCCCCCCCC1'\n",
      "RDKit ERROR: [05:16:01] Explicit valence for atom # 21 O, 3, is greater than permitted\n",
      "RDKit ERROR: [05:16:01] Explicit valence for atom # 21 O, 3, is greater than permitted\n",
      "RDKit ERROR: [05:16:01] Explicit valence for atom # 21 O, 3, is greater than permitted\n",
      "RDKit ERROR: [05:16:01] SMILES Parse Error: extra open parentheses for input: 'CC1(CC(CC(O)C2(O)CCCC2)C(O)CO)CCCCCCCCCCCC1CC1(C2CCC(CC(O)C(Cc3ccccc3)C(=O)NC(Cc3ccccc3)C(=O)O)CC1C2'\n",
      "RDKit ERROR: [05:16:01] Explicit valence for atom # 21 O, 3, is greater than permitted\n",
      "RDKit ERROR: [05:16:01] SMILES Parse Error: extra open parentheses for input: 'CC1(CCCC2(C)CCCC2(C)C1CCC12CC3CC(CC(C3)C1)C2'\n",
      "RDKit ERROR: [05:16:01] SMILES Parse Error: extra open parentheses for input: 'CC(C)(C)C1CCC(C2CC2CCCCC2(C)C(CCC3CCCC3)CCCC2(C)C1CCC12CC3CC(CC(C3)C1)C2'\n",
      "RDKit ERROR: [05:16:01] SMILES Parse Error: extra close parentheses while parsing: O=C(NC1CC2CCC1C1)NC1CC2CC(C1)N2CCc1ccccc1)C1CC2CC(C1)C2C(=O)NC(Cc1ccccc1)C(=O)NC(Cc1ccccc1)C(=O)NC(Cc1ccccc1)C(=O)O\n",
      "RDKit ERROR: [05:16:01] SMILES Parse Error: Failed parsing SMILES 'O=C(NC1CC2CCC1C1)NC1CC2CC(C1)N2CCc1ccccc1)C1CC2CC(C1)C2C(=O)NC(Cc1ccccc1)C(=O)NC(Cc1ccccc1)C(=O)NC(Cc1ccccc1)C(=O)O' for input: 'O=C(NC1CC2CCC1C1)NC1CC2CC(C1)N2CCc1ccccc1)C1CC2CC(C1)C2C(=O)NC(Cc1ccccc1)C(=O)NC(Cc1ccccc1)C(=O)NC(Cc1ccccc1)C(=O)O'\n",
      "RDKit ERROR: [05:16:01] SMILES Parse Error: extra close parentheses while parsing: O=C(NCC1(c2ccccc2)CC1)NC1CC2CCC(C1)N2CCc1ccccc1)C1CC2CC(C1)C2C(=O)NC(Cc1ccccc1)C(=O)NC(Cc1ccccc1)C(=O)O\n",
      "RDKit ERROR: [05:16:01] SMILES Parse Error: Failed parsing SMILES 'O=C(NCC1(c2ccccc2)CC1)NC1CC2CCC(C1)N2CCc1ccccc1)C1CC2CC(C1)C2C(=O)NC(Cc1ccccc1)C(=O)NC(Cc1ccccc1)C(=O)O' for input: 'O=C(NCC1(c2ccccc2)CC1)NC1CC2CCC(C1)N2CCc1ccccc1)C1CC2CC(C1)C2C(=O)NC(Cc1ccccc1)C(=O)NC(Cc1ccccc1)C(=O)O'\n",
      "RDKit ERROR: [05:16:01] SMILES Parse Error: extra open parentheses for input: 'O=C(O)C(Cc1ccccc1)NC(=O)C(Cc1ccccc1)NC(=O)C1C2CC(N(C(=O)NC(Cc3ccccc3)C(=O)NC(Cc3ccccc3)C(=O)O)CC1C2'\n",
      "RDKit ERROR: [05:16:01] SMILES Parse Error: extra open parentheses for input: 'O=C(NC(Cc1ccccc1)C(=O)NC(Cc1ccccc1)C(=O)O'\n",
      "RDKit ERROR: [05:16:02] SMILES Parse Error: extra open parentheses for input: 'CC1(CC(CC(O)C2(O)CCCC2)C(O)CO)CCCCCCCCCCCCCCCCCC1CC1(C2CCC(C3)CCCC3(C)C(C(=O)NC(Cc3ccccc3)C(=O)O)CC1C2'\n",
      "RDKit ERROR: [05:16:02] SMILES Parse Error: extra open parentheses for input: 'O=C(O)C(Cc1ccccc1)NC(=O)C(Cc1ccccc1)NC(=O)C1C2CC(N(Cc3ccccc3)CC1C2'\n",
      "RDKit ERROR: [05:16:02] SMILES Parse Error: extra close parentheses while parsing: O=C(NCC1(c2ccccc2)CC1)NC1CC2CCC(C1)N2CCc1ccccc1)C1CC2CC(C1)C2C(=O)NC(Cc1ccccc1)C(=O)NC(Cc1ccccc1)C(=O)O\n",
      "RDKit ERROR: [05:16:02] SMILES Parse Error: Failed parsing SMILES 'O=C(NCC1(c2ccccc2)CC1)NC1CC2CCC(C1)N2CCc1ccccc1)C1CC2CC(C1)C2C(=O)NC(Cc1ccccc1)C(=O)NC(Cc1ccccc1)C(=O)O' for input: 'O=C(NCC1(c2ccccc2)CC1)NC1CC2CCC(C1)N2CCc1ccccc1)C1CC2CC(C1)C2C(=O)NC(Cc1ccccc1)C(=O)NC(Cc1ccccc1)C(=O)O'\n",
      "RDKit ERROR: [05:16:02] SMILES Parse Error: extra open parentheses for input: 'CC(C)(C)C1CCC(CCCCCCCCCCCCCCCCCCCCCCCCCCCCCCCCCCCCCCCCCCCC(CC(C)(C)C)CC(O)CCCC1(C)C'\n",
      "RDKit ERROR: [05:16:02] Explicit valence for atom # 21 O, 3, is greater than permitted\n",
      "RDKit ERROR: [05:16:02] Explicit valence for atom # 21 O, 3, is greater than permitted\n",
      "RDKit ERROR: [05:16:02] SMILES Parse Error: ring closure 1 duplicates bond between atom 29 and atom 37 for input: 'O=C(NC1CC2CCCCC1C(=O)NC(Cc1ccccc1)C(=O)O)C2CC(O)C1(C2CCCCCC2)C1'\n",
      "RDKit ERROR: [05:16:02] SMILES Parse Error: extra close parentheses while parsing: O=C(NC1CC2CCC1C1)N2CCc1ccccc1)C1CC2CCC(C1)C2C(=O)NC(Cc1ccccc1)C(=O)NC(Cc1ccccc1)C(=O)NC(Cc1ccccc1)C(=O)O\n",
      "RDKit ERROR: [05:16:02] SMILES Parse Error: Failed parsing SMILES 'O=C(NC1CC2CCC1C1)N2CCc1ccccc1)C1CC2CCC(C1)C2C(=O)NC(Cc1ccccc1)C(=O)NC(Cc1ccccc1)C(=O)NC(Cc1ccccc1)C(=O)O' for input: 'O=C(NC1CC2CCC1C1)N2CCc1ccccc1)C1CC2CCC(C1)C2C(=O)NC(Cc1ccccc1)C(=O)NC(Cc1ccccc1)C(=O)NC(Cc1ccccc1)C(=O)O'\n",
      "RDKit ERROR: [05:16:02] SMILES Parse Error: extra open parentheses for input: 'O=C(O)C(Cc1ccccc1)NC(=O)C(Cc1ccccc1)NC(=O)C1C2CC(N(C(=O)C(Cc3ccccc3)C(=O)NC(Cc3ccccc3)C(=O)O)CC1C2'\n",
      "RDKit ERROR: [05:16:02] SMILES Parse Error: extra open parentheses for input: 'O=C(NC1CC2CCC(C1)N2CCc1ccccc1)C1CO(C2CCCCCC(C1)C2C(=O)NC(Cc1ccccc1)C(=O)NC(Cc1ccccc1)C(=O)NC(Cc1ccccc1)C(=O)O'\n",
      "RDKit ERROR: [05:16:02] SMILES Parse Error: extra close parentheses while parsing: O=C(NCC1(c2ccccc2)CC1)NC1CC2CCC(C1)N2CCc1ccccc1)C1CC2CC(C1)C2C(=O)NC(Cc1ccccc1)C(=O)NC(Cc1ccccc1)C(=O)O\n",
      "RDKit ERROR: [05:16:02] SMILES Parse Error: Failed parsing SMILES 'O=C(NCC1(c2ccccc2)CC1)NC1CC2CCC(C1)N2CCc1ccccc1)C1CC2CC(C1)C2C(=O)NC(Cc1ccccc1)C(=O)NC(Cc1ccccc1)C(=O)O' for input: 'O=C(NCC1(c2ccccc2)CC1)NC1CC2CCC(C1)N2CCc1ccccc1)C1CC2CC(C1)C2C(=O)NC(Cc1ccccc1)C(=O)NC(Cc1ccccc1)C(=O)O'\n",
      "RDKit ERROR: [05:16:02] SMILES Parse Error: extra open parentheses for input: 'CC1(CC(CC(O)CC(O)C(O)C(O)CO)CCCCC1(C)C'\n",
      "RDKit ERROR: [05:16:02] SMILES Parse Error: unclosed ring for input: 'O=C(NC1CC2CCC1C1)C2C(=O)NC(Cc1ccccc1)C(=O)NC(Cc1ccccc1)C(=O)NC(Cc1ccccc1)C(=O)O'\n",
      "RDKit ERROR: [05:16:02] Explicit valence for atom # 21 O, 3, is greater than permitted\n",
      "RDKit ERROR: [05:16:02] SMILES Parse Error: extra open parentheses for input: 'O=C(NC1CC2CCC(C1)N2CCc1ccccc1)C1CO(C2(C)CCCC12'\n",
      "RDKit ERROR: [05:16:02] SMILES Parse Error: unclosed ring for input: 'CC1(CC(CC(O)C2(O)CCCC2)C(O)CO)CCCC(O)C(Cc1ccccc1)NC(=O)C1C2CC(NC(=O)C(Cc3ccccc3)C(=O)NC(Cc3ccccc3)C(=O)O)CC1C2'\n",
      "RDKit ERROR: [05:16:02] SMILES Parse Error: extra close parentheses while parsing: O=c1ccccc1)C1CC2CC(C1)N2CCc1ccccc1\n",
      "RDKit ERROR: [05:16:02] SMILES Parse Error: Failed parsing SMILES 'O=c1ccccc1)C1CC2CC(C1)N2CCc1ccccc1' for input: 'O=c1ccccc1)C1CC2CC(C1)N2CCc1ccccc1'\n",
      "RDKit ERROR: [05:16:02] SMILES Parse Error: extra open parentheses for input: 'CC1(CC(CC(O)C2(O)CCCC2)C(O)CO)CCCCCCCC1(C(C)(C)C)C1CC2(CCC3CCC3CCCC12'\n",
      "RDKit ERROR: [05:16:02] Explicit valence for atom # 21 O, 3, is greater than permitted\n"
     ]
    },
    {
     "name": "stderr",
     "output_type": "stream",
     "text": [
      "RDKit ERROR: [05:16:02] SMILES Parse Error: extra close parentheses while parsing: CC(C)(C)C1CCC(C)C2CCC3CCCC3)CCCC12\n",
      "RDKit ERROR: [05:16:02] SMILES Parse Error: Failed parsing SMILES 'CC(C)(C)C1CCC(C)C2CCC3CCCC3)CCCC12' for input: 'CC(C)(C)C1CCC(C)C2CCC3CCCC3)CCCC12'\n",
      "RDKit ERROR: [05:16:02] Explicit valence for atom # 21 O, 3, is greater than permitted\n",
      "RDKit ERROR: [05:16:02] Explicit valence for atom # 21 O, 3, is greater than permitted\n",
      "RDKit ERROR: [05:16:02] SMILES Parse Error: ring closure 1 duplicates bond between atom 25 and atom 26 for input: 'O=C(NC1CC2CCC(C1)N2CCc1ccccc1)C1CO2CCC1C1(C1)C2C(=O)NC(Cc1ccccc1)C(=O)NC(Cc1ccccc1)C(=O)NC(Cc1ccccc1)C(=O)O'\n",
      "RDKit ERROR: [05:16:02] SMILES Parse Error: ring closure 2 duplicates bond between atom 9 and atom 25 for input: 'CC(C)(C)NC(=O)C1CC2(CC3CCC(C1)N3CCc1ccccc1)C2'\n",
      "RDKit ERROR: [05:16:02] SMILES Parse Error: extra open parentheses for input: 'CC(c1ccccc1)N(CC(O)C(Cc1ccccc1)NC(=O)C(Cc1ccccc1)NC(=O)C1C2CC(NC(=O)C(Cc3ccccc3)C(=O)NC(Cc3ccccc3)C(=O)O)CC1C2'\n",
      "RDKit ERROR: [05:16:02] SMILES Parse Error: extra open parentheses for input: 'CC1(CC(C(=O)NC(Cc2ccccc2)C(=O)O)CC1CC(O)C(Cc1ccccc1)NC(=O)C1C2CC(NC(=O)C(Cc3ccccc3)C(=O)NC(Cc3ccccc3)C(=O)O)CC1C2'\n",
      "RDKit ERROR: [05:16:02] Explicit valence for atom # 21 O, 3, is greater than permitted\n",
      "RDKit ERROR: [05:16:02] SMILES Parse Error: extra open parentheses for input: 'O=C(NC1CC2CCCC(C1)N2CCc1ccccc1)C1CC2(C(C1)C2c1ccccc1'\n",
      "RDKit ERROR: [05:16:02] Explicit valence for atom # 21 O, 3, is greater than permitted\n",
      "RDKit ERROR: [05:16:02] Explicit valence for atom # 21 O, 3, is greater than permitted\n",
      "RDKit ERROR: [05:16:02] SMILES Parse Error: extra open parentheses for input: 'CC1(CC(CC(O)C2(O)CCCC2)C(O)CO)CCCCCCCCCCCC1CC1(C(C)(C)C)CC(O)CC(C1)NC(=O)C(Cc1ccccc1)NC(=O)C1C2CC(NC(=O)C(Cc3ccccc3)C(=O)NC(Cc3c'\n",
      "RDKit ERROR: [05:16:02] SMILES Parse Error: extra close parentheses while parsing: O=C(NCC1(c2ccccc2)CC1)NC1CC2CCC(C1)N2CCc1ccccc1)C(=O)NC1CC2CC(C1)C2C(=O)NC(Cc1ccccc1)C(=O)NC(Cc1ccccc1)C(=O)O\n",
      "RDKit ERROR: [05:16:02] SMILES Parse Error: Failed parsing SMILES 'O=C(NCC1(c2ccccc2)CC1)NC1CC2CCC(C1)N2CCc1ccccc1)C(=O)NC1CC2CC(C1)C2C(=O)NC(Cc1ccccc1)C(=O)NC(Cc1ccccc1)C(=O)O' for input: 'O=C(NCC1(c2ccccc2)CC1)NC1CC2CCC(C1)N2CCc1ccccc1)C(=O)NC1CC2CC(C1)C2C(=O)NC(Cc1ccccc1)C(=O)NC(Cc1ccccc1)C(=O)O'\n"
     ]
    },
    {
     "name": "stdout",
     "output_type": "stream",
     "text": [
      "Validity:  95.40%\n",
      "Uniqueness:  6.06%\n",
      "Originality:  100.00%\n"
     ]
    }
   ],
   "source": [
    "valid_mols = []\n",
    "for smi in sampled_smiles:\n",
    "    mol = Chem.MolFromSmiles(smi)\n",
    "    if mol is not None:\n",
    "        valid_mols.append(mol)\n",
    "# low validity\n",
    "print('Validity: ', f'{len(valid_mols) / sample_number:.2%}')\n",
    "\n",
    "valid_smiles = [Chem.MolToSmiles(mol) for mol in valid_mols]\n",
    "# high uniqueness\n",
    "print('Uniqueness: ', f'{len(set(valid_smiles)) / len(valid_smiles):.2%}')\n",
    "\n",
    "# Of valid smiles generated, how many are truly original vs ocurring in the training data\n",
    "import pandas as pd\n",
    "training_data = pd.read_csv('./datasets/dataset_cleansed.smi', header=None)\n",
    "training_set = set(list(training_data[0]))\n",
    "original = []\n",
    "for smile in list(set(valid_smiles)):\n",
    "    if not smile in training_set:\n",
    "        original.append(smile)\n",
    "print('Originality: ', f'{len(set(original)) / len(set(valid_smiles)):.2%}')"
   ]
  },
  {
   "cell_type": "code",
   "execution_count": 36,
   "metadata": {},
   "outputs": [
    {
     "data": {
      "text/plain": [
       "289"
      ]
     },
     "execution_count": 36,
     "metadata": {},
     "output_type": "execute_result"
    }
   ],
   "source": [
    "valid_smiles = list(set(valid_smiles))\n",
    "len(valid_smiles)"
   ]
  },
  {
   "cell_type": "code",
   "execution_count": 37,
   "metadata": {},
   "outputs": [
    {
     "name": "stdout",
     "output_type": "stream",
     "text": [
      "idAAGOgen6\n",
      "idAAGPgen6\n",
      "idAAGQgen6\n",
      "idAAGRgen6\n",
      "idAAGSgen6\n",
      "idAAGTgen6\n",
      "idAAGUgen6\n",
      "idAAGVgen6\n",
      "idAAGWgen6\n",
      "idAAGXgen6\n",
      "idAAGYgen6\n",
      "idAAGZgen6\n",
      "idAAHAgen6\n",
      "idAAHBgen6\n",
      "idAAHCgen6\n",
      "idAAHDgen6\n",
      "idAAHEgen6\n",
      "idAAHFgen6\n",
      "idAAHGgen6\n",
      "idAAHHgen6\n",
      "idAAHIgen6\n",
      "idAAHJgen6\n",
      "idAAHKgen6\n",
      "idAAHLgen6\n",
      "idAAHMgen6\n",
      "idAAHNgen6\n",
      "idAAHOgen6\n",
      "idAAHPgen6\n",
      "idAAHQgen6\n",
      "idAAHRgen6\n",
      "idAAHSgen6\n",
      "idAAHTgen6\n",
      "idAAHUgen6\n",
      "idAAHVgen6\n",
      "idAAHWgen6\n",
      "idAAHXgen6\n",
      "idAAHYgen6\n",
      "idAAHZgen6\n",
      "idAAIAgen6\n",
      "idAAIBgen6\n",
      "idAAICgen6\n",
      "idAAIDgen6\n",
      "idAAIEgen6\n",
      "idAAIFgen6\n",
      "idAAIGgen6\n",
      "idAAIHgen6\n",
      "idAAIIgen6\n",
      "idAAIJgen6\n",
      "idAAIKgen6\n",
      "idAAILgen6\n",
      "idAAIMgen6\n",
      "idAAINgen6\n",
      "idAAIOgen6\n",
      "idAAIPgen6\n",
      "idAAIQgen6\n",
      "idAAIRgen6\n",
      "idAAISgen6\n",
      "idAAITgen6\n",
      "idAAIUgen6\n",
      "idAAIVgen6\n",
      "idAAIWgen6\n",
      "idAAIXgen6\n",
      "idAAIYgen6\n",
      "idAAIZgen6\n",
      "idAAJAgen6\n",
      "idAAJBgen6\n",
      "idAAJCgen6\n",
      "idAAJDgen6\n",
      "idAAJEgen6\n",
      "idAAJFgen6\n",
      "idAAJGgen6\n",
      "idAAJHgen6\n",
      "idAAJIgen6\n",
      "idAAJJgen6\n",
      "idAAJKgen6\n",
      "idAAJLgen6\n",
      "idAAJMgen6\n",
      "idAAJNgen6\n",
      "idAAJOgen6\n",
      "idAAJPgen6\n",
      "idAAJQgen6\n",
      "idAAJRgen6\n",
      "idAAJSgen6\n",
      "idAAJTgen6\n",
      "idAAJUgen6\n",
      "idAAJVgen6\n",
      "idAAJWgen6\n",
      "idAAJXgen6\n",
      "idAAJYgen6\n",
      "idAAJZgen6\n",
      "idAAKAgen6\n",
      "idAAKBgen6\n",
      "idAAKCgen6\n",
      "idAAKDgen6\n",
      "idAAKEgen6\n",
      "idAAKFgen6\n",
      "idAAKGgen6\n",
      "idAAKHgen6\n",
      "idAAKIgen6\n",
      "idAAKJgen6\n",
      "idAAKKgen6\n",
      "idAAKLgen6\n",
      "idAAKMgen6\n",
      "idAAKNgen6\n",
      "idAAKOgen6\n",
      "idAAKPgen6\n",
      "idAAKQgen6\n",
      "idAAKRgen6\n",
      "idAAKSgen6\n",
      "idAAKTgen6\n",
      "idAAKUgen6\n",
      "idAAKVgen6\n",
      "idAAKWgen6\n",
      "idAAKXgen6\n",
      "idAAKYgen6\n",
      "idAAKZgen6\n",
      "idAALAgen6\n",
      "idAALBgen6\n",
      "idAALCgen6\n",
      "idAALDgen6\n",
      "idAALEgen6\n",
      "idAALFgen6\n",
      "idAALGgen6\n",
      "idAALHgen6\n",
      "idAALIgen6\n",
      "idAALJgen6\n",
      "idAALKgen6\n",
      "idAALLgen6\n",
      "idAALMgen6\n",
      "idAALNgen6\n",
      "idAALOgen6\n",
      "idAALPgen6\n",
      "idAALQgen6\n",
      "idAALRgen6\n",
      "idAALSgen6\n",
      "idAALTgen6\n",
      "idAALUgen6\n",
      "idAALVgen6\n",
      "idAALWgen6\n",
      "idAALXgen6\n",
      "idAALYgen6\n",
      "idAALZgen6\n",
      "idAAMAgen6\n",
      "idAAMBgen6\n",
      "idAAMCgen6\n",
      "idAAMDgen6\n",
      "idAAMEgen6\n",
      "idAAMFgen6\n",
      "idAAMGgen6\n",
      "idAAMHgen6\n",
      "idAAMIgen6\n",
      "idAAMJgen6\n",
      "idAAMKgen6\n",
      "idAAMLgen6\n",
      "idAAMMgen6\n",
      "idAAMNgen6\n",
      "idAAMOgen6\n",
      "idAAMPgen6\n",
      "idAAMQgen6\n",
      "idAAMRgen6\n",
      "idAAMSgen6\n",
      "idAAMTgen6\n",
      "idAAMUgen6\n",
      "idAAMVgen6\n",
      "idAAMWgen6\n",
      "idAAMXgen6\n",
      "idAAMYgen6\n",
      "idAAMZgen6\n",
      "idAANAgen6\n",
      "idAANBgen6\n",
      "idAANCgen6\n",
      "idAANDgen6\n",
      "idAANEgen6\n",
      "idAANFgen6\n",
      "idAANGgen6\n",
      "idAANHgen6\n",
      "idAANIgen6\n",
      "idAANJgen6\n",
      "idAANKgen6\n",
      "idAANLgen6\n",
      "idAANMgen6\n",
      "idAANNgen6\n",
      "idAANOgen6\n",
      "idAANPgen6\n",
      "idAANQgen6\n",
      "idAANRgen6\n",
      "idAANSgen6\n",
      "idAANTgen6\n",
      "idAANUgen6\n",
      "idAANVgen6\n",
      "idAANWgen6\n",
      "idAANXgen6\n",
      "idAANYgen6\n",
      "idAANZgen6\n",
      "idAAOAgen6\n",
      "idAAOBgen6\n",
      "idAAOCgen6\n",
      "idAAODgen6\n",
      "idAAOEgen6\n",
      "idAAOFgen6\n",
      "idAAOGgen6\n",
      "idAAOHgen6\n",
      "idAAOIgen6\n",
      "idAAOJgen6\n",
      "idAAOKgen6\n",
      "idAAOLgen6\n",
      "idAAOMgen6\n",
      "idAAONgen6\n",
      "idAAOOgen6\n",
      "idAAOPgen6\n",
      "idAAOQgen6\n",
      "idAAORgen6\n",
      "idAAOSgen6\n",
      "idAAOTgen6\n",
      "idAAOUgen6\n",
      "idAAOVgen6\n",
      "idAAOWgen6\n",
      "idAAOXgen6\n",
      "idAAOYgen6\n",
      "idAAOZgen6\n",
      "idAAPAgen6\n",
      "idAAPBgen6\n",
      "idAAPCgen6\n",
      "idAAPDgen6\n",
      "idAAPEgen6\n",
      "idAAPFgen6\n",
      "idAAPGgen6\n",
      "idAAPHgen6\n",
      "idAAPIgen6\n",
      "idAAPJgen6\n",
      "idAAPKgen6\n",
      "idAAPLgen6\n",
      "idAAPMgen6\n",
      "idAAPNgen6\n",
      "idAAPOgen6\n",
      "idAAPPgen6\n",
      "idAAPQgen6\n",
      "idAAPRgen6\n",
      "idAAPSgen6\n",
      "idAAPTgen6\n",
      "idAAPUgen6\n",
      "idAAPVgen6\n",
      "idAAPWgen6\n",
      "idAAPXgen6\n",
      "idAAPYgen6\n",
      "idAAPZgen6\n",
      "idAAQAgen6\n",
      "idAAQBgen6\n",
      "idAAQCgen6\n",
      "idAAQDgen6\n",
      "idAAQEgen6\n",
      "idAAQFgen6\n",
      "idAAQGgen6\n",
      "idAAQHgen6\n",
      "idAAQIgen6\n",
      "idAAQJgen6\n",
      "idAAQKgen6\n",
      "idAAQLgen6\n",
      "idAAQMgen6\n",
      "idAAQNgen6\n",
      "idAAQOgen6\n",
      "idAAQPgen6\n",
      "idAAQQgen6\n",
      "idAAQRgen6\n",
      "idAAQSgen6\n",
      "idAAQTgen6\n",
      "idAAQUgen6\n",
      "idAAQVgen6\n",
      "idAAQWgen6\n",
      "idAAQXgen6\n",
      "idAAQYgen6\n",
      "idAAQZgen6\n",
      "idAARAgen6\n",
      "idAARBgen6\n",
      "idAARCgen6\n",
      "idAARDgen6\n",
      "idAAREgen6\n",
      "idAARFgen6\n",
      "idAARGgen6\n",
      "idAARHgen6\n",
      "idAARIgen6\n",
      "idAARJgen6\n",
      "idAARKgen6\n",
      "idAARLgen6\n",
      "idAARMgen6\n",
      "idAARNgen6\n",
      "idAAROgen6\n",
      "idAARPgen6\n",
      "idAARQgen6\n"
     ]
    }
   ],
   "source": [
    "#take the valid smiles from above and run them through process to add to tracking table and to generate next PyRx testing data\n",
    "mols_for_next_generation = validate_mols(valid_smiles)\n",
    "\n",
    "master_table = pd.read_csv('./generations/master_results_table_gen' + str(GLOBAL_GENERATION-1) +'.csv',sep=',')\n",
    "new_mols_to_test = append_to_tracking_table(master_table,mols_for_next_generation, 'generated', GLOBAL_GENERATION)\n",
    "mols_for_pd = new_mols_to_test[0]\n",
    "mols_for_export = new_mols_to_test[1]\n",
    "\n",
    "master_table = master_table.append(mols_for_pd)\n",
    "master_table = master_table.reset_index(drop=True)\n",
    "master_table.to_csv(r'./generations/master_results_table_gen' + str(GLOBAL_GENERATION) + '.csv', index=False)"
   ]
  },
  {
   "cell_type": "code",
   "execution_count": 38,
   "metadata": {},
   "outputs": [
    {
     "data": {
      "text/plain": [
       "289"
      ]
     },
     "execution_count": 38,
     "metadata": {},
     "output_type": "execute_result"
    }
   ],
   "source": [
    "len(mols_for_export)"
   ]
  },
  {
   "cell_type": "code",
   "execution_count": 39,
   "metadata": {},
   "outputs": [
    {
     "name": "stdout",
     "output_type": "stream",
     "text": [
      "ok\n"
     ]
    }
   ],
   "source": [
    "write_gen_to_sdf(mols_for_export, GLOBAL_GENERATION, 2000)\n",
    "print('ok')"
   ]
  },
  {
   "cell_type": "code",
   "execution_count": null,
   "metadata": {},
   "outputs": [],
   "source": []
  }
 ],
 "metadata": {
  "kernelspec": {
   "display_name": "Python 3",
   "language": "python",
   "name": "python3"
  },
  "language_info": {
   "codemirror_mode": {
    "name": "ipython",
    "version": 3
   },
   "file_extension": ".py",
   "mimetype": "text/x-python",
   "name": "python",
   "nbconvert_exporter": "python",
   "pygments_lexer": "ipython3",
   "version": "3.7.7"
  }
 },
 "nbformat": 4,
 "nbformat_minor": 4
}
