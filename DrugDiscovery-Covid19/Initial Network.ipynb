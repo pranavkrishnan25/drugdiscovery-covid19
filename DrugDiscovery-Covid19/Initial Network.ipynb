{
 "cells": [
  {
   "cell_type": "markdown",
   "metadata": {},
   "source": [
    "# Description\n",
    "\n",
    "This notebook is used to train a RNN (recurrent neural network) on the known universe of SMILES to learn to very accurately generate novel small molecules. We then use this initial network to generate our generation 0 (gen0) candidate molecules."
   ]
  },
  {
   "cell_type": "markdown",
   "metadata": {},
   "source": [
    "## Train the Network"
   ]
  },
  {
   "cell_type": "code",
   "execution_count": 1,
   "metadata": {},
   "outputs": [
    {
     "name": "stdout",
     "output_type": "stream",
     "text": [
      "WARNING:tensorflow:From <ipython-input-1-cff5e14f5db6>:2: is_gpu_available (from tensorflow.python.framework.test_util) is deprecated and will be removed in a future version.\n",
      "Instructions for updating:\n",
      "Use `tf.config.list_physical_devices('GPU')` instead.\n"
     ]
    },
    {
     "data": {
      "text/plain": [
       "True"
      ]
     },
     "execution_count": 1,
     "metadata": {},
     "output_type": "execute_result"
    }
   ],
   "source": [
    "import tensorflow\n",
    "print(tensorflow.test.is_gpu_available())\n",
    "print(tensorflow.config.list_physical_devices('GPU'))"
   ]
  },
  {
   "cell_type": "code",
   "execution_count": 3,
   "metadata": {},
   "outputs": [
    {
     "name": "stderr",
     "output_type": "stream",
     "text": [
      "Using TensorFlow backend.\n"
     ]
    }
   ],
   "source": [
    "import numpy as np\n",
    "from copy import copy\n",
    "\n",
    "import keras\n",
    "\n",
    "from lstm_chem.utils.config import process_config\n",
    "from lstm_chem.model import LSTMChem\n",
    "from lstm_chem.generator import LSTMChemGenerator\n",
    "from lstm_chem.trainer import LSTMChemTrainer\n",
    "from lstm_chem.data_loader import DataLoader"
   ]
  },
  {
   "cell_type": "code",
   "execution_count": 4,
   "metadata": {},
   "outputs": [],
   "source": [
    "CONFIG_FILE = './config/config.json'\n",
    "config = process_config(CONFIG_FILE)"
   ]
  },
  {
   "cell_type": "code",
   "execution_count": null,
   "metadata": {},
   "outputs": [],
   "source": [
    "modeler = LSTMChem(config, session='train')"
   ]
  },
  {
   "cell_type": "code",
   "execution_count": null,
   "metadata": {},
   "outputs": [],
   "source": [
    "train_dl = DataLoader(config, data_type='train')"
   ]
  },
  {
   "cell_type": "code",
   "execution_count": null,
   "metadata": {
    "scrolled": false
   },
   "outputs": [],
   "source": [
    "valid_dl = copy(train_dl)\n",
    "valid_dl.data_type = 'valid'"
   ]
  },
  {
   "cell_type": "code",
   "execution_count": null,
   "metadata": {
    "scrolled": true
   },
   "outputs": [],
   "source": [
    "trainer = LSTMChemTrainer(modeler, train_dl, valid_dl)"
   ]
  },
  {
   "cell_type": "code",
   "execution_count": null,
   "metadata": {},
   "outputs": [],
   "source": [
    "trainer.train()"
   ]
  },
  {
   "cell_type": "code",
   "execution_count": null,
   "metadata": {},
   "outputs": [],
   "source": [
    "# Save weights of the trained model\n",
    "trainer.model.save_weights('./checkpoints/LSTM_Chem-baseline-model-full.hdf5.hdf5')"
   ]
  },
  {
   "cell_type": "markdown",
   "metadata": {},
   "source": [
    "## Now load the model and GENERATE new molecules"
   ]
  },
  {
   "cell_type": "code",
   "execution_count": 5,
   "metadata": {},
   "outputs": [
    {
     "name": "stdout",
     "output_type": "stream",
     "text": [
      "batch_size: 512\n",
      "checkpoint_dir: experiments/2020-04-27/LSTM_Chem/checkpoints/\n",
      "checkpoint_mode: min\n",
      "checkpoint_monitor: val_loss\n",
      "checkpoint_save_best_only: false\n",
      "checkpoint_save_weights_only: true\n",
      "checkpoint_verbose: 1\n",
      "config_file: ./config/config.json\n",
      "data_filename: ./datasets/all_smiles_clean.smi\n",
      "data_length: 0\n",
      "exp_dir: experiments/2020-04-27/LSTM_Chem\n",
      "exp_name: LSTM_Chem\n",
      "finetune_batch_size: 1\n",
      "finetune_data_filename: ''\n",
      "finetune_epochs: 5\n",
      "model_arch_filename: ./config/model_arch.json\n",
      "model_weight_filename: ./checkpoints/LSTM_Chem-baseline-model-full.hdf5\n",
      "num_epochs: 42\n",
      "optimizer: adam\n",
      "sampling_temp: 0.75\n",
      "seed: 71\n",
      "smiles_max_length: 128\n",
      "tensorboard_log_dir: experiments/2020-04-27/LSTM_Chem/logs/\n",
      "tensorboard_write_graph: true\n",
      "train_smi_max_len: 128\n",
      "units: 256\n",
      "validation_split: 0.1\n",
      "verbose_training: true\n",
      "\n"
     ]
    }
   ],
   "source": [
    "config['model_weight_filename'] = './checkpoints/LSTM_Chem-baseline-model-full.hdf5'\n",
    "print(config)"
   ]
  },
  {
   "cell_type": "code",
   "execution_count": 6,
   "metadata": {
    "scrolled": false
   },
   "outputs": [
    {
     "name": "stdout",
     "output_type": "stream",
     "text": [
      "Loading model architecture from ./config/model_arch.json ...\n",
      "Loading model checkpoint from ./checkpoints/LSTM_Chem-baseline-model-full.hdf5 ...\n",
      "Loaded the Model.\n",
      "batch_size: 512\n",
      "checkpoint_dir: experiments/2020-04-27/LSTM_Chem/checkpoints/\n",
      "checkpoint_mode: min\n",
      "checkpoint_monitor: val_loss\n",
      "checkpoint_save_best_only: false\n",
      "checkpoint_save_weights_only: true\n",
      "checkpoint_verbose: 1\n",
      "config_file: ./config/config.json\n",
      "data_filename: ./datasets/all_smiles_clean.smi\n",
      "data_length: 0\n",
      "exp_dir: experiments/2020-04-27/LSTM_Chem\n",
      "exp_name: LSTM_Chem\n",
      "finetune_batch_size: 1\n",
      "finetune_data_filename: ''\n",
      "finetune_epochs: 5\n",
      "model_arch_filename: ./config/model_arch.json\n",
      "model_weight_filename: ./checkpoints/LSTM_Chem-baseline-model-full.hdf5\n",
      "num_epochs: 42\n",
      "optimizer: adam\n",
      "sampling_temp: 0.75\n",
      "seed: 71\n",
      "smiles_max_length: 128\n",
      "tensorboard_log_dir: experiments/2020-04-27/LSTM_Chem/logs/\n",
      "tensorboard_write_graph: true\n",
      "train_smi_max_len: 128\n",
      "units: 256\n",
      "validation_split: 0.1\n",
      "verbose_training: true\n",
      "\n"
     ]
    }
   ],
   "source": [
    "modeler = LSTMChem(config, session='generate')\n",
    "generator = LSTMChemGenerator(modeler)\n",
    "print(config)"
   ]
  },
  {
   "cell_type": "markdown",
   "metadata": {},
   "source": [
    "# sample_number = 10000\n",
    "sampled_smiles = generator.sample(num=sample_number)"
   ]
  },
  {
   "cell_type": "code",
   "execution_count": 8,
   "metadata": {},
   "outputs": [],
   "source": [
    "from rdkit import RDLogger, Chem, DataStructs\n",
    "from rdkit.Chem import AllChem, Draw, Descriptors\n",
    "from rdkit.Chem.Draw import IPythonConsole\n",
    "RDLogger.DisableLog('rdApp.*')"
   ]
  },
  {
   "cell_type": "code",
   "execution_count": 9,
   "metadata": {},
   "outputs": [
    {
     "name": "stdout",
     "output_type": "stream",
     "text": [
      "Validity:  74.32%\n",
      "Uniqueness:  16.78%\n",
      "Originality:  100.00%\n"
     ]
    }
   ],
   "source": [
    "valid_mols = []\n",
    "for smi in sampled_smiles:\n",
    "    mol = Chem.MolFromSmiles(smi)\n",
    "    if mol is not None:\n",
    "        valid_mols.append(mol)\n",
    "# low validity\n",
    "print('Validity: ', f'{len(valid_mols) / sample_number:.2%}')\n",
    "\n",
    "valid_smiles = [Chem.MolToSmiles(mol) for mol in valid_mols]\n",
    "# high uniqueness\n",
    "print('Uniqueness: ', f'{len(set(valid_smiles)) / len(valid_smiles):.2%}')\n",
    "\n",
    "# Of valid smiles generated, how many are truly original vs ocurring in the training data\n",
    "import pandas as pd\n",
    "training_data = pd.read_csv('./datasets/dataset_cleansed.smi', header=None)\n",
    "training_set = set(list(training_data[0]))\n",
    "original = []\n",
    "for smile in valid_smiles:\n",
    "    if not smile in training_set:\n",
    "        original.append(smile)\n",
    "print('Originality: ', f'{len(set(original)) / len(set(valid_smiles)):.2%}')"
   ]
  },
  {
   "cell_type": "code",
   "execution_count": 12,
   "metadata": {},
   "outputs": [],
   "source": [
    "with open('./generations/gen0.smi', 'w') as f:\n",
    "    for item in valid_smiles:\n",
    "        f.write(\"%s\\n\" % item)"
   ]
  },
  {
   "cell_type": "code",
   "execution_count": null,
   "metadata": {},
   "outputs": [],
   "source": []
  }
 ],
 "metadata": {
  "kernelspec": {
   "display_name": "Python 3",
   "language": "python",
   "name": "python3"
  },
  "language_info": {
   "codemirror_mode": {
    "name": "ipython",
    "version": 3
   },
   "file_extension": ".py",
   "mimetype": "text/x-python",
   "name": "python",
   "nbconvert_exporter": "python",
   "pygments_lexer": "ipython3",
   "version": "3.7.7"
  }
 },
 "nbformat": 4,
 "nbformat_minor": 4
}
